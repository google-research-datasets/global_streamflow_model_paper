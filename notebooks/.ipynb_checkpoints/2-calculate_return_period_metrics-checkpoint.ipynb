{
 "cells": [
  {
   "cell_type": "markdown",
   "metadata": {
    "id": "dzNFopjta4Ln"
   },
   "source": [
    "# Imports"
   ]
  },
  {
   "cell_type": "code",
   "execution_count": 5,
   "metadata": {},
   "outputs": [
    {
     "name": "stdout",
     "output_type": "stream",
     "text": [
      "The autoreload extension is already loaded. To reload it, use:\n",
      "  %reload_ext autoreload\n"
     ]
    }
   ],
   "source": [
    "%load_ext autoreload\n",
    "%autoreload 2"
   ]
  },
  {
   "cell_type": "code",
   "execution_count": 6,
   "metadata": {
    "executionInfo": {
     "elapsed": 3755,
     "status": "ok",
     "timestamp": 1683956288771,
     "user": {
      "displayName": "Grey Nearing",
      "userId": "00389065855797486266"
     },
     "user_tz": 420
    },
    "id": "HGO-zC7TxOSg"
   },
   "outputs": [],
   "source": [
    "import pickle as pkl\n",
    "import xarray"
   ]
  },
  {
   "cell_type": "code",
   "execution_count": 30,
   "metadata": {
    "executionInfo": {
     "elapsed": 10376,
     "status": "ok",
     "timestamp": 1683956299494,
     "user": {
      "displayName": "Grey Nearing",
      "userId": "00389065855797486266"
     },
     "user_tz": 420
    },
    "id": "vMru6zQLMOVN"
   },
   "outputs": [],
   "source": [
    "from backend import data_paths\n",
    "from backend import evaluation_utils\n",
    "from backend import gauge_groups_utils\n",
    "from backend import loading_utils\n",
    "from backend import metrics_utils\n",
    "from backend import return_period_metrics"
   ]
  },
  {
   "cell_type": "code",
   "execution_count": 8,
   "metadata": {},
   "outputs": [],
   "source": [
    "RESTART = True"
   ]
  },
  {
   "cell_type": "markdown",
   "metadata": {
    "id": "PVucJMQLqcsd"
   },
   "source": [
    "# Load Data"
   ]
  },
  {
   "cell_type": "markdown",
   "metadata": {},
   "source": [
    "## Experiments"
   ]
  },
  {
   "cell_type": "code",
   "execution_count": null,
   "metadata": {},
   "outputs": [],
   "source": [
    "GOOGLE_EXPERIMENTS = ['kfold_splits']\n",
    "GLOFAS_EXPERIMENTS = [metrics_utils.GLOFAS_VARIABLE]"
   ]
  },
  {
   "cell_type": "markdown",
   "metadata": {},
   "source": [
    "## Model Data"
   ]
  },
  {
   "cell_type": "markdown",
   "metadata": {},
   "source": [
    "### GloFAS Data"
   ]
  },
  {
   "cell_type": "code",
   "execution_count": null,
   "metadata": {},
   "outputs": [],
   "source": [
    "all_gauges = gauge_groups_utils.get_full_gauge_group()\n",
    "# all_gauges = all_gauges[50:100]\n",
    "print(f'There are {len(all_gauges)} gauges.')"
   ]
  },
  {
   "cell_type": "code",
   "execution_count": null,
   "metadata": {},
   "outputs": [],
   "source": [
    "glofas_model_runs = loading_utils.load_glofas_model_runs(gauges=all_gauges)"
   ]
  },
  {
   "cell_type": "markdown",
   "metadata": {},
   "source": [
    "### Google Data"
   ]
  },
  {
   "cell_type": "code",
   "execution_count": null,
   "metadata": {},
   "outputs": [],
   "source": [
    "google_model_runs = loading_utils.load_all_experimental_model_runs(\n",
    "    gauges=gauges,\n",
    "    experiments=GOOGLE_EXPERIMENTS\n",
    ")"
   ]
  },
  {
   "cell_type": "markdown",
   "metadata": {},
   "source": [
    "### GRDC Data"
   ]
  },
  {
   "cell_type": "code",
   "execution_count": null,
   "metadata": {},
   "outputs": [],
   "source": [
    "grdc_observation_data = loading_utils.load_grdc_data()"
   ]
  },
  {
   "cell_type": "markdown",
   "metadata": {},
   "source": [
    "## Overlapping Gauge Groups"
   ]
  },
  {
   "cell_type": "code",
   "execution_count": 33,
   "metadata": {},
   "outputs": [
    {
     "name": "stdout",
     "output_type": "stream",
     "text": [
      "Working on experiment: kfold_splits\n"
     ]
    },
    {
     "name": "stderr",
     "output_type": "stream",
     "text": [
      "100%|█████████████████████████████████████████████████████████████████████████████████████████████████████████████████████████████████████████████████████████████████████████████████████████████████████████████████████| 4089/4089 [01:21<00:00, 50.45it/s]\n"
     ]
    },
    {
     "ename": "AttributeError",
     "evalue": "'set' object has no attribute 'intersect'",
     "output_type": "error",
     "traceback": [
      "\u001b[0;31m---------------------------------------------------------------------------\u001b[0m",
      "\u001b[0;31mAttributeError\u001b[0m                            Traceback (most recent call last)",
      "Cell \u001b[0;32mIn[33], line 10\u001b[0m\n\u001b[1;32m      4\u001b[0m google_model_runs \u001b[38;5;241m=\u001b[39m loading_utils\u001b[38;5;241m.\u001b[39mload_all_experimental_model_runs(\n\u001b[1;32m      5\u001b[0m     gauges\u001b[38;5;241m=\u001b[39mglofas_gauges,\n\u001b[1;32m      6\u001b[0m     experiments\u001b[38;5;241m=\u001b[39m[\u001b[38;5;124m'\u001b[39m\u001b[38;5;124mkfold_splits\u001b[39m\u001b[38;5;124m'\u001b[39m]\n\u001b[1;32m      7\u001b[0m )\n\u001b[1;32m      8\u001b[0m google_gauges \u001b[38;5;241m=\u001b[39m \u001b[38;5;28mset\u001b[39m(google_model_runs[\u001b[38;5;124m'\u001b[39m\u001b[38;5;124mkfold_splits\u001b[39m\u001b[38;5;124m'\u001b[39m]\u001b[38;5;241m.\u001b[39mgauge_id\u001b[38;5;241m.\u001b[39mvalues)\n\u001b[0;32m---> 10\u001b[0m gauges \u001b[38;5;241m=\u001b[39m \u001b[38;5;28mlist\u001b[39m(\u001b[43mglofas_gauges\u001b[49m\u001b[38;5;241;43m.\u001b[39;49m\u001b[43mintersect\u001b[49m(google_gauges))\n\u001b[1;32m     11\u001b[0m \u001b[38;5;28mprint\u001b[39m(\u001b[38;5;124mf\u001b[39m\u001b[38;5;124m'\u001b[39m\u001b[38;5;124mThere are \u001b[39m\u001b[38;5;132;01m{\u001b[39;00m\u001b[38;5;28mlen\u001b[39m(gauges)\u001b[38;5;132;01m}\u001b[39;00m\u001b[38;5;124m gauges.\u001b[39m\u001b[38;5;124m'\u001b[39m)\n",
      "\u001b[0;31mAttributeError\u001b[0m: 'set' object has no attribute 'intersect'"
     ]
    }
   ],
   "source": [
    "glofas_gauges = set(glofas_model_runs.gauge_id.values)\n",
    "google_gauges = set(google_model_runs[GOOGLE_EXPERIMENTS[0]].gauge_id.values)\n",
    "gauges = list(glofas_gauges.intersection(google_gauges))\n",
    "print(f'There are {len(gauges)} gauges that exist for both models.')"
   ]
  },
  {
   "cell_type": "markdown",
   "metadata": {},
   "source": [
    "# Time Periods"
   ]
  },
  {
   "cell_type": "code",
   "execution_count": 35,
   "metadata": {},
   "outputs": [],
   "source": [
    "google_validation_time_periods = {\n",
    "    gauge: ['2014-01-01', '2023-01-01'] for gauge in gauges\n",
    "}"
   ]
  },
  {
   "cell_type": "markdown",
   "metadata": {
    "id": "KOvnxnO5d_vD"
   },
   "source": [
    "# Google Model Metrics"
   ]
  },
  {
   "cell_type": "code",
   "execution_count": 36,
   "metadata": {},
   "outputs": [
    {
     "name": "stdout",
     "output_type": "stream",
     "text": [
      "There are 0 (out of 4089) missing gauges in experiemnt kfold_splits.\n"
     ]
    }
   ],
   "source": [
    "# Count missing gauges per experiment.\n",
    "for experiment in google_model_runs:\n",
    "    missing_gauges = set(gauges) - set(google_model_runs[experiment].gauge_id.values)\n",
    "    print(f'There are {len(missing_gauges)} (out of {len(gauges)}) missing gauges in experiemnt {experiment}.')"
   ]
  },
  {
   "cell_type": "code",
   "execution_count": 38,
   "metadata": {},
   "outputs": [],
   "source": [
    "# Add observation data to model run xarrays, and delete redundant varaible to save memory.\n",
    "for experiment in google_model_runs.keys():\n",
    "    google_model_runs[experiment] = xarray.merge(\n",
    "        [google_model_runs[experiment], grdc_observation_data])"
   ]
  },
  {
   "cell_type": "markdown",
   "metadata": {},
   "source": [
    "## Metrics: 2014 - Present"
   ]
  },
  {
   "cell_type": "code",
   "execution_count": null,
   "metadata": {},
   "outputs": [],
   "source": [
    "working_path = data_paths.GOOGLE_2014_RETURN_PERIOD_METRICS_DIR\n",
    "experiments = GOOGLE_EXPERIMENTS\n",
    "gauge_list = gauges\n",
    "ds_dict = google_model_runs\n",
    "evaluation_time_periods = google_validation_time_periods\n",
    "lead_times = None\n",
    "\n",
    "missing_gauges = return_period_metrics.compute_metrics(\n",
    "    restart=RESTART,\n",
    "    working_path=working_path,\n",
    "    experiments=experiments,\n",
    "    gauge_list=gauge_list,\n",
    "    sim_variable=metrics_utils.GOOGLE_VARIABLE,\n",
    "    obs_variable=metrics_utils.OBS_VARIABLE,\n",
    "    ds_dict=ds_dict,\n",
    "    evaluation_time_periods=evaluation_time_periods,\n",
    "    lead_times=lead_times\n",
    ")"
   ]
  },
  {
   "cell_type": "code",
   "execution_count": null,
   "metadata": {},
   "outputs": [],
   "source": [
    "for experiment in experiments:\n",
    "    print(f'Experiment {experiment} has {len(missing_gauges[experiment])} missing gauges.')"
   ]
  },
  {
   "cell_type": "code",
   "execution_count": null,
   "metadata": {},
   "outputs": [],
   "source": [
    "metrics = metrics_utils.load_metrics_df(\n",
    "    filepath=working_path / experiment / 'precision' / f'{gauges[0]}.csv')\n",
    "metrics"
   ]
  },
  {
   "cell_type": "markdown",
   "metadata": {
    "id": "8_gz12ner_iY"
   },
   "source": [
    "## Metrics: 1980 - Present"
   ]
  },
  {
   "cell_type": "code",
   "execution_count": null,
   "metadata": {
    "executionInfo": {
     "elapsed": 171999,
     "status": "ok",
     "timestamp": 1678974843460,
     "user": {
      "displayName": "Grey Nearing",
      "userId": "00389065855797486266"
     },
     "user_tz": -120
    },
    "id": "YNMuFv9zr_io",
    "outputId": "1ab0d24d-63b7-4cb0-c4d1-f2bd14df98f9"
   },
   "outputs": [
    {
     "name": "stdout",
     "output_type": "stream",
     "text": [
      "Working on experiment: kfold_splits ...\n"
     ]
    },
    {
     "name": "stderr",
     "output_type": "stream",
     "text": [
      " 23%|█████████████████████████████████████████████████▉                                                                                                                                                                    | 955/4089 [06:18<20:22,  2.56it/s]"
     ]
    }
   ],
   "source": [
    "working_path = data_paths.GOOGLE_1980_RETURN_PERIOD_METRICS_DIR\n",
    "experiments = GOOGLE_EXPERIMENTS\n",
    "gauge_list = gauges\n",
    "ds_dict = google_model_runs\n",
    "evaluation_time_periods = None\n",
    "lead_times = [0]\n",
    "\n",
    "missing_gauges = return_period_metrics.compute_metrics(\n",
    "    restart=RESTART,\n",
    "    working_path=working_path,\n",
    "    experiments=experiments,\n",
    "    gauge_list=gauge_list,\n",
    "    sim_variable=metrics_utils.GOOGLE_VARIABLE,\n",
    "    obs_variable=metrics_utils.OBS_VARIABLE,\n",
    "    ds_dict=ds_dict,\n",
    "    evaluation_time_periods=evaluation_time_periods,\n",
    "    lead_times=lead_times\n",
    ")"
   ]
  },
  {
   "cell_type": "code",
   "execution_count": null,
   "metadata": {},
   "outputs": [],
   "source": [
    "for experiment in experiments:\n",
    "    print(f'Experiment {experiment} has {len(missing_gauges[experiment])} missing gauges.')"
   ]
  },
  {
   "cell_type": "code",
   "execution_count": null,
   "metadata": {},
   "outputs": [],
   "source": [
    "metrics = metrics_utils.load_metrics_df(\n",
    "    filepath=working_path / experiment / 'precision' / f'{gauges[0]}.csv')\n",
    "metrics"
   ]
  },
  {
   "cell_type": "markdown",
   "metadata": {},
   "source": [
    "## Delete Variables to Clear Memory"
   ]
  },
  {
   "cell_type": "code",
   "execution_count": null,
   "metadata": {},
   "outputs": [],
   "source": [
    "del google_model_runs"
   ]
  },
  {
   "cell_type": "markdown",
   "metadata": {
    "id": "dIRc3y2R0xip"
   },
   "source": [
    "# GloFAS"
   ]
  },
  {
   "cell_type": "markdown",
   "metadata": {},
   "source": [
    "## Load Data: GloFAS"
   ]
  },
  {
   "cell_type": "code",
   "execution_count": 18,
   "metadata": {},
   "outputs": [],
   "source": [
    "glofas_model_runs = loading_utils.load_glofas_model_runs(gauges=gauges)"
   ]
  },
  {
   "cell_type": "code",
   "execution_count": null,
   "metadata": {},
   "outputs": [],
   "source": [
    "# Count missing gauges.\n",
    "missing_gauges = len(gauges) - len(glofas_model_runs.gauge_id)\n",
    "print(f'There are {missing_gauges} (out of {len(gauges)}) missing gauges in glofas runs.')\n",
    "\n",
    "glofas_gauges = list(set(glofas_model_runs.gauge_id.values))"
   ]
  },
  {
   "cell_type": "code",
   "execution_count": null,
   "metadata": {},
   "outputs": [],
   "source": [
    "# Merge everything into one large xarray.\n",
    "# This xarray merge takes ... forever ...\n",
    "glofas_model_runs = xarray.merge(\n",
    "    [glofas_model_runs, grdc_observation_data.sel(lead_time=0)])"
   ]
  },
  {
   "cell_type": "markdown",
   "metadata": {},
   "source": [
    "## Metrics: 2014 - Present"
   ]
  },
  {
   "cell_type": "code",
   "execution_count": null,
   "metadata": {},
   "outputs": [],
   "source": [
    "working_path = data_paths.GLOFAS_2014_RETURN_PERIOD_METRICS_DIR\n",
    "experiments = GLOFAS_EXPERIMENTS\n",
    "gauge_list = gauges\n",
    "ds_dict = {metrics_utils.GLOFAS_VARIABLE: glofas_model_runs}\n",
    "evaluation_time_periods = google_validation_time_periods\n",
    "lead_times = [0]\n",
    "\n",
    "missing_gauges = return_period_metrics.compute_metrics(\n",
    "    restart=RESTART,\n",
    "    working_path=working_path,\n",
    "    experiments=experiments,\n",
    "    gauge_list=gauge_list,\n",
    "    sim_variable=metrics_utils.GLOFAS_VARIABLE,\n",
    "    obs_variable=metrics_utils.UNNORMALIZED_OBS_VARIABLE,\n",
    "    ds_dict=ds_dict,\n",
    "    evaluation_time_periods=evaluation_time_periods,\n",
    "    lead_times=lead_times\n",
    ")"
   ]
  },
  {
   "cell_type": "code",
   "execution_count": null,
   "metadata": {},
   "outputs": [],
   "source": [
    "for experiment in experiments:\n",
    "    print(f'Experiment {experiment} has {len(missing_gauges[experiment])} missing gauges.')"
   ]
  },
  {
   "cell_type": "code",
   "execution_count": null,
   "metadata": {},
   "outputs": [],
   "source": [
    "metrics = metrics_utils.load_metrics_df(\n",
    "    filepath=working_path / experiment / 'precision' / f'{gauges[0]}.csv')\n",
    "metrics"
   ]
  },
  {
   "cell_type": "markdown",
   "metadata": {},
   "source": [
    "## Metrics: 1980 - Present"
   ]
  },
  {
   "cell_type": "code",
   "execution_count": null,
   "metadata": {},
   "outputs": [],
   "source": [
    "working_path = data_paths.GLOFAS_1980_RETURN_PERIOD_METRICS_DIR\n",
    "experiments = GLOFAS_EXPERIMENTS\n",
    "gauge_list = gauges\n",
    "ds_dict = {metrics_utils.GLOFAS_VARIABLE: glofas_model_runs}\n",
    "evaluation_time_periods = None\n",
    "lead_times = [0]\n",
    "\n",
    "missing_gauges = return_period_metrics.compute_metrics(\n",
    "    restart=RESTART,\n",
    "    working_path=working_path,\n",
    "    experiments=experiments,\n",
    "    gauge_list=gauge_list,\n",
    "    sim_variable=metrics_utils.GLOFAS_VARIABLE,\n",
    "    obs_variable=metrics_utils.UNNORMALIZED_OBS_VARIABLE,\n",
    "    ds_dict=ds_dict,\n",
    "    evaluation_time_periods=evaluation_time_periods,\n",
    "    lead_times=lead_times\n",
    ")"
   ]
  },
  {
   "cell_type": "code",
   "execution_count": null,
   "metadata": {},
   "outputs": [],
   "source": [
    "for experiment in experiments:\n",
    "    print(f'Experiment {experiment} has {len(missing_gauges[experiment])} missing gauges.')"
   ]
  },
  {
   "cell_type": "code",
   "execution_count": null,
   "metadata": {},
   "outputs": [],
   "source": [
    "metrics = metrics_utils.load_metrics_df(\n",
    "    filepath=working_path / experiment / 'precision' / f'{gauges[0]}.csv')\n",
    "metrics"
   ]
  },
  {
   "cell_type": "markdown",
   "metadata": {},
   "source": [
    "# Collect Return Period Metrics in Pickle Files"
   ]
  },
  {
   "cell_type": "code",
   "execution_count": null,
   "metadata": {},
   "outputs": [],
   "source": [
    "_DATASET_RETURN_PERIOD_METRICS_PATH = {\n",
    "    'google_2014': data_paths.GOOGLE_2014_RETURN_PERIOD_METRICS_DIR,\n",
    "    'google_1980': data_paths.GOOGLE_1980_RETURN_PERIOD_METRICS_DIR,\n",
    "    'glofas_2014': data_paths.GLOFAS_2014_RETURN_PERIOD_METRICS_DIR,\n",
    "    'glofas_1980': data_paths.GLOFAS_1980_RETURN_PERIOD_METRICS_DIR,\n",
    "}"
   ]
  },
  {
   "cell_type": "code",
   "execution_count": null,
   "metadata": {},
   "outputs": [],
   "source": [
    "from backend import data_paths\n",
    "\n",
    "precisions_by_lead_time = {}\n",
    "recalls_by_lead_time = {}\n",
    "\n",
    "precisions_by_return_period = {}\n",
    "recalls_by_return_period = {}\n",
    "\n",
    "loading_utils.create_remote_folder_if_necessary(data_paths.CONCATENATED_RETURN_PERIOD_DICTS_DIR)\n",
    "\n",
    "for dataset, data_path in _DATASET_RETURN_PERIOD_METRICS_PATH.items():\n",
    "\n",
    "    print(f'Working on {dataset} ...')\n",
    "\n",
    "    file_path = data_paths.CONCATENATED_RETURN_PERIOD_DICTS_DIR / f'{dataset}_return_period_dicts.pkl'\n",
    "\n",
    "    if 'glofas' in dataset:\n",
    "        experiments = GLOFAS_EXPERIMENTS\n",
    "    else:\n",
    "        experiments = GOOGLE_EXPERIMENTS\n",
    "\n",
    "    precisions_by_lead_time[dataset] = evaluation_utils.load_return_period_metrics(\n",
    "        base_path=data_path,\n",
    "        experiments=experiments,\n",
    "        gauges=gauges,\n",
    "        metric='precision'\n",
    "    )\n",
    "    recalls_by_lead_time[dataset] = evaluation_utils.load_return_period_metrics(\n",
    "        base_path=data_path,\n",
    "        experiments=experiments,\n",
    "        gauges=gauges,\n",
    "        metric='recall'\n",
    "    )\n",
    "\n",
    "    with open(file_path, 'wb') as f:\n",
    "        pkl.dump(\n",
    "            [\n",
    "                precisions_by_lead_time[dataset],\n",
    "                recalls_by_lead_time[dataset],\n",
    "            ], f\n",
    "        )\n",
    "\n",
    "    print(f'Finished with {dataset}. \\n')"
   ]
  },
  {
   "cell_type": "code",
   "execution_count": null,
   "metadata": {},
   "outputs": [],
   "source": []
  }
 ],
 "metadata": {
  "colab": {
   "last_runtime": {
    "build_target": "//intelligence/flood_forecasting/colab:notebook",
    "kind": "private"
   },
   "provenance": [
    {
     "file_id": "18Q7SqYfIiUY2tbHk_wSE4xwAF53pF0bK",
     "timestamp": 1677256000296
    },
    {
     "file_id": "1U5lV5oB6crQAV7-OLTxegU4Dathhwd8Q",
     "timestamp": 1676807730788
    }
   ]
  },
  "kernelspec": {
   "display_name": "Python 3 (ipykernel)",
   "language": "python",
   "name": "python3"
  },
  "language_info": {
   "codemirror_mode": {
    "name": "ipython",
    "version": 3
   },
   "file_extension": ".py",
   "mimetype": "text/x-python",
   "name": "python",
   "nbconvert_exporter": "python",
   "pygments_lexer": "ipython3",
   "version": "3.11.4"
  }
 },
 "nbformat": 4,
 "nbformat_minor": 1
}
