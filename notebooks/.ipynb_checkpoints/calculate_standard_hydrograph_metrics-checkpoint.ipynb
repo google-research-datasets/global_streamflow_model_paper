{
 "cells": [
  {
   "cell_type": "markdown",
   "metadata": {
    "id": "dzNFopjta4Ln"
   },
   "source": [
    "# Imports"
   ]
  },
  {
   "cell_type": "code",
   "execution_count": 1,
   "metadata": {},
   "outputs": [],
   "source": [
    "%load_ext autoreload\n",
    "%autoreload 2"
   ]
  },
  {
   "cell_type": "code",
   "execution_count": 2,
   "metadata": {
    "id": "cCMJTSHMHjOT"
   },
   "outputs": [],
   "source": [
    "import numpy as np\n",
    "import xarray"
   ]
  },
  {
   "cell_type": "code",
   "execution_count": 4,
   "metadata": {
    "id": "vMru6zQLMOVN"
   },
   "outputs": [],
   "source": [
    "from backend import loading_utils\n",
    "from backend import data_paths\n",
    "from backend import gauge_groups_utils\n",
    "from backend import metrics_utils\n",
    "from backend import evaluation_utils"
   ]
  },
  {
   "cell_type": "code",
   "execution_count": 5,
   "metadata": {},
   "outputs": [],
   "source": [
    "RESTART = True"
   ]
  },
  {
   "cell_type": "markdown",
   "metadata": {
    "id": "PVucJMQLqcsd"
   },
   "source": [
    "# Metadata"
   ]
  },
  {
   "cell_type": "markdown",
   "metadata": {},
   "source": [
    "## Gauge Groups"
   ]
  },
  {
   "cell_type": "code",
   "execution_count": 6,
   "metadata": {
    "executionInfo": {
     "elapsed": 63,
     "status": "ok",
     "timestamp": 1684109005131,
     "user": {
      "displayName": "Grey Nearing",
      "userId": "00389065855797486266"
     },
     "user_tz": 420
    },
    "id": "Ak8EySNIqenW",
    "outputId": "5966e743-725a-4945-e66f-728f57b95294"
   },
   "outputs": [
    {
     "name": "stdout",
     "output_type": "stream",
     "text": [
      "There are 5678 gauges.\n"
     ]
    }
   ],
   "source": [
    "gauges = gauge_groups_utils.get_full_gauge_group()\n",
    "print(f'There are {len(gauges)} gauges.')"
   ]
  },
  {
   "cell_type": "code",
   "execution_count": 7,
   "metadata": {},
   "outputs": [],
   "source": [
    "# gauges = gauges[50:100]"
   ]
  },
  {
   "cell_type": "markdown",
   "metadata": {
    "id": "HJxHtmXStyef"
   },
   "source": [
    "# Google"
   ]
  },
  {
   "cell_type": "code",
   "execution_count": 8,
   "metadata": {
    "id": "aihP-c3wxWtO"
   },
   "outputs": [],
   "source": [
    "_EXPERIMENTS = data_paths.EXPERIMENTS"
   ]
  },
  {
   "cell_type": "markdown",
   "metadata": {
    "id": "NecB-jekVGJl"
   },
   "source": [
    "## Load Data: Google Model Runs"
   ]
  },
  {
   "cell_type": "code",
   "execution_count": 9,
   "metadata": {
    "executionInfo": {
     "elapsed": 1819612,
     "status": "ok",
     "timestamp": 1684110828343,
     "user": {
      "displayName": "Grey Nearing",
      "userId": "00389065855797486266"
     },
     "user_tz": 420
    },
    "id": "qqWdVfgsewbH",
    "outputId": "7b72dc9c-2f81-4040-b7cf-86670a581662"
   },
   "outputs": [
    {
     "name": "stdout",
     "output_type": "stream",
     "text": [
      "Working on experiment: kfold_splits\n"
     ]
    },
    {
     "name": "stderr",
     "output_type": "stream",
     "text": [
      "100%|███████████████████████████████████████████████████████████████████████████████████████████████████████████████████████████████████████████████████████████████████████████████████████████████████████████████████| 5678/5678 [00:00<00:00, 8989.53it/s]\n"
     ]
    },
    {
     "ename": "ValueError",
     "evalue": "must supply at least one object to concatenate",
     "output_type": "error",
     "traceback": [
      "\u001b[0;31m---------------------------------------------------------------------------\u001b[0m",
      "\u001b[0;31mStopIteration\u001b[0m                             Traceback (most recent call last)",
      "File \u001b[0;32m~/miniconda3/envs/global-modeling-paper/lib/python3.11/site-packages/xarray/core/concat.py:221\u001b[0m, in \u001b[0;36mconcat\u001b[0;34m(objs, dim, data_vars, coords, compat, positions, fill_value, join, combine_attrs)\u001b[0m\n\u001b[1;32m    220\u001b[0m \u001b[38;5;28;01mtry\u001b[39;00m:\n\u001b[0;32m--> 221\u001b[0m     first_obj, objs \u001b[38;5;241m=\u001b[39m \u001b[43mutils\u001b[49m\u001b[38;5;241;43m.\u001b[39;49m\u001b[43mpeek_at\u001b[49m\u001b[43m(\u001b[49m\u001b[43mobjs\u001b[49m\u001b[43m)\u001b[49m\n\u001b[1;32m    222\u001b[0m \u001b[38;5;28;01mexcept\u001b[39;00m \u001b[38;5;167;01mStopIteration\u001b[39;00m:\n",
      "File \u001b[0;32m~/miniconda3/envs/global-modeling-paper/lib/python3.11/site-packages/xarray/core/utils.py:184\u001b[0m, in \u001b[0;36mpeek_at\u001b[0;34m(iterable)\u001b[0m\n\u001b[1;32m    183\u001b[0m gen \u001b[38;5;241m=\u001b[39m \u001b[38;5;28miter\u001b[39m(iterable)\n\u001b[0;32m--> 184\u001b[0m peek \u001b[38;5;241m=\u001b[39m \u001b[38;5;28;43mnext\u001b[39;49m\u001b[43m(\u001b[49m\u001b[43mgen\u001b[49m\u001b[43m)\u001b[49m\n\u001b[1;32m    185\u001b[0m \u001b[38;5;28;01mreturn\u001b[39;00m peek, itertools\u001b[38;5;241m.\u001b[39mchain([peek], gen)\n",
      "\u001b[0;31mStopIteration\u001b[0m: ",
      "\nDuring handling of the above exception, another exception occurred:\n",
      "\u001b[0;31mValueError\u001b[0m                                Traceback (most recent call last)",
      "Cell \u001b[0;32mIn[9], line 1\u001b[0m\n\u001b[0;32m----> 1\u001b[0m google_model_runs \u001b[38;5;241m=\u001b[39m \u001b[43mloading_utils\u001b[49m\u001b[38;5;241;43m.\u001b[39;49m\u001b[43mload_all_experimental_model_runs\u001b[49m\u001b[43m(\u001b[49m\n\u001b[1;32m      2\u001b[0m \u001b[43m  \u001b[49m\u001b[43mgauges\u001b[49m\u001b[38;5;241;43m=\u001b[39;49m\u001b[43mgauges\u001b[49m\u001b[43m,\u001b[49m\n\u001b[1;32m      3\u001b[0m \u001b[43m)\u001b[49m\n",
      "File \u001b[0;32m~/github_repo/global_streamflow_model_paper/notebooks/backend/loading_utils.py:430\u001b[0m, in \u001b[0;36mload_all_experimental_model_runs\u001b[0;34m(gauges)\u001b[0m\n\u001b[1;32m    425\u001b[0m \u001b[38;5;28;01mdef\u001b[39;00m \u001b[38;5;21mload_all_experimental_model_runs\u001b[39m(\n\u001b[1;32m    426\u001b[0m     gauges: \u001b[38;5;28mlist\u001b[39m[\u001b[38;5;28mstr\u001b[39m],\n\u001b[1;32m    427\u001b[0m ) \u001b[38;5;241m-\u001b[39m\u001b[38;5;241m>\u001b[39m \u001b[38;5;28mdict\u001b[39m[\u001b[38;5;28mstr\u001b[39m, xarray\u001b[38;5;241m.\u001b[39mDataset]:\n\u001b[1;32m    428\u001b[0m \u001b[38;5;250m    \u001b[39m\u001b[38;5;124;03m\"\"\"Loads all runs for all Google model experiments.\"\"\"\u001b[39;00m\n\u001b[0;32m--> 430\u001b[0m     \u001b[38;5;28;01mreturn\u001b[39;00m \u001b[43m{\u001b[49m\n\u001b[1;32m    431\u001b[0m \u001b[43m        \u001b[49m\u001b[43mexperiment\u001b[49m\u001b[43m:\u001b[49m\u001b[43m \u001b[49m\u001b[43mload_ungauged_experiment_model_runs\u001b[49m\u001b[43m(\u001b[49m\n\u001b[1;32m    432\u001b[0m \u001b[43m            \u001b[49m\u001b[43mexperiment\u001b[49m\u001b[38;5;241;43m=\u001b[39;49m\u001b[43mexperiment\u001b[49m\u001b[43m,\u001b[49m\n\u001b[1;32m    433\u001b[0m \u001b[43m            \u001b[49m\u001b[43mgauges\u001b[49m\u001b[38;5;241;43m=\u001b[39;49m\u001b[43mgauges\u001b[49m\u001b[43m,\u001b[49m\n\u001b[1;32m    434\u001b[0m \u001b[43m        \u001b[49m\u001b[43m)\u001b[49m\u001b[43m \u001b[49m\u001b[38;5;28;43;01mfor\u001b[39;49;00m\u001b[43m \u001b[49m\u001b[43mexperiment\u001b[49m\u001b[43m \u001b[49m\u001b[38;5;129;43;01min\u001b[39;49;00m\u001b[43m \u001b[49m\u001b[43mdata_paths\u001b[49m\u001b[38;5;241;43m.\u001b[39;49m\u001b[43mEXPERIMENTS\u001b[49m\n\u001b[1;32m    435\u001b[0m \u001b[43m    \u001b[49m\u001b[43m}\u001b[49m\n",
      "File \u001b[0;32m~/github_repo/global_streamflow_model_paper/notebooks/backend/loading_utils.py:431\u001b[0m, in \u001b[0;36m<dictcomp>\u001b[0;34m(.0)\u001b[0m\n\u001b[1;32m    425\u001b[0m \u001b[38;5;28;01mdef\u001b[39;00m \u001b[38;5;21mload_all_experimental_model_runs\u001b[39m(\n\u001b[1;32m    426\u001b[0m     gauges: \u001b[38;5;28mlist\u001b[39m[\u001b[38;5;28mstr\u001b[39m],\n\u001b[1;32m    427\u001b[0m ) \u001b[38;5;241m-\u001b[39m\u001b[38;5;241m>\u001b[39m \u001b[38;5;28mdict\u001b[39m[\u001b[38;5;28mstr\u001b[39m, xarray\u001b[38;5;241m.\u001b[39mDataset]:\n\u001b[1;32m    428\u001b[0m \u001b[38;5;250m    \u001b[39m\u001b[38;5;124;03m\"\"\"Loads all runs for all Google model experiments.\"\"\"\u001b[39;00m\n\u001b[1;32m    430\u001b[0m     \u001b[38;5;28;01mreturn\u001b[39;00m {\n\u001b[0;32m--> 431\u001b[0m         experiment: \u001b[43mload_ungauged_experiment_model_runs\u001b[49m\u001b[43m(\u001b[49m\n\u001b[1;32m    432\u001b[0m \u001b[43m            \u001b[49m\u001b[43mexperiment\u001b[49m\u001b[38;5;241;43m=\u001b[39;49m\u001b[43mexperiment\u001b[49m\u001b[43m,\u001b[49m\n\u001b[1;32m    433\u001b[0m \u001b[43m            \u001b[49m\u001b[43mgauges\u001b[49m\u001b[38;5;241;43m=\u001b[39;49m\u001b[43mgauges\u001b[49m\u001b[43m,\u001b[49m\n\u001b[1;32m    434\u001b[0m \u001b[43m        \u001b[49m\u001b[43m)\u001b[49m \u001b[38;5;28;01mfor\u001b[39;00m experiment \u001b[38;5;129;01min\u001b[39;00m data_paths\u001b[38;5;241m.\u001b[39mEXPERIMENTS\n\u001b[1;32m    435\u001b[0m     }\n",
      "File \u001b[0;32m~/github_repo/global_streamflow_model_paper/notebooks/backend/loading_utils.py:419\u001b[0m, in \u001b[0;36mload_ungauged_experiment_model_runs\u001b[0;34m(experiment, gauges)\u001b[0m\n\u001b[1;32m    413\u001b[0m     results_dict[gauge] \u001b[38;5;241m=\u001b[39m load_google_model_for_one_gauge(\n\u001b[1;32m    414\u001b[0m         experiment\u001b[38;5;241m=\u001b[39mexperiment,\n\u001b[1;32m    415\u001b[0m         gauge\u001b[38;5;241m=\u001b[39mgauge,\n\u001b[1;32m    416\u001b[0m     )\n\u001b[1;32m    418\u001b[0m \u001b[38;5;66;03m# Concats into a single xarray dataset indexed by gauge.\u001b[39;00m\n\u001b[0;32m--> 419\u001b[0m \u001b[38;5;28;01mreturn\u001b[39;00m \u001b[43mxarray\u001b[49m\u001b[38;5;241;43m.\u001b[39;49m\u001b[43mconcat\u001b[49m\u001b[43m(\u001b[49m\n\u001b[1;32m    420\u001b[0m \u001b[43m    \u001b[49m\u001b[43m[\u001b[49m\u001b[43mds\u001b[49m\u001b[43m \u001b[49m\u001b[38;5;28;43;01mfor\u001b[39;49;00m\u001b[43m \u001b[49m\u001b[43mds\u001b[49m\u001b[43m \u001b[49m\u001b[38;5;129;43;01min\u001b[39;49;00m\u001b[43m \u001b[49m\u001b[43mresults_dict\u001b[49m\u001b[38;5;241;43m.\u001b[39;49m\u001b[43mvalues\u001b[49m\u001b[43m(\u001b[49m\u001b[43m)\u001b[49m\u001b[43m \u001b[49m\u001b[38;5;28;43;01mif\u001b[39;49;00m\u001b[43m \u001b[49m\u001b[43mds\u001b[49m\u001b[43m \u001b[49m\u001b[38;5;129;43;01mis\u001b[39;49;00m\u001b[43m \u001b[49m\u001b[38;5;129;43;01mnot\u001b[39;49;00m\u001b[43m \u001b[49m\u001b[38;5;28;43;01mNone\u001b[39;49;00m\u001b[43m]\u001b[49m\u001b[43m,\u001b[49m\n\u001b[1;32m    421\u001b[0m \u001b[43m    \u001b[49m\u001b[43mdim\u001b[49m\u001b[38;5;241;43m=\u001b[39;49m\u001b[38;5;124;43m'\u001b[39;49m\u001b[38;5;124;43mgauge_id\u001b[39;49m\u001b[38;5;124;43m'\u001b[39;49m\n\u001b[1;32m    422\u001b[0m \u001b[43m\u001b[49m\u001b[43m)\u001b[49m\n",
      "File \u001b[0;32m~/miniconda3/envs/global-modeling-paper/lib/python3.11/site-packages/xarray/core/concat.py:223\u001b[0m, in \u001b[0;36mconcat\u001b[0;34m(objs, dim, data_vars, coords, compat, positions, fill_value, join, combine_attrs)\u001b[0m\n\u001b[1;32m    221\u001b[0m     first_obj, objs \u001b[38;5;241m=\u001b[39m utils\u001b[38;5;241m.\u001b[39mpeek_at(objs)\n\u001b[1;32m    222\u001b[0m \u001b[38;5;28;01mexcept\u001b[39;00m \u001b[38;5;167;01mStopIteration\u001b[39;00m:\n\u001b[0;32m--> 223\u001b[0m     \u001b[38;5;28;01mraise\u001b[39;00m \u001b[38;5;167;01mValueError\u001b[39;00m(\u001b[38;5;124m\"\u001b[39m\u001b[38;5;124mmust supply at least one object to concatenate\u001b[39m\u001b[38;5;124m\"\u001b[39m)\n\u001b[1;32m    225\u001b[0m \u001b[38;5;28;01mif\u001b[39;00m compat \u001b[38;5;129;01mnot\u001b[39;00m \u001b[38;5;129;01min\u001b[39;00m _VALID_COMPAT:\n\u001b[1;32m    226\u001b[0m     \u001b[38;5;28;01mraise\u001b[39;00m \u001b[38;5;167;01mValueError\u001b[39;00m(\n\u001b[1;32m    227\u001b[0m         \u001b[38;5;124mf\u001b[39m\u001b[38;5;124m\"\u001b[39m\u001b[38;5;124mcompat=\u001b[39m\u001b[38;5;132;01m{\u001b[39;00mcompat\u001b[38;5;132;01m!r}\u001b[39;00m\u001b[38;5;124m invalid: must be \u001b[39m\u001b[38;5;124m'\u001b[39m\u001b[38;5;124mbroadcast_equals\u001b[39m\u001b[38;5;124m'\u001b[39m\u001b[38;5;124m, \u001b[39m\u001b[38;5;124m'\u001b[39m\u001b[38;5;124mequals\u001b[39m\u001b[38;5;124m'\u001b[39m\u001b[38;5;124m, \u001b[39m\u001b[38;5;124m'\u001b[39m\u001b[38;5;124midentical\u001b[39m\u001b[38;5;124m'\u001b[39m\u001b[38;5;124m, \u001b[39m\u001b[38;5;124m'\u001b[39m\u001b[38;5;124mno_conflicts\u001b[39m\u001b[38;5;124m'\u001b[39m\u001b[38;5;124m or \u001b[39m\u001b[38;5;124m'\u001b[39m\u001b[38;5;124moverride\u001b[39m\u001b[38;5;124m'\u001b[39m\u001b[38;5;124m\"\u001b[39m\n\u001b[1;32m    228\u001b[0m     )\n",
      "\u001b[0;31mValueError\u001b[0m: must supply at least one object to concatenate"
     ]
    }
   ],
   "source": [
    "google_model_runs = loading_utils.load_all_experimental_model_runs(\n",
    "  gauges=gauges,\n",
    ")"
   ]
  },
  {
   "cell_type": "code",
   "execution_count": null,
   "metadata": {
    "executionInfo": {
     "elapsed": 6,
     "status": "ok",
     "timestamp": 1684110829634,
     "user": {
      "displayName": "Grey Nearing",
      "userId": "00389065855797486266"
     },
     "user_tz": 420
    },
    "id": "NgrdFDWcePr4",
    "outputId": "7e996d0c-b2d8-4e2c-8b6b-ebf35ebbb5ce"
   },
   "outputs": [],
   "source": [
    "# Count missing gauges per experiment.\n",
    "for experiment in google_model_runs:\n",
    "    missing_gauges = set(gauges) - set(google_model_runs[experiment].gauge_id.values)\n",
    "    print(f'There are {len(missing_gauges)} (out of {len(gauges)}) missing gauges in experiemnt {experiment}.')"
   ]
  },
  {
   "cell_type": "markdown",
   "metadata": {},
   "source": [
    "## Load Data: GRDC Observation Data"
   ]
  },
  {
   "cell_type": "code",
   "execution_count": null,
   "metadata": {},
   "outputs": [],
   "source": [
    "# Load GRDC observation data.\n",
    "grdc_observation_data = loading_utils.load_grdc_data()\n",
    "\n",
    "# Add observation data to model run xarrays, and delete redundant varaible to save memory.\n",
    "for experiment in google_model_runs.keys():\n",
    "    google_model_runs[experiment] = xarray.merge(\n",
    "        [google_model_runs[experiment], grdc_observation_data])"
   ]
  },
  {
   "cell_type": "markdown",
   "metadata": {
    "id": "1KcrM3h7whZr"
   },
   "source": [
    "## Metrics: 2014 - Present"
   ]
  },
  {
   "cell_type": "code",
   "execution_count": null,
   "metadata": {
    "id": "QfgoVdakw6E_"
   },
   "outputs": [],
   "source": [
    "google_validation_time_periods = {\n",
    "    gauge: ['2014-01-01', '2023-01-01'] for gauge in gauges\n",
    "}\n",
    "\n",
    "metrics = metrics_utils.calculate_and_save_metrics_for_many_gagues_and_many_models(\n",
    "    restart=RESTART,\n",
    "    experiments=_EXPERIMENTS,\n",
    "    ds=google_model_runs,\n",
    "    gauges=gauges,\n",
    "    sim_variable=metrics_utils.GOOGLE_VARIABLE,\n",
    "    obs_variable=metrics_utils.OBS_VARIABLE,\n",
    "    base_path=data_paths.PER_METRIC_GOOGLE_2014_HYDROGRAPH_METRICS_DIR,\n",
    "    breakpoints_path=data_paths.PER_GAUGE_GOOGLE_2014_HYDROGRAPH_METRICS_DIR,\n",
    "    time_periods=google_validation_time_periods,\n",
    ")\n",
    "metrics[_EXPERIMENTS[0]]['NSE'].replace(-np.inf, np.nan).describe()"
   ]
  },
  {
   "cell_type": "markdown",
   "metadata": {
    "id": "zRqtragoQWW1"
   },
   "source": [
    "## Metrics: 1980 - Present"
   ]
  },
  {
   "cell_type": "code",
   "execution_count": null,
   "metadata": {
    "id": "Sa9APQEk8Kot"
   },
   "outputs": [],
   "source": [
    "metrics = metrics_utils.calculate_and_save_metrics_for_many_gagues_and_many_models(\n",
    "    restart=RESTART,\n",
    "    experiments=_EXPERIMENTS,\n",
    "    ds=google_model_runs,\n",
    "    gauges=gauges,\n",
    "    sim_variable=metrics_utils.GOOGLE_VARIABLE,\n",
    "    obs_variable=metrics_utils.OBS_VARIABLE,\n",
    "    base_path=data_paths.PER_METRIC_GOOGLE_1980_HYDROGRAPH_METRICS_DIR,\n",
    "    breakpoints_path=data_paths.PER_GAUGE_GOOGLE_1980_HYDROGRAPH_METRICS_DIR,\n",
    "    lead_times=[0]\n",
    ")\n",
    "metrics[_EXPERIMENTS[0]]['NSE'].replace(-np.inf, np.nan).describe()"
   ]
  },
  {
   "cell_type": "markdown",
   "metadata": {},
   "source": [
    "## Delete Variables to Clear Memory"
   ]
  },
  {
   "cell_type": "code",
   "execution_count": null,
   "metadata": {},
   "outputs": [],
   "source": [
    "del google_model_runs"
   ]
  },
  {
   "cell_type": "markdown",
   "metadata": {
    "id": "Br5qfN-lx4Hb"
   },
   "source": [
    "# GloFAS"
   ]
  },
  {
   "cell_type": "code",
   "execution_count": null,
   "metadata": {
    "id": "UXOuhwzHx_Wm"
   },
   "outputs": [],
   "source": [
    "_EXPERIMENTS = [metrics_utils.GLOFAS_VARIABLE]"
   ]
  },
  {
   "cell_type": "markdown",
   "metadata": {
    "id": "ND6-PBRezEmc"
   },
   "source": [
    "## Load Data: GloFAS"
   ]
  },
  {
   "cell_type": "code",
   "execution_count": null,
   "metadata": {
    "id": "iV_nvnCbYEOb"
   },
   "outputs": [],
   "source": [
    "glofas_model_runs = loading_utils.load_glofas_model_runs(gauges=gauges)"
   ]
  },
  {
   "cell_type": "code",
   "execution_count": null,
   "metadata": {
    "id": "e5uZt3pTYIN6"
   },
   "outputs": [],
   "source": [
    "# Count missing gauges.\n",
    "missing_gauges = len(gauges) - len(glofas_model_runs.gauge_id)\n",
    "print(f'There are {missing_gauges} (out of {len(gauges)}) missing gauges in glofas runs.')"
   ]
  },
  {
   "cell_type": "code",
   "execution_count": null,
   "metadata": {
    "id": "8ZOFmhXe4k57"
   },
   "outputs": [],
   "source": [
    "# Merge everything into one large xarray.\n",
    "# This xarray merge takes ... forever ...\n",
    "glofas_model_runs = xarray.merge(\n",
    "    [glofas_model_runs, grdc_observation_data.sel(lead_time=0)])"
   ]
  },
  {
   "cell_type": "markdown",
   "metadata": {
    "id": "ytboPpLvBKnz"
   },
   "source": [
    "## Metrics: 2014 - Present"
   ]
  },
  {
   "cell_type": "code",
   "execution_count": null,
   "metadata": {
    "id": "R6CBMY9NBNg9"
   },
   "outputs": [],
   "source": [
    "metrics = metrics_utils.calculate_and_save_metrics_for_many_gagues_and_many_models(\n",
    "    restart=RESTART,\n",
    "    experiments=_EXPERIMENTS,\n",
    "    ds={exp: glofas_model_runs for exp in _EXPERIMENTS},\n",
    "    gauges=gauges,\n",
    "    sim_variable=metrics_utils.GLOFAS_VARIABLE,\n",
    "    obs_variable=metrics_utils.UNNORMALIZED_OBS_VARIABLE,\n",
    "    base_path=data_paths.PER_METRIC_GLOFAS_2014_HYDROGRAPH_METRICS_DIR,\n",
    "    breakpoints_path=data_paths.PER_GAUGE_GLOFAS_2014_HYDROGRAPH_METRICS_DIR,\n",
    "    time_periods=google_validation_time_periods,\n",
    "    lead_times=[0]\n",
    ")\n",
    "metrics[_EXPERIMENTS[0]]['NSE'].describe()"
   ]
  },
  {
   "cell_type": "markdown",
   "metadata": {
    "id": "ytboPpLvBKnz"
   },
   "source": [
    "## Metrics: 1980 - Present"
   ]
  },
  {
   "cell_type": "code",
   "execution_count": null,
   "metadata": {
    "id": "R6CBMY9NBNg9"
   },
   "outputs": [],
   "source": [
    "metrics = metrics_utils.calculate_and_save_metrics_for_many_gagues_and_many_models(\n",
    "    restart=RESTART,\n",
    "    experiments=_EXPERIMENTS,\n",
    "    ds={exp: glofas_model_runs for exp in _EXPERIMENTS},\n",
    "    gauges=gauges,\n",
    "    sim_variable=metrics_utils.GLOFAS_VARIABLE,\n",
    "    obs_variable=metrics_utils.UNNORMALIZED_OBS_VARIABLE,\n",
    "    base_path=data_paths.PER_METRIC_GLOFAS_1980_HYDROGRAPH_METRICS_DIR,\n",
    "    breakpoints_path=data_paths.PER_GAUGE_GLOFAS_1980_HYDROGRAPH_METRICS_DIR,\n",
    "    lead_times=[0]\n",
    ")\n",
    "metrics[_EXPERIMENTS[0]]['NSE'].describe()"
   ]
  },
  {
   "cell_type": "markdown",
   "metadata": {},
   "source": [
    "# Plot Hydrograph Metric CDFs"
   ]
  },
  {
   "cell_type": "code",
   "execution_count": null,
   "metadata": {},
   "outputs": [],
   "source": [
    "evaluation_utils.hydrograph_metrics_cdf_plots(\n",
    "    glofas_basepath=data_paths.PER_METRIC_GLOFAS_2014_HYDROGRAPH_METRICS_DIR,\n",
    "    google_basepath=data_paths.PER_METRIC_GOOGLE_2014_HYDROGRAPH_METRICS_DIR,\n",
    "    title='2014-2022 with Lead Times',\n",
    "    lead_times=list(range(8))\n",
    ")\n",
    "evaluation_utils.save_figure(data_paths.HYDROGRAPH_METRICS_WITH_LEAD_TIMES_CDFS_FILENAME)"
   ]
  },
  {
   "cell_type": "code",
   "execution_count": null,
   "metadata": {},
   "outputs": [],
   "source": [
    "evaluation_utils.hydrograph_metrics_cdf_plots(\n",
    "    glofas_basepath=data_paths.PER_METRIC_GLOFAS_1980_HYDROGRAPH_METRICS_DIR,\n",
    "    google_basepath=data_paths.PER_METRIC_GOOGLE_1980_HYDROGRAPH_METRICS_DIR,\n",
    "    title='1984-2022 Ungauged Cross Validation Splits',\n",
    "    lead_times=[0]\n",
    ")\n",
    "evaluation_utils.save_figure(data_paths.HYDROGRAPH_METRICS_GLOFAS_UNGAUGED_CDFS_FILENAME)"
   ]
  },
  {
   "cell_type": "code",
   "execution_count": null,
   "metadata": {},
   "outputs": [],
   "source": []
  }
 ],
 "metadata": {
  "colab": {
   "last_runtime": {
    "build_target": "//intelligence/flood_forecasting/colab:notebook",
    "kind": "shared"
   },
   "provenance": [
    {
     "file_id": "1U5lV5oB6crQAV7-OLTxegU4Dathhwd8Q",
     "timestamp": 1676807730788
    }
   ],
   "toc_visible": true
  },
  "kernelspec": {
   "display_name": "Python 3 (ipykernel)",
   "language": "python",
   "name": "python3"
  },
  "language_info": {
   "codemirror_mode": {
    "name": "ipython",
    "version": 3
   },
   "file_extension": ".py",
   "mimetype": "text/x-python",
   "name": "python",
   "nbconvert_exporter": "python",
   "pygments_lexer": "ipython3",
   "version": "3.11.4"
  }
 },
 "nbformat": 4,
 "nbformat_minor": 1
}
