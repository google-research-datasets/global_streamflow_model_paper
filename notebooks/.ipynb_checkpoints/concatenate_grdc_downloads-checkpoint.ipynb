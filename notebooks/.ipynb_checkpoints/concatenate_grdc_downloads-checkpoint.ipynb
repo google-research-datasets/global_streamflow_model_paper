{
 "cells": [
  {
   "cell_type": "code",
   "execution_count": 1,
   "id": "bf94b893",
   "metadata": {},
   "outputs": [],
   "source": [
    "import xarray\n",
    "import pathlib\n",
    "from glob import glob\n",
    "from tqdm import tqdm"
   ]
  },
  {
   "cell_type": "code",
   "execution_count": 2,
   "id": "9b671462",
   "metadata": {},
   "outputs": [],
   "source": [
    "from backend import data_paths"
   ]
  },
  {
   "cell_type": "code",
   "execution_count": 3,
   "id": "1e8d0682",
   "metadata": {},
   "outputs": [
    {
     "ename": "FileNotFoundError",
     "evalue": "[Errno 2] No such file or directory: 'home/gsnearing/github_repo/global_streamflow_model_paper/gauge_groups/dual_lstm/grdc_filtered.txt'",
     "output_type": "error",
     "traceback": [
      "\u001b[0;31m---------------------------------------------------------------------------\u001b[0m",
      "\u001b[0;31mFileNotFoundError\u001b[0m                         Traceback (most recent call last)",
      "Cell \u001b[0;32mIn[3], line 1\u001b[0m\n\u001b[0;32m----> 1\u001b[0m \u001b[38;5;28;01mwith\u001b[39;00m \u001b[38;5;28;43mopen\u001b[39;49m\u001b[43m(\u001b[49m\u001b[43mdata_paths\u001b[49m\u001b[38;5;241;43m.\u001b[39;49m\u001b[43mFULL_GAUGE_GROUP_FILE\u001b[49m\u001b[43m,\u001b[49m\u001b[43m \u001b[49m\u001b[38;5;124;43m'\u001b[39;49m\u001b[38;5;124;43mrt\u001b[39;49m\u001b[38;5;124;43m'\u001b[39;49m\u001b[43m)\u001b[49m \u001b[38;5;28;01mas\u001b[39;00m f:\n\u001b[1;32m      2\u001b[0m     lines \u001b[38;5;241m=\u001b[39m f\u001b[38;5;241m.\u001b[39mreadlines()\n\u001b[1;32m      3\u001b[0m gauges \u001b[38;5;241m=\u001b[39m [gauge\u001b[38;5;241m.\u001b[39msplit(\u001b[38;5;124m'\u001b[39m\u001b[38;5;130;01m\\n\u001b[39;00m\u001b[38;5;124m'\u001b[39m)[\u001b[38;5;241m0\u001b[39m]\u001b[38;5;241m.\u001b[39msplit(\u001b[38;5;124m'\u001b[39m\u001b[38;5;124m_\u001b[39m\u001b[38;5;124m'\u001b[39m)[\u001b[38;5;241m1\u001b[39m] \u001b[38;5;28;01mfor\u001b[39;00m gauge \u001b[38;5;129;01min\u001b[39;00m lines]\n",
      "File \u001b[0;32m~/miniconda3/envs/global-modeling-paper/lib/python3.11/site-packages/IPython/core/interactiveshell.py:284\u001b[0m, in \u001b[0;36m_modified_open\u001b[0;34m(file, *args, **kwargs)\u001b[0m\n\u001b[1;32m    277\u001b[0m \u001b[38;5;28;01mif\u001b[39;00m file \u001b[38;5;129;01min\u001b[39;00m {\u001b[38;5;241m0\u001b[39m, \u001b[38;5;241m1\u001b[39m, \u001b[38;5;241m2\u001b[39m}:\n\u001b[1;32m    278\u001b[0m     \u001b[38;5;28;01mraise\u001b[39;00m \u001b[38;5;167;01mValueError\u001b[39;00m(\n\u001b[1;32m    279\u001b[0m         \u001b[38;5;124mf\u001b[39m\u001b[38;5;124m\"\u001b[39m\u001b[38;5;124mIPython won\u001b[39m\u001b[38;5;124m'\u001b[39m\u001b[38;5;124mt let you open fd=\u001b[39m\u001b[38;5;132;01m{\u001b[39;00mfile\u001b[38;5;132;01m}\u001b[39;00m\u001b[38;5;124m by default \u001b[39m\u001b[38;5;124m\"\u001b[39m\n\u001b[1;32m    280\u001b[0m         \u001b[38;5;124m\"\u001b[39m\u001b[38;5;124mas it is likely to crash IPython. If you know what you are doing, \u001b[39m\u001b[38;5;124m\"\u001b[39m\n\u001b[1;32m    281\u001b[0m         \u001b[38;5;124m\"\u001b[39m\u001b[38;5;124myou can use builtins\u001b[39m\u001b[38;5;124m'\u001b[39m\u001b[38;5;124m open.\u001b[39m\u001b[38;5;124m\"\u001b[39m\n\u001b[1;32m    282\u001b[0m     )\n\u001b[0;32m--> 284\u001b[0m \u001b[38;5;28;01mreturn\u001b[39;00m \u001b[43mio_open\u001b[49m\u001b[43m(\u001b[49m\u001b[43mfile\u001b[49m\u001b[43m,\u001b[49m\u001b[43m \u001b[49m\u001b[38;5;241;43m*\u001b[39;49m\u001b[43margs\u001b[49m\u001b[43m,\u001b[49m\u001b[43m \u001b[49m\u001b[38;5;241;43m*\u001b[39;49m\u001b[38;5;241;43m*\u001b[39;49m\u001b[43mkwargs\u001b[49m\u001b[43m)\u001b[49m\n",
      "\u001b[0;31mFileNotFoundError\u001b[0m: [Errno 2] No such file or directory: 'home/gsnearing/github_repo/global_streamflow_model_paper/gauge_groups/dual_lstm/grdc_filtered.txt'"
     ]
    }
   ],
   "source": [
    "with open(data_paths.FULL_GAUGE_GROUP_FILE, 'rt') as f:\n",
    "    lines = f.readlines()\n",
    "gauges = [gauge.split('\\n')[0].split('_')[1] for gauge in lines]\n",
    "print(len(gauges))"
   ]
  },
  {
   "cell_type": "code",
   "execution_count": null,
   "id": "ccdcc9a3",
   "metadata": {},
   "outputs": [],
   "source": [
    "all_grdc_files = glob('/home/gsnearing/data/grdc_data/*.nc')\n",
    "all_grdc_files"
   ]
  },
  {
   "cell_type": "code",
   "execution_count": null,
   "id": "1422fb3c",
   "metadata": {},
   "outputs": [],
   "source": [
    "xrs = []\n",
    "number_of_gauges = 0\n",
    "for f in tqdm(all_grdc_files):\n",
    "    xr = xarray.open_dataset(f)\n",
    "    xrs.append(xr)\n",
    "    number_of_gauges += len(xr.id.values)\n",
    "number_of_gauges"
   ]
  },
  {
   "cell_type": "code",
   "execution_count": 4,
   "id": "029ae2ea",
   "metadata": {},
   "outputs": [
    {
     "ename": "NameError",
     "evalue": "name 'xrs' is not defined",
     "output_type": "error",
     "traceback": [
      "\u001b[0;31m---------------------------------------------------------------------------\u001b[0m",
      "\u001b[0;31mNameError\u001b[0m                                 Traceback (most recent call last)",
      "Cell \u001b[0;32mIn[4], line 1\u001b[0m\n\u001b[0;32m----> 1\u001b[0m full_xr \u001b[38;5;241m=\u001b[39m xarray\u001b[38;5;241m.\u001b[39mconcat(\u001b[43mxrs\u001b[49m, dim\u001b[38;5;241m=\u001b[39m\u001b[38;5;124m'\u001b[39m\u001b[38;5;124mid\u001b[39m\u001b[38;5;124m'\u001b[39m)\n\u001b[1;32m      2\u001b[0m full_xr\n",
      "\u001b[0;31mNameError\u001b[0m: name 'xrs' is not defined"
     ]
    }
   ],
   "source": [
    "full_xr = xarray.concat(xrs, dim='id')\n",
    "full_xr"
   ]
  },
  {
   "cell_type": "code",
   "execution_count": 5,
   "id": "5094124d",
   "metadata": {},
   "outputs": [
    {
     "ename": "NameError",
     "evalue": "name 'full_xr' is not defined",
     "output_type": "error",
     "traceback": [
      "\u001b[0;31m---------------------------------------------------------------------------\u001b[0m",
      "\u001b[0;31mNameError\u001b[0m                                 Traceback (most recent call last)",
      "Cell \u001b[0;32mIn[5], line 1\u001b[0m\n\u001b[0;32m----> 1\u001b[0m full_xr \u001b[38;5;241m=\u001b[39m \u001b[43mfull_xr\u001b[49m\u001b[38;5;241m.\u001b[39mdrop_duplicates(dim\u001b[38;5;241m=\u001b[39m\u001b[38;5;124m'\u001b[39m\u001b[38;5;124mid\u001b[39m\u001b[38;5;124m'\u001b[39m, keep\u001b[38;5;241m=\u001b[39m\u001b[38;5;124m'\u001b[39m\u001b[38;5;124mfirst\u001b[39m\u001b[38;5;124m'\u001b[39m)\n\u001b[1;32m      2\u001b[0m full_xr\n",
      "\u001b[0;31mNameError\u001b[0m: name 'full_xr' is not defined"
     ]
    }
   ],
   "source": [
    "full_xr = full_xr.drop_duplicates(dim='id', keep='first')\n",
    "full_xr"
   ]
  },
  {
   "cell_type": "code",
   "execution_count": null,
   "id": "35e2597e",
   "metadata": {},
   "outputs": [],
   "source": [
    "gauges_in_xr = [str(gauge).zfill(7) for gauge in full_xr.id.values]\n",
    "print(len(gauges_in_xr))\n",
    "print(len(set(gauges_in_xr)))"
   ]
  },
  {
   "cell_type": "code",
   "execution_count": null,
   "id": "b0c81f97",
   "metadata": {},
   "outputs": [],
   "source": [
    "missing_gauges = [gauge for gauge in gauges if gauge not in gauges_in_xr]\n",
    "len(missing_gauges)"
   ]
  },
  {
   "cell_type": "code",
   "execution_count": null,
   "id": "5696d5af",
   "metadata": {},
   "outputs": [],
   "source": [
    "[int(gauge) for gauge in missing_gauges]"
   ]
  },
  {
   "cell_type": "code",
   "execution_count": null,
   "id": "802b8a87",
   "metadata": {},
   "outputs": [],
   "source": [
    "present_gauges = list(set(gauges) - set(missing_gauges))\n",
    "present_gauges = [int(gauge) for gauge in present_gauges]\n",
    "sliced_xr = full_xr.sel({'id': present_gauges})\n",
    "sliced_xr"
   ]
  },
  {
   "cell_type": "code",
   "execution_count": null,
   "id": "b38fbf87",
   "metadata": {},
   "outputs": [],
   "source": [
    "timeslice = sliced_xr.time.values\n",
    "timeslice[63551:]"
   ]
  },
  {
   "cell_type": "code",
   "execution_count": null,
   "id": "fcc6bcbc",
   "metadata": {},
   "outputs": [],
   "source": [
    "sliced_xr = sliced_xr.sel({'time': timeslice[63551:]})\n",
    "sliced_xr"
   ]
  },
  {
   "cell_type": "code",
   "execution_count": null,
   "id": "9e534749",
   "metadata": {},
   "outputs": [],
   "source": [
    "sliced_xr.to_netcdf(data_paths.GRDC_DATA_FILE)"
   ]
  },
  {
   "cell_type": "code",
   "execution_count": null,
   "id": "e1ff47cd",
   "metadata": {},
   "outputs": [],
   "source": []
  }
 ],
 "metadata": {
  "kernelspec": {
   "display_name": "Python 3 (ipykernel)",
   "language": "python",
   "name": "python3"
  },
  "language_info": {
   "codemirror_mode": {
    "name": "ipython",
    "version": 3
   },
   "file_extension": ".py",
   "mimetype": "text/x-python",
   "name": "python",
   "nbconvert_exporter": "python",
   "pygments_lexer": "ipython3",
   "version": "3.11.4"
  }
 },
 "nbformat": 4,
 "nbformat_minor": 5
}
