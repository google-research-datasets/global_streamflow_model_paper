{
 "cells": [
  {
   "cell_type": "markdown",
   "metadata": {
    "id": "dzNFopjta4Ln"
   },
   "source": [
    "# Imports"
   ]
  },
  {
   "cell_type": "code",
   "execution_count": 1,
   "metadata": {},
   "outputs": [],
   "source": [
    "%load_ext autoreload\n",
    "%autoreload 2"
   ]
  },
  {
   "cell_type": "code",
   "execution_count": 2,
   "metadata": {
    "executionInfo": {
     "elapsed": 4538,
     "status": "ok",
     "timestamp": 1686657068813,
     "user": {
      "displayName": "Grey Nearing",
      "userId": "00389065855797486266"
     },
     "user_tz": -180
    },
    "id": "2mIv77EiNGS3"
   },
   "outputs": [],
   "source": [
    "import matplotlib.pyplot as plt\n",
    "import pandas as pd\n",
    "import numpy as np\n",
    "import pickle as pkl\n",
    "from scipy.stats import norm\n",
    "from scipy.stats import ttest_ind, ttest_rel, ranksums, wilcoxon"
   ]
  },
  {
   "cell_type": "code",
   "execution_count": 3,
   "metadata": {
    "executionInfo": {
     "elapsed": 5599,
     "status": "ok",
     "timestamp": 1686657075040,
     "user": {
      "displayName": "Grey Nearing",
      "userId": "00389065855797486266"
     },
     "user_tz": -180
    },
    "id": "NKOTbNQx04-D"
   },
   "outputs": [],
   "source": [
    "from backend import data_paths\n",
    "from backend import evaluation_utils\n",
    "from backend import gauge_groups_utils\n",
    "from backend import loading_utils\n",
    "from backend import metrics_utils"
   ]
  },
  {
   "cell_type": "markdown",
   "metadata": {},
   "source": [
    "# Load Basin Attributes for Latitude & Longitude"
   ]
  },
  {
   "cell_type": "code",
   "execution_count": 4,
   "metadata": {},
   "outputs": [
    {
     "name": "stdout",
     "output_type": "stream",
     "text": [
      "There are 5678 gauges.\n"
     ]
    }
   ],
   "source": [
    "gauges = gauge_groups_utils.get_full_gauge_group()\n",
    "print(f'There are {len(gauges)} gauges.')"
   ]
  },
  {
   "cell_type": "code",
   "execution_count": 5,
   "metadata": {},
   "outputs": [],
   "source": [
    "attributes = loading_utils.load_attributes_file(gauges=gauges)"
   ]
  },
  {
   "cell_type": "markdown",
   "metadata": {
    "id": "3DH4JNSQM7lD"
   },
   "source": [
    "# Load Return Period Metrics"
   ]
  },
  {
   "cell_type": "code",
   "execution_count": 6,
   "metadata": {
    "executionInfo": {
     "elapsed": 82,
     "status": "ok",
     "timestamp": 1686657081409,
     "user": {
      "displayName": "Grey Nearing",
      "userId": "00389065855797486266"
     },
     "user_tz": -180
    },
    "id": "r-Ipfs2Z_YWv"
   },
   "outputs": [],
   "source": [
    "_DATASET_RETURN_PERIOD_METRICS_PATH = {\n",
    "    'google_2014': data_paths.GOOGLE_2014_RETURN_PERIOD_METRICS_DIR,\n",
    "    'google_1980': data_paths.GOOGLE_1980_RETURN_PERIOD_METRICS_DIR,\n",
    "    'glofas_2014': data_paths.GLOFAS_2014_RETURN_PERIOD_METRICS_DIR,\n",
    "    'glofas_1980': data_paths.GLOFAS_1980_RETURN_PERIOD_METRICS_DIR,\n",
    "}"
   ]
  },
  {
   "cell_type": "code",
   "execution_count": 7,
   "metadata": {
    "executionInfo": {
     "elapsed": 6111,
     "status": "ok",
     "timestamp": 1686657097555,
     "user": {
      "displayName": "Grey Nearing",
      "userId": "00389065855797486266"
     },
     "user_tz": -180
    },
    "id": "7O3Y21AUxPxS",
    "outputId": "127befc9-bb5c-480c-d1e9-62a6e8ba9a08"
   },
   "outputs": [
    {
     "name": "stdout",
     "output_type": "stream",
     "text": [
      "Working on google_2014 ...\n",
      "Finished loading google_2014. \n",
      "\n",
      "Working on google_1980 ...\n",
      "Finished loading google_1980. \n",
      "\n",
      "Working on glofas_2014 ...\n",
      "Finished loading glofas_2014. \n",
      "\n",
      "Working on glofas_1980 ...\n",
      "Finished loading glofas_1980. \n",
      "\n"
     ]
    }
   ],
   "source": [
    "precisions_by_lead_time = {}\n",
    "recalls_by_lead_time = {}\n",
    "\n",
    "precisions_by_return_period = {}\n",
    "recalls_by_return_period = {}\n",
    "\n",
    "for dataset, data_path in _DATASET_RETURN_PERIOD_METRICS_PATH.items():\n",
    "    print(f'Working on {dataset} ...')\n",
    "    file_path = data_paths.CONCATENATED_RETURN_PERIOD_DICTS_DIR / f'{dataset}_return_period_dicts.pkl'\n",
    "    with open(file_path, 'rb') as f:\n",
    "        precisions_by_lead_time[dataset], recalls_by_lead_time[dataset] = pkl.load(f)\n",
    "    print(f'Finished loading {dataset}. \\n')"
   ]
  },
  {
   "cell_type": "markdown",
   "metadata": {},
   "source": [
    "# Calculate F1 Scores from Precision & Recall"
   ]
  },
  {
   "cell_type": "code",
   "execution_count": 8,
   "metadata": {
    "executionInfo": {
     "elapsed": 920,
     "status": "ok",
     "timestamp": 1686657100636,
     "user": {
      "displayName": "Grey Nearing",
      "userId": "00389065855797486266"
     },
     "user_tz": -180
    },
    "id": "5gE4-QHOCwSC"
   },
   "outputs": [],
   "source": [
    "f1s_by_lead_time = {\n",
    "    dataset: {\n",
    "        experiment: {\n",
    "            lead_time:\n",
    "              evaluation_utils.f1_from_precision_and_recall_dfs(\n",
    "                  precision_df=precisions_by_lead_time[dataset][experiment][lead_time],\n",
    "                  recall_df=recalls_by_lead_time[dataset][experiment][lead_time]\n",
    "              ) for lead_time in data_paths.LEAD_TIMES\n",
    "        } for experiment in precisions_by_lead_time[dataset]\n",
    "    } for dataset in _DATASET_RETURN_PERIOD_METRICS_PATH\n",
    "}"
   ]
  },
  {
   "cell_type": "markdown",
   "metadata": {},
   "source": [
    "# Scores Map"
   ]
  },
  {
   "cell_type": "code",
   "execution_count": 9,
   "metadata": {
    "colab": {
     "height": 362
    },
    "executionInfo": {
     "elapsed": 4315,
     "status": "ok",
     "timestamp": 1686657122153,
     "user": {
      "displayName": "Grey Nearing",
      "userId": "00389065855797486266"
     },
     "user_tz": -180
    },
    "id": "VZC_P74vX5o7",
    "outputId": "e1397da2-7a23-4491-a57b-ae1253077a5b"
   },
   "outputs": [
    {
     "name": "stdout",
     "output_type": "stream",
     "text": [
      "There are 3673 gauges with f1 scores for return period 2.0.\n"
     ]
    },
    {
     "data": {
      "image/png": "[encoded data removed]",
      "text/plain": [
       "<Figure size 472.441x229.945 with 2 Axes>"
      ]
     },
     "metadata": {},
     "output_type": "display_data"
    }
   ],
   "source": [
    "fig, axes = plt.subplots(\n",
    "    1, 1, \n",
    "    figsize=(\n",
    "        evaluation_utils.NATURE_FIG_SIZES['one_half_column'], \n",
    "        evaluation_utils.LATITIDE_FIG_SCALER * evaluation_utils.NATURE_FIG_SIZES['one_half_column']\n",
    "    )\n",
    ")\n",
    "\n",
    "lead_time = 0\n",
    "return_period = 2.00\n",
    "\n",
    "f1s = pd.concat(\n",
    "    [\n",
    "        f1s_by_lead_time['glofas_1980'][\n",
    "            metrics_utils.GLOFAS_VARIABLE][\n",
    "            lead_time][return_period].rename(metrics_utils.GLOFAS_VARIABLE),\n",
    "        f1s_by_lead_time['google_1980'][\n",
    "            'kfold_splits'][lead_time][\n",
    "            return_period].rename(metrics_utils.GOOGLE_VARIABLE)\n",
    "    ],\n",
    "    axis=1\n",
    ").dropna()\n",
    "\n",
    "metric = 'F1 Score Difference'\n",
    "f1s[metric] = f1s[metrics_utils.GOOGLE_VARIABLE] - f1s[metrics_utils.GLOFAS_VARIABLE]\n",
    "\n",
    "print(f'There are {f1s.shape[0]} gauges with f1 scores for return period {return_period}.')\n",
    "\n",
    "title = f'{metric} Relative to GloFAS over {int(return_period)}-Year Events 1980-2021'\n",
    "_ = evaluation_utils.spatial_plot(\n",
    "    latlon=attributes,\n",
    "    metric=metric,\n",
    "    title=title,\n",
    "    metric_data=f1s[metric],\n",
    "    vmin=-0.2, \n",
    "    vmax=0.2,\n",
    "    ax=axes,\n",
    "    cmap='PiYG'\n",
    ")\n",
    "\n",
    "# Save figure\n",
    "evaluation_utils.save_figure(data_paths.GLOBAL_F1_SCORES_MAP_FILENAME)"
   ]
  },
  {
   "cell_type": "markdown",
   "metadata": {},
   "source": [
    "# Fraction of Improved Basins"
   ]
  },
  {
   "cell_type": "code",
   "execution_count": 10,
   "metadata": {
    "executionInfo": {
     "elapsed": 67,
     "status": "ok",
     "timestamp": 1686657117183,
     "user": {
      "displayName": "Grey Nearing",
      "userId": "00389065855797486266"
     },
     "user_tz": -180
    },
    "id": "lxQyifHuNKEO",
    "outputId": "5b17fc1c-fd9b-4c76-997a-3e2954cc4361"
   },
   "outputs": [
    {
     "name": "stdout",
     "output_type": "stream",
     "text": [
      "--- Return Period = 1.01 -------------------------------------------\n",
      "Total number of gauges:  3638\n",
      "Gauges with nonnegative differences:  2373\n",
      "Fraction with nonnegative differences:  0.6522814733369984\n",
      "Fraction with positive differences:  0.6371632765255635\n",
      "\n",
      "\n",
      "WilcoxonResult(statistic=1986506.0, pvalue=6.150123346315951e-87) 0.32766542484191846 0.2212190806598745\n",
      "-------------------------------------------------------------------- \n",
      "\n",
      "\n",
      "--- Return Period = 2 -------------------------------------------\n",
      "Total number of gauges:  3673\n",
      "Gauges with nonnegative differences:  2677\n",
      "Fraction with nonnegative differences:  0.7288320174244487\n",
      "Fraction with positive differences:  0.697250204192758\n",
      "\n",
      "\n",
      "WilcoxonResult(statistic=1405997.0, pvalue=3.8224505158043516e-181) 0.4735550125097372 0.4137948401555436\n",
      "-------------------------------------------------------------------- \n",
      "\n",
      "\n",
      "--- Return Period = 5 -------------------------------------------\n",
      "Total number of gauges:  3360\n",
      "Gauges with nonnegative differences:  2468\n",
      "Fraction with nonnegative differences:  0.7345238095238096\n",
      "Fraction with positive differences:  0.5967261904761905\n",
      "\n",
      "\n",
      "WilcoxonResult(statistic=1007471.0, pvalue=8.319629017535873e-130) 0.4181890748582307 0.4171321389739476\n",
      "-------------------------------------------------------------------- \n",
      "\n",
      "\n",
      "--- Return Period = 10 -------------------------------------------\n",
      "Total number of gauges:  2920\n",
      "Gauges with nonnegative differences:  2220\n",
      "Fraction with nonnegative differences:  0.7602739726027398\n",
      "Fraction with positive differences:  0.4876712328767123\n",
      "\n",
      "\n",
      "WilcoxonResult(statistic=640521.0, pvalue=9.572083117427466e-67) 0.31939250413916853 0.331475367329558\n",
      "-------------------------------------------------------------------- \n",
      "\n",
      "\n",
      "--- Return Period = 20 -------------------------------------------\n",
      "Total number of gauges:  2064\n",
      "Gauges with nonnegative differences:  1688\n",
      "Fraction with nonnegative differences:  0.8178294573643411\n",
      "Fraction with positive differences:  0.34641472868217055\n",
      "\n",
      "\n",
      "WilcoxonResult(statistic=187905.0, pvalue=3.903658303705216e-26) 0.2327629176808577 0.2631040042981434\n",
      "-------------------------------------------------------------------- \n",
      "\n",
      "\n",
      "--- Return Period = 50 -------------------------------------------\n",
      "Total number of gauges:  509\n",
      "Gauges with nonnegative differences:  458\n",
      "Fraction with nonnegative differences:  0.899803536345776\n",
      "Fraction with positive differences:  0.27111984282907664\n",
      "\n",
      "\n",
      "WilcoxonResult(statistic=5045.0, pvalue=1.2812687701462545e-07) 0.23409860021007334 0.2796693540887505\n",
      "-------------------------------------------------------------------- \n",
      "\n",
      "\n"
     ]
    }
   ],
   "source": [
    "metric = 'F1 Score Difference'\n",
    "\n",
    "for return_period in evaluation_utils.RETURN_PERIODS:\n",
    "\n",
    "    print(f'--- Return Period = {return_period} -------------------------------------------')\n",
    "\n",
    "    f1s = pd.concat(\n",
    "      [\n",
    "          f1s_by_lead_time['glofas_1980'][metrics_utils.GLOFAS_VARIABLE][lead_time][return_period].rename('glofas'),\n",
    "          f1s_by_lead_time['google_1980']['kfold_splits'][lead_time][return_period].rename('google')\n",
    "      ],\n",
    "      axis=1\n",
    "    ).dropna()\n",
    "    f1s[metric] = f1s['google'] - f1s['glofas']\n",
    "\n",
    "    print('Total number of gauges: ', f1s.shape[0])\n",
    "    print('Gauges with nonnegative differences: ', f1s[f1s[metric] >= 0].shape[0])\n",
    "    print('Fraction with nonnegative differences: ', f1s[f1s[metric] >= 0].shape[0] / f1s.shape[0])\n",
    "    print('Fraction with positive differences: ', f1s[f1s[metric] > 0].shape[0] / f1s.shape[0])\n",
    "\n",
    "    print('\\n')\n",
    "    stats = wilcoxon(f1s['google'],f1s['glofas'])\n",
    "    cohen_d = evaluation_utils.cohen_d(f1s['google'].values, f1s['glofas'].values)\n",
    "    zstatistic = norm.isf(stats.pvalue / 2)\n",
    "    effect_size = zstatistic / f1s.shape[0]**(1/2)\n",
    "    print(stats, effect_size, cohen_d)\n",
    "\n",
    "    print('-------------------------------------------------------------------- \\n\\n')\n"
   ]
  },
  {
   "cell_type": "code",
   "execution_count": null,
   "metadata": {},
   "outputs": [],
   "source": []
  }
 ],
 "metadata": {
  "colab": {
   "last_runtime": {
    "build_target": "//intelligence/flood_forecasting/colab:notebook",
    "kind": "private"
   },
   "provenance": [
    {
     "file_id": "1U5lV5oB6crQAV7-OLTxegU4Dathhwd8Q",
     "timestamp": 1678011930641
    }
   ],
   "toc_visible": true
  },
  "kernelspec": {
   "display_name": "Python 3 (ipykernel)",
   "language": "python",
   "name": "python3"
  },
  "language_info": {
   "codemirror_mode": {
    "name": "ipython",
    "version": 3
   },
   "file_extension": ".py",
   "mimetype": "text/x-python",
   "name": "python",
   "nbconvert_exporter": "python",
   "pygments_lexer": "ipython3",
   "version": "3.11.4"
  }
 },
 "nbformat": 4,
 "nbformat_minor": 1
}
