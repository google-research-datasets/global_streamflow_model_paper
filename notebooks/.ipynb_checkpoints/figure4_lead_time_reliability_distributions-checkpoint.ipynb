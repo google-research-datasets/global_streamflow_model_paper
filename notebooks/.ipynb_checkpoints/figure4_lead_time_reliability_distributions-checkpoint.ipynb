{
 "cells": [
  {
   "cell_type": "markdown",
   "metadata": {
    "id": "dzNFopjta4Ln"
   },
   "source": [
    "# Imports"
   ]
  },
  {
   "cell_type": "code",
   "execution_count": 1,
   "metadata": {},
   "outputs": [],
   "source": [
    "%load_ext autoreload\n",
    "%autoreload 2"
   ]
  },
  {
   "cell_type": "code",
   "execution_count": 2,
   "metadata": {},
   "outputs": [],
   "source": [
    "import matplotlib.pyplot as plt\n",
    "import pandas as pd\n",
    "import pickle as pkl\n",
    "from scipy.stats import norm\n",
    "from scipy.stats import ttest_ind, ttest_rel, ranksums, wilcoxon\n",
    "import seaborn as sns"
   ]
  },
  {
   "cell_type": "code",
   "execution_count": 3,
   "metadata": {},
   "outputs": [],
   "source": [
    "from backend import data_paths\n",
    "from backend import evaluation_utils\n",
    "from backend import metrics_utils"
   ]
  },
  {
   "cell_type": "markdown",
   "metadata": {
    "id": "3DH4JNSQM7lD"
   },
   "source": [
    "# Load Return Period Metrics"
   ]
  },
  {
   "cell_type": "code",
   "execution_count": 4,
   "metadata": {
    "executionInfo": {
     "elapsed": 82,
     "status": "ok",
     "timestamp": 1686657081409,
     "user": {
      "displayName": "Grey Nearing",
      "userId": "00389065855797486266"
     },
     "user_tz": -180
    },
    "id": "r-Ipfs2Z_YWv"
   },
   "outputs": [],
   "source": [
    "_DATASET_RETURN_PERIOD_METRICS_PATH = {\n",
    "    'google_2014': data_paths.GOOGLE_2014_RETURN_PERIOD_METRICS_DIR,\n",
    "    'google_1980': data_paths.GOOGLE_1980_RETURN_PERIOD_METRICS_DIR,\n",
    "    'glofas_2014': data_paths.GLOFAS_2014_RETURN_PERIOD_METRICS_DIR,\n",
    "    'glofas_1980': data_paths.GLOFAS_1980_RETURN_PERIOD_METRICS_DIR,\n",
    "}"
   ]
  },
  {
   "cell_type": "code",
   "execution_count": 5,
   "metadata": {
    "executionInfo": {
     "elapsed": 5599,
     "status": "ok",
     "timestamp": 1686657075040,
     "user": {
      "displayName": "Grey Nearing",
      "userId": "00389065855797486266"
     },
     "user_tz": -180
    },
    "id": "NKOTbNQx04-D",
    "scrolled": true
   },
   "outputs": [
    {
     "name": "stdout",
     "output_type": "stream",
     "text": [
      "Working on google_2014 ...\n",
      "Finished loading google_2014. \n",
      "\n",
      "Working on google_1980 ...\n",
      "Finished loading google_1980. \n",
      "\n",
      "Working on glofas_2014 ...\n",
      "Finished loading glofas_2014. \n",
      "\n",
      "Working on glofas_1980 ...\n",
      "Finished loading glofas_1980. \n",
      "\n"
     ]
    }
   ],
   "source": [
    "precisions_by_lead_time = {}\n",
    "recalls_by_lead_time = {}\n",
    "\n",
    "precisions_by_return_period = {}\n",
    "recalls_by_return_period = {}\n",
    "\n",
    "for dataset, data_path in _DATASET_RETURN_PERIOD_METRICS_PATH.items():\n",
    "    print(f'Working on {dataset} ...')\n",
    "    file_path = data_paths.CONCATENATED_RETURN_PERIOD_DICTS_DIR / f'{dataset}_return_period_dicts.pkl'\n",
    "    with open(file_path, 'rb') as f:\n",
    "        precisions_by_lead_time[dataset], recalls_by_lead_time[dataset] = pkl.load(f)\n",
    "    print(f'Finished loading {dataset}. \\n')"
   ]
  },
  {
   "cell_type": "markdown",
   "metadata": {},
   "source": [
    "# Calculate F1 Scores from Precision & Recall"
   ]
  },
  {
   "cell_type": "code",
   "execution_count": 6,
   "metadata": {
    "executionInfo": {
     "elapsed": 920,
     "status": "ok",
     "timestamp": 1686657100636,
     "user": {
      "displayName": "Grey Nearing",
      "userId": "00389065855797486266"
     },
     "user_tz": -180
    },
    "id": "5gE4-QHOCwSC"
   },
   "outputs": [],
   "source": [
    "f1s_by_lead_time = {\n",
    "    dataset: {\n",
    "        experiment: {\n",
    "            lead_time:\n",
    "              evaluation_utils.f1_from_precision_and_recall_dfs(\n",
    "                  precision_df=precisions_by_lead_time[dataset][experiment][lead_time],\n",
    "                  recall_df=recalls_by_lead_time[dataset][experiment][lead_time]\n",
    "              ) for lead_time in data_paths.LEAD_TIMES\n",
    "        } for experiment in precisions_by_lead_time[dataset]\n",
    "    } for dataset in _DATASET_RETURN_PERIOD_METRICS_PATH\n",
    "}"
   ]
  },
  {
   "cell_type": "markdown",
   "metadata": {},
   "source": [
    "# Precision & Recall Distributions with Lead Time"
   ]
  },
  {
   "cell_type": "code",
   "execution_count": 7,
   "metadata": {},
   "outputs": [],
   "source": [
    "# google_dataset = 'google_2014'\n",
    "# google_experiment = 'kfold_splits'\n",
    "# glofas_dataset = 'glofas_2014'\n",
    "# glofas_experiment = metrics_utils.GLOFAS_VARIABLE\n",
    "\n",
    "# dfs = []\n",
    "# for rp in evaluation_utils.RETURN_PERIODS[:-2]:\n",
    "#     dfs = dfs + [\n",
    "#         f1s_by_lead_time[glofas_dataset][glofas_experiment][0][\n",
    "#             rp].rename(f'{evaluation_utils.EXPERIMENT_NAMES[glofas_experiment]} ({rp})')\n",
    "#     ]\n",
    "#     dfs = dfs + [\n",
    "#         f1s_by_lead_time[google_dataset][google_experiment][\n",
    "#             lead_time][rp].rename(f'{lead_time} ({rp})') for lead_time in data_paths.LEAD_TIMES\n",
    "#     ]\n",
    "# full_df = pd.concat(dfs, axis=1).dropna()\n",
    "# full_df\n",
    "\n",
    "#     rp_columns = [col for col in full_df.columns if f'({return_period})' in col]\n",
    "#     df = full_df[rp_columns]\n",
    "#     column_renamer = {col: col.split(f' ({return_period})')[0] for col in df.columns}\n",
    "#     df.rename(columns=column_renamer, inplace=True)\n"
   ]
  },
  {
   "cell_type": "code",
   "execution_count": 22,
   "metadata": {},
   "outputs": [
    {
     "name": "stderr",
     "output_type": "stream",
     "text": [
      "/tmp/ipykernel_205997/661917923.py:42: UserWarning: The label '_' of <matplotlib.lines.Line2D object at 0x7fb8ad323e90> starts with '_'. It is thus excluded from the legend.\n",
      "  ax.legend(\n",
      "/tmp/ipykernel_205997/661917923.py:42: UserWarning: The label '_' of <matplotlib.lines.Line2D object at 0x7fb8ad0210d0> starts with '_'. It is thus excluded from the legend.\n",
      "  ax.legend(\n",
      "/tmp/ipykernel_205997/661917923.py:42: UserWarning: The label '_' of <matplotlib.lines.Line2D object at 0x7fb8a27aa750> starts with '_'. It is thus excluded from the legend.\n",
      "  ax.legend(\n",
      "/tmp/ipykernel_205997/661917923.py:42: UserWarning: The label '_' of <matplotlib.lines.Line2D object at 0x7fb8a2345a50> starts with '_'. It is thus excluded from the legend.\n",
      "  ax.legend(\n",
      "/tmp/ipykernel_205997/661917923.py:42: UserWarning: The label '_' of <matplotlib.lines.Line2D object at 0x7fb8a2347b90> starts with '_'. It is thus excluded from the legend.\n",
      "  ax.legend(\n",
      "/tmp/ipykernel_205997/661917923.py:59: UserWarning: FixedFormatter should only be used together with FixedLocator\n",
      "  ax.set_yticklabels(\n",
      "No artists with labels found to put in legend.  Note that artists whose label start with an underscore are ignored when legend() is called with no argument.\n",
      "/tmp/ipykernel_205997/661917923.py:59: UserWarning: FixedFormatter should only be used together with FixedLocator\n",
      "  ax.set_yticklabels(\n",
      "No artists with labels found to put in legend.  Note that artists whose label start with an underscore are ignored when legend() is called with no argument.\n",
      "/tmp/ipykernel_205997/661917923.py:59: UserWarning: FixedFormatter should only be used together with FixedLocator\n",
      "  ax.set_yticklabels(\n",
      "No artists with labels found to put in legend.  Note that artists whose label start with an underscore are ignored when legend() is called with no argument.\n",
      "/tmp/ipykernel_205997/661917923.py:59: UserWarning: FixedFormatter should only be used together with FixedLocator\n",
      "  ax.set_yticklabels(\n",
      "The PostScript backend does not support transparency; partially transparent artists will be rendered opaque.\n"
     ]
    },
    {
     "data": {
      "image/png": "[encoded data removed]",
      "text/plain": [
       "<Figure size 720.472x360.236 with 4 Axes>"
      ]
     },
     "metadata": {},
     "output_type": "display_data"
    }
   ],
   "source": [
    "google_dataset = 'google_2014'\n",
    "google_experiment = 'kfold_splits'\n",
    "glofas_dataset = 'glofas_2014'\n",
    "glofas_experiment = metrics_utils.GLOFAS_VARIABLE\n",
    "\n",
    "fig, axes = plt.subplots(\n",
    "    2, 2, \n",
    "    figsize=(\n",
    "        evaluation_utils.NATURE_FIG_SIZES['two_column'], \n",
    "        evaluation_utils.NATURE_FIG_SIZES['two_column']/2\n",
    "    )\n",
    ")\n",
    "\n",
    "for ax, return_period in zip(axes.flatten(), evaluation_utils.RETURN_PERIODS[:-2]):\n",
    "\n",
    "    # Plot GloFAS.\n",
    "    dfs = [\n",
    "        f1s_by_lead_time[glofas_dataset][glofas_experiment][0][\n",
    "            return_period].rename(evaluation_utils.EXPERIMENT_NAMES[glofas_experiment])\n",
    "    ]\n",
    "    dfs = dfs + [\n",
    "        f1s_by_lead_time[google_dataset][google_experiment][\n",
    "            lead_time][return_period].rename(lead_time) for lead_time in data_paths.LEAD_TIMES\n",
    "    ]\n",
    "    df = pd.concat(dfs, axis=1).dropna()\n",
    "\n",
    "    df.rename(columns={evaluation_utils.EXPERIMENT_NAMES[glofas_experiment]: '0 (GloFAS)'}, inplace=True)\n",
    "    samples = df.shape[0]\n",
    "    \n",
    "    boxplot_colors = {'0 (GloFAS)': evaluation_utils.COLORS[0]}\n",
    "    boxplot_colors.update({lead_time: evaluation_utils.COLORS[1] for lead_time in data_paths.LEAD_TIMES})\n",
    "    bp = sns.boxplot(\n",
    "        ax=ax, \n",
    "        data=df, \n",
    "        showfliers=False, \n",
    "        palette=boxplot_colors,\n",
    "        linewidth=1,\n",
    "    )\n",
    "    ax.grid(c='#EEE')\n",
    "    ax.set_axisbelow(True)\n",
    "    if ax == axes[0, 0]:\n",
    "        ax.legend(\n",
    "            [\n",
    "                evaluation_utils.EXPERIMENT_NAMES[glofas_experiment]\n",
    "            ] + ['_']*5 + [evaluation_utils.EXPERIMENT_NAMES[google_experiment],],\n",
    "            fontsize=evaluation_utils.NATURE_FONT_SIZES['one_column']['legend'],\n",
    "            loc='upper right'\n",
    "        )\n",
    "    else:\n",
    "        ax.legend().remove()\n",
    "    ax.set_title(\n",
    "        f'{int(return_period)}-Year Return Period Events (N={samples})', \n",
    "        fontsize=evaluation_utils.NATURE_FONT_SIZES['one_column']['title']\n",
    "    )\n",
    "    ax.set_xticklabels(\n",
    "        ax.get_xticklabels(), \n",
    "        fontsize=evaluation_utils.NATURE_FONT_SIZES['one_column']['x_tick_labels']\n",
    "    )\n",
    "    ax.set_yticklabels(\n",
    "        ax.get_yticklabels(), \n",
    "        fontsize=evaluation_utils.NATURE_FONT_SIZES['one_column']['x_tick_labels']\n",
    "    )\n",
    "    \n",
    "    if ax in axes[0, :]:\n",
    "        ax.set_xlabel(None)\n",
    "    else:\n",
    "        ax.set_xlabel(\n",
    "            'Lead Time [days]', \n",
    "            fontsize=evaluation_utils.NATURE_FONT_SIZES['one_column']['axis_label'],\n",
    "        )\n",
    "    if ax in axes[:, 0]:\n",
    "        ax.set_ylabel(\n",
    "            'F1 Score', \n",
    "            fontsize=evaluation_utils.NATURE_FONT_SIZES['one_column']['axis_label'],\n",
    "        )\n",
    "\n",
    "    ax.plot(\n",
    "        [-0.5, 8.5],\n",
    "        [df['0 (GloFAS)'].median()]*2,\n",
    "        c=evaluation_utils.COLORS[0],\n",
    "        ls='--'\n",
    "    )\n",
    "\n",
    "plt.tight_layout()\n",
    "\n",
    "evaluation_utils.save_figure(data_paths.LEAD_TIME_RELIABILITY_DISTRIBUTIONS_FILENAME)"
   ]
  },
  {
   "cell_type": "markdown",
   "metadata": {},
   "source": [
    "# Statistical Significance of Differences with GloFAS"
   ]
  },
  {
   "cell_type": "code",
   "execution_count": 9,
   "metadata": {},
   "outputs": [
    {
     "name": "stdout",
     "output_type": "stream",
     "text": [
      "--- return_period = 1.01 --- lead_time = 0 ------------------------------------\n",
      "Mean Difference: -0.05458886032380632\n",
      "WilcoxonResult(statistic=837844.0, pvalue=1.0890639929869122e-57) 0.32612291321941966 0.2535908920268161 2410\n",
      "---------------------------------------------------------------------\n",
      "\n",
      "--- return_period = 1.01 --- lead_time = 1 ------------------------------------\n",
      "Mean Difference: -0.057227539559852304\n",
      "WilcoxonResult(statistic=814350.5, pvalue=3.222682414841535e-63) 0.3418093463765351 0.2687925253689626 2411\n",
      "---------------------------------------------------------------------\n",
      "\n",
      "--- return_period = 1.01 --- lead_time = 2 ------------------------------------\n",
      "Mean Difference: -0.056817473079750776\n",
      "WilcoxonResult(statistic=820026.0, pvalue=3.1540788960620277e-63) 0.3416228898798914 0.2708970688099132 2414\n",
      "---------------------------------------------------------------------\n",
      "\n",
      "--- return_period = 1.01 --- lead_time = 3 ------------------------------------\n",
      "Mean Difference: -0.045653678139692074\n",
      "WilcoxonResult(statistic=905658.0, pvalue=1.545086587179068e-45) 0.28820839833582695 0.22474876450620848 2415\n",
      "---------------------------------------------------------------------\n",
      "\n",
      "--- return_period = 1.01 --- lead_time = 4 ------------------------------------\n",
      "Mean Difference: -0.03069182813325459\n",
      "WilcoxonResult(statistic=1055773.5, pvalue=5.998918602695575e-23) 0.20062630397932535 0.1564234516383299 2417\n",
      "---------------------------------------------------------------------\n",
      "\n",
      "--- return_period = 1.01 --- lead_time = 5 ------------------------------------\n",
      "Mean Difference: -0.01531131097730232\n",
      "WilcoxonResult(statistic=1232102.5, pvalue=5.8234359200005775e-06) 0.09223557410184452 0.08042327849126493 2415\n",
      "---------------------------------------------------------------------\n",
      "\n",
      "--- return_period = 1.01 --- lead_time = 6 ------------------------------------\n",
      "Mean Difference: 0.003224274691353469\n",
      "WilcoxonResult(statistic=1321160.0, pvalue=0.0851267100946944) 0.03502717176166649 -0.017477552010234005 2416\n",
      "---------------------------------------------------------------------\n",
      "\n",
      "--- return_period = 1.01 --- lead_time = 7 ------------------------------------\n",
      "Mean Difference: 0.023117421181199173\n",
      "WilcoxonResult(statistic=1112635.5, pvalue=1.5096764901709163e-16) 0.16792583930413016 -0.13027050152230832 2417\n",
      "---------------------------------------------------------------------\n",
      "\n",
      "--- return_period = 2 --- lead_time = 0 ------------------------------------\n",
      "Mean Difference: -0.08242235215738986\n",
      "WilcoxonResult(statistic=550288.5, pvalue=1.3558710370154202e-47) 0.31182399863569715 0.3359487625375501 2160\n",
      "---------------------------------------------------------------------\n",
      "\n",
      "--- return_period = 2 --- lead_time = 1 ------------------------------------\n",
      "Mean Difference: -0.0826079120076566\n",
      "WilcoxonResult(statistic=541402.5, pvalue=1.9065891799783133e-49) 0.3183585121704206 0.3383318206571532 2156\n",
      "---------------------------------------------------------------------\n",
      "\n",
      "--- return_period = 2 --- lead_time = 2 ------------------------------------\n",
      "Mean Difference: -0.06866199400778883\n",
      "WilcoxonResult(statistic=588101.0, pvalue=9.5618281182808e-37) 0.2724499684169604 0.28236725008356717 2160\n",
      "---------------------------------------------------------------------\n",
      "\n",
      "--- return_period = 2 --- lead_time = 3 ------------------------------------\n",
      "Mean Difference: -0.05179543223276929\n",
      "WilcoxonResult(statistic=673562.0, pvalue=1.8017144883320227e-22) 0.20945055989643296 0.22010708095403947 2168\n",
      "---------------------------------------------------------------------\n",
      "\n",
      "--- return_period = 2 --- lead_time = 4 ------------------------------------\n",
      "Mean Difference: -0.028403997427768436\n",
      "WilcoxonResult(statistic=780433.5, pvalue=3.5087605205381885e-08) 0.1185041522788003 0.1220835200737125 2165\n",
      "---------------------------------------------------------------------\n",
      "\n",
      "--- return_period = 2 --- lead_time = 5 ------------------------------------\n",
      "Mean Difference: -4.426041059941488e-05\n",
      "WilcoxonResult(statistic=907993.0, pvalue=0.9770101125624939) 0.0006197678521486121 0.00019766689308396481 2162\n",
      "---------------------------------------------------------------------\n",
      "\n",
      "--- return_period = 2 --- lead_time = 6 ------------------------------------\n",
      "Mean Difference: 0.028871025770308482\n",
      "WilcoxonResult(statistic=792337.5, pvalue=3.458729096716392e-08) 0.11858582413527681 -0.13247490889720526 2164\n",
      "---------------------------------------------------------------------\n",
      "\n",
      "--- return_period = 2 --- lead_time = 7 ------------------------------------\n",
      "Mean Difference: 0.06227946708441053\n",
      "WilcoxonResult(statistic=652038.0, pvalue=6.567911263717782e-30) 0.24421553723901193 -0.29571470836019464 2164\n",
      "---------------------------------------------------------------------\n",
      "\n",
      "--- return_period = 5 --- lead_time = 0 ------------------------------------\n",
      "Mean Difference: -0.11091507953188033\n",
      "WilcoxonResult(statistic=121769.5, pvalue=3.003053986931527e-25) 0.29328773752329457 0.34583164687937645 1253\n",
      "---------------------------------------------------------------------\n",
      "\n",
      "--- return_period = 5 --- lead_time = 1 ------------------------------------\n",
      "Mean Difference: -0.11257898523693491\n",
      "WilcoxonResult(statistic=115891.5, pvalue=1.0200978793630679e-26) 0.30107420950820696 0.3500563421498952 1263\n",
      "---------------------------------------------------------------------\n",
      "\n",
      "--- return_period = 5 --- lead_time = 2 ------------------------------------\n",
      "Mean Difference: -0.09490445011365194\n",
      "WilcoxonResult(statistic=125632.0, pvalue=6.319134420555359e-21) 0.2623058823555627 0.30143187764308466 1280\n",
      "---------------------------------------------------------------------\n",
      "\n",
      "--- return_period = 5 --- lead_time = 3 ------------------------------------\n",
      "Mean Difference: -0.06227145934451954\n",
      "WilcoxonResult(statistic=163012.0, pvalue=1.8578620110428199e-09) 0.16726102828036324 0.20064415960847723 1291\n",
      "---------------------------------------------------------------------\n",
      "\n",
      "--- return_period = 5 --- lead_time = 4 ------------------------------------\n",
      "Mean Difference: -0.0408136183230179\n",
      "WilcoxonResult(statistic=173704.5, pvalue=6.960939185172478e-05) 0.11083196290497005 0.13247472476793176 1288\n",
      "---------------------------------------------------------------------\n",
      "\n",
      "--- return_period = 5 --- lead_time = 5 ------------------------------------\n",
      "Mean Difference: -0.007510916071992742\n",
      "WilcoxonResult(statistic=214143.5, pvalue=0.6928807398520294) 0.010962342194011843 0.025110106050481883 1298\n",
      "---------------------------------------------------------------------\n",
      "\n",
      "--- return_period = 5 --- lead_time = 6 ------------------------------------\n",
      "Mean Difference: 0.02871751829837787\n",
      "WilcoxonResult(statistic=203002.5, pvalue=0.0050019983146802355) 0.07758145109547498 -0.09834747054248762 1309\n",
      "---------------------------------------------------------------------\n",
      "\n",
      "--- return_period = 5 --- lead_time = 7 ------------------------------------\n",
      "Mean Difference: 0.06969254589081696\n",
      "WilcoxonResult(statistic=162759.0, pvalue=8.41368060708491e-12) 0.18710679331465416 -0.24638568536301994 1333\n",
      "---------------------------------------------------------------------\n",
      "\n",
      "--- return_period = 10 --- lead_time = 0 ------------------------------------\n",
      "Mean Difference: -0.10197107351712614\n",
      "WilcoxonResult(statistic=16056.5, pvalue=1.0023481158218479e-07) 0.22507715733056352 0.2599690945332497 560\n",
      "---------------------------------------------------------------------\n",
      "\n",
      "--- return_period = 10 --- lead_time = 1 ------------------------------------\n",
      "Mean Difference: -0.10816973104795984\n",
      "WilcoxonResult(statistic=15055.0, pvalue=7.342335399221768e-08) 0.23120185759235057 0.2735775245440193 542\n",
      "---------------------------------------------------------------------\n",
      "\n",
      "--- return_period = 10 --- lead_time = 2 ------------------------------------\n",
      "Mean Difference: -0.05222380368027877\n",
      "WilcoxonResult(statistic=18855.5, pvalue=0.007949807225176329) 0.11400740062387561 0.13239732923148498 542\n",
      "---------------------------------------------------------------------\n",
      "\n",
      "--- return_period = 10 --- lead_time = 3 ------------------------------------\n",
      "Mean Difference: -0.04366175996954731\n",
      "WilcoxonResult(statistic=18320.5, pvalue=0.016484620709642905) 0.10319372342524318 0.11185160945677958 540\n",
      "---------------------------------------------------------------------\n",
      "\n",
      "--- return_period = 10 --- lead_time = 4 ------------------------------------\n",
      "Mean Difference: -0.00863360299589505\n",
      "WilcoxonResult(statistic=22831.0, pvalue=0.6720050621916684) 0.018203292474341475 0.022289031998259237 541\n",
      "---------------------------------------------------------------------\n",
      "\n",
      "--- return_period = 10 --- lead_time = 5 ------------------------------------\n",
      "Mean Difference: 0.029531115880398175\n",
      "WilcoxonResult(statistic=22343.5, pvalue=0.11535656887260554) 0.06713973591422323 -0.07970558366390397 550\n",
      "---------------------------------------------------------------------\n",
      "\n",
      "--- return_period = 10 --- lead_time = 6 ------------------------------------\n",
      "Mean Difference: 0.09732990070363927\n",
      "WilcoxonResult(statistic=18668.5, pvalue=1.2509317462169873e-06) 0.20411215241061803 -0.2759848396125748 564\n",
      "---------------------------------------------------------------------\n",
      "\n",
      "--- return_period = 10 --- lead_time = 7 ------------------------------------\n",
      "Mean Difference: 0.11458233819685057\n",
      "WilcoxonResult(statistic=13951.0, pvalue=2.474571614067031e-09) 0.2508706044130768 -0.3293875290040117 565\n",
      "---------------------------------------------------------------------\n",
      "\n"
     ]
    }
   ],
   "source": [
    "google_dataset = 'google_2014'\n",
    "google_experiment = 'kfold_splits'\n",
    "glofas_dataset = 'glofas_2014'\n",
    "glofas_experiment = metrics_utils.GLOFAS_VARIABLE\n",
    "\n",
    "for return_period in [1.01, 2, 5, 10]:\n",
    "    for lead_time in data_paths.LEAD_TIMES:\n",
    "        df = pd.concat(\n",
    "            [\n",
    "                f1s_by_lead_time[glofas_dataset][glofas_experiment][0][return_period].rename(evaluation_utils.EXPERIMENT_NAMES[glofas_experiment]).rename('glofas'),\n",
    "                f1s_by_lead_time[google_dataset][google_experiment][lead_time][return_period].rename(lead_time)\n",
    "            ], \n",
    "        axis=1\n",
    "        ).dropna()\n",
    "        \n",
    "        print(f'--- {return_period = } --- {lead_time = } ------------------------------------')\n",
    "        print('Mean Difference:', (df['glofas'] - df[lead_time]).mean())\n",
    "        stats = wilcoxon(df['glofas'], df[lead_time])\n",
    "        cohen_d = evaluation_utils.cohen_d(df[lead_time].values, df['glofas'].values)\n",
    "        zstatistic = norm.isf(stats.pvalue / 2)\n",
    "        n = df.shape[0]\n",
    "        effect_size = zstatistic / n**(1/2)\n",
    "        print(stats, effect_size, cohen_d, n)\n",
    "        print('---------------------------------------------------------------------\\n')"
   ]
  },
  {
   "cell_type": "code",
   "execution_count": null,
   "metadata": {},
   "outputs": [],
   "source": []
  }
 ],
 "metadata": {
  "colab": {
   "last_runtime": {
    "build_target": "//intelligence/flood_forecasting/colab:notebook",
    "kind": "private"
   },
   "provenance": [
    {
     "file_id": "1U5lV5oB6crQAV7-OLTxegU4Dathhwd8Q",
     "timestamp": 1678011930641
    }
   ],
   "toc_visible": true
  },
  "kernelspec": {
   "display_name": "Python 3 (ipykernel)",
   "language": "python",
   "name": "python3"
  },
  "language_info": {
   "codemirror_mode": {
    "name": "ipython",
    "version": 3
   },
   "file_extension": ".py",
   "mimetype": "text/x-python",
   "name": "python",
   "nbconvert_exporter": "python",
   "pygments_lexer": "ipython3",
   "version": "3.11.4"
  }
 },
 "nbformat": 4,
 "nbformat_minor": 1
}
