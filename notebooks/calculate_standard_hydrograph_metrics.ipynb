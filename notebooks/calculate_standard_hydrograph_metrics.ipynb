{
 "cells": [
  {
   "cell_type": "markdown",
   "metadata": {
    "id": "dzNFopjta4Ln"
   },
   "source": [
    "# Imports"
   ]
  },
  {
   "cell_type": "code",
   "execution_count": 1,
   "metadata": {},
   "outputs": [],
   "source": [
    "%load_ext autoreload\n",
    "%autoreload 2"
   ]
  },
  {
   "cell_type": "code",
   "execution_count": 2,
   "metadata": {
    "id": "cCMJTSHMHjOT"
   },
   "outputs": [],
   "source": [
    "import numpy as np\n",
    "from tqdm import tqdm\n",
    "import xarray"
   ]
  },
  {
   "cell_type": "code",
   "execution_count": 3,
   "metadata": {
    "id": "vMru6zQLMOVN"
   },
   "outputs": [],
   "source": [
    "from backend import loading_utils\n",
    "from backend import data_paths\n",
    "from backend import gauge_groups_utils\n",
    "from backend import metrics_utils\n",
    "from backend import evaluation_utils"
   ]
  },
  {
   "cell_type": "code",
   "execution_count": null,
   "metadata": {},
   "outputs": [],
   "source": [
    "RESTART = True"
   ]
  },
  {
   "cell_type": "markdown",
   "metadata": {
    "id": "PVucJMQLqcsd"
   },
   "source": [
    "# Metadata"
   ]
  },
  {
   "cell_type": "markdown",
   "metadata": {},
   "source": [
    "## Gauge Groups"
   ]
  },
  {
   "cell_type": "code",
   "execution_count": 6,
   "metadata": {
    "executionInfo": {
     "elapsed": 63,
     "status": "ok",
     "timestamp": 1684109005131,
     "user": {
      "displayName": "Grey Nearing",
      "userId": "00389065855797486266"
     },
     "user_tz": 420
    },
    "id": "Ak8EySNIqenW",
    "outputId": "5966e743-725a-4945-e66f-728f57b95294"
   },
   "outputs": [
    {
     "name": "stdout",
     "output_type": "stream",
     "text": [
      "There are 5678 gauges.\n"
     ]
    }
   ],
   "source": [
    "gauges = gauge_groups_utils.get_full_gauge_group()\n",
    "print(f'There are {len(gauges)} gauges.')"
   ]
  },
  {
   "cell_type": "code",
   "execution_count": 5,
   "metadata": {},
   "outputs": [],
   "source": [
    "# gauges = gauges[50:100]"
   ]
  },
  {
   "cell_type": "markdown",
   "metadata": {
    "id": "HJxHtmXStyef"
   },
   "source": [
    "# Google"
   ]
  },
  {
   "cell_type": "code",
   "execution_count": null,
   "metadata": {
    "id": "aihP-c3wxWtO"
   },
   "outputs": [],
   "source": [
    "_EXPERIMENTS = data_paths.EXPERIMENTS"
   ]
  },
  {
   "cell_type": "markdown",
   "metadata": {
    "id": "NecB-jekVGJl"
   },
   "source": [
    "## Load Data: Google Model Runs"
   ]
  },
  {
   "cell_type": "code",
   "execution_count": null,
   "metadata": {
    "executionInfo": {
     "elapsed": 1819612,
     "status": "ok",
     "timestamp": 1684110828343,
     "user": {
      "displayName": "Grey Nearing",
      "userId": "00389065855797486266"
     },
     "user_tz": 420
    },
    "id": "qqWdVfgsewbH",
    "outputId": "7b72dc9c-2f81-4040-b7cf-86670a581662"
   },
   "outputs": [],
   "source": [
    "google_model_runs = loading_utils.load_all_experimental_model_runs(\n",
    "  gauges=gauges,\n",
    ")"
   ]
  },
  {
   "cell_type": "code",
   "execution_count": null,
   "metadata": {
    "executionInfo": {
     "elapsed": 6,
     "status": "ok",
     "timestamp": 1684110829634,
     "user": {
      "displayName": "Grey Nearing",
      "userId": "00389065855797486266"
     },
     "user_tz": 420
    },
    "id": "NgrdFDWcePr4",
    "outputId": "7e996d0c-b2d8-4e2c-8b6b-ebf35ebbb5ce"
   },
   "outputs": [],
   "source": [
    "# Count missing gauges per experiment.\n",
    "for experiment in google_model_runs:\n",
    "    missing_gauges = set(gauges) - set(google_model_runs[experiment].gauge_id.values)\n",
    "    print(f'There are {len(missing_gauges)} (out of {len(gauges)}) missing gauges in experiemnt {experiment}.')"
   ]
  },
  {
   "cell_type": "markdown",
   "metadata": {},
   "source": [
    "## Load Data: GRDC Observation Data"
   ]
  },
  {
   "cell_type": "code",
   "execution_count": 7,
   "metadata": {},
   "outputs": [],
   "source": [
    "# Load GRDC observation data.\n",
    "grdc_observation_data = loading_utils.load_grdc_data()"
   ]
  },
  {
   "cell_type": "code",
   "execution_count": 26,
   "metadata": {},
   "outputs": [
    {
     "name": "stderr",
     "output_type": "stream",
     "text": [
      "100%|████████████████████████████████████████████████████████████████████████████████████████████████████████████████████████████████████████████████████████████████████████████████████████████████████████████████████| 5670/5670 [00:07<00:00, 711.36it/s]"
     ]
    },
    {
     "name": "stdout",
     "output_type": "stream",
     "text": [
      "There are 152259.27397260274 total years of GRDC observation data from 5670 gauges.\n"
     ]
    },
    {
     "name": "stderr",
     "output_type": "stream",
     "text": [
      "\n"
     ]
    }
   ],
   "source": [
    "record_lengths = {}\n",
    "for gauge in tqdm(grdc_observation_data.gauge_id):\n",
    "    gauge_xr = grdc_observation_data.sel(\n",
    "        {\n",
    "            'gauge_id': gauge,\n",
    "            'lead_time': 0,\n",
    "        }\n",
    "    )\n",
    "    vals = gauge_xr[metrics_utils.OBS_VARIABLE].values\n",
    "    vals = vals[~np.isnan(vals)]\n",
    "    vals = vals[~np.isinf(vals)]\n",
    "    record_lengths[str(gauge.values)] = vals.shape[0]\n",
    "\n",
    "print(f'There are {np.sum([val for val in record_lengths.values()]) / 365} total years of GRDC observation data '\n",
    "      f'from {len(record_lengths)} gauges.')"
   ]
  },
  {
   "cell_type": "code",
   "execution_count": null,
   "metadata": {},
   "outputs": [],
   "source": [
    "# Add observation data to model run xarrays, and delete redundant varaible to save memory.\n",
    "for experiment in google_model_runs.keys():\n",
    "    google_model_runs[experiment] = xarray.merge(\n",
    "        [google_model_runs[experiment], grdc_observation_data])"
   ]
  },
  {
   "cell_type": "markdown",
   "metadata": {
    "id": "1KcrM3h7whZr"
   },
   "source": [
    "## Metrics: 2014 - Present"
   ]
  },
  {
   "cell_type": "code",
   "execution_count": null,
   "metadata": {},
   "outputs": [],
   "source": [
    "google_validation_time_periods = {\n",
    "    gauge: ['2014-01-01', '2023-01-01'] for gauge in gauges\n",
    "}"
   ]
  },
  {
   "cell_type": "code",
   "execution_count": null,
   "metadata": {
    "id": "QfgoVdakw6E_"
   },
   "outputs": [],
   "source": [
    "metrics = metrics_utils.calculate_and_save_metrics_for_many_gagues_and_many_models(\n",
    "    restart=RESTART,\n",
    "    experiments=_EXPERIMENTS,\n",
    "    ds=google_model_runs,\n",
    "    gauges=gauges,\n",
    "    sim_variable=metrics_utils.GOOGLE_VARIABLE,\n",
    "    obs_variable=metrics_utils.OBS_VARIABLE,\n",
    "    base_path=data_paths.PER_METRIC_GOOGLE_2014_HYDROGRAPH_METRICS_DIR,\n",
    "    breakpoints_path=data_paths.PER_GAUGE_GOOGLE_2014_HYDROGRAPH_METRICS_DIR,\n",
    "    time_periods=google_validation_time_periods,\n",
    ")\n",
    "metrics[_EXPERIMENTS[0]]['NSE'].replace(-np.inf, np.nan).describe()"
   ]
  },
  {
   "cell_type": "markdown",
   "metadata": {
    "id": "zRqtragoQWW1"
   },
   "source": [
    "## Metrics: 1980 - Present"
   ]
  },
  {
   "cell_type": "code",
   "execution_count": null,
   "metadata": {
    "id": "Sa9APQEk8Kot"
   },
   "outputs": [],
   "source": [
    "metrics = metrics_utils.calculate_and_save_metrics_for_many_gagues_and_many_models(\n",
    "    restart=RESTART,\n",
    "    experiments=_EXPERIMENTS,\n",
    "    ds=google_model_runs,\n",
    "    gauges=gauges,\n",
    "    sim_variable=metrics_utils.GOOGLE_VARIABLE,\n",
    "    obs_variable=metrics_utils.OBS_VARIABLE,\n",
    "    base_path=data_paths.PER_METRIC_GOOGLE_1980_HYDROGRAPH_METRICS_DIR,\n",
    "    breakpoints_path=data_paths.PER_GAUGE_GOOGLE_1980_HYDROGRAPH_METRICS_DIR,\n",
    "    lead_times=[0]\n",
    ")\n",
    "metrics[_EXPERIMENTS[0]]['NSE'].replace(-np.inf, np.nan).describe()"
   ]
  },
  {
   "cell_type": "markdown",
   "metadata": {},
   "source": [
    "## Delete Variables to Clear Memory"
   ]
  },
  {
   "cell_type": "code",
   "execution_count": null,
   "metadata": {},
   "outputs": [],
   "source": [
    "del google_model_runs"
   ]
  },
  {
   "cell_type": "markdown",
   "metadata": {
    "id": "Br5qfN-lx4Hb"
   },
   "source": [
    "# GloFAS"
   ]
  },
  {
   "cell_type": "code",
   "execution_count": null,
   "metadata": {
    "id": "UXOuhwzHx_Wm"
   },
   "outputs": [],
   "source": [
    "_EXPERIMENTS = [metrics_utils.GLOFAS_VARIABLE]"
   ]
  },
  {
   "cell_type": "markdown",
   "metadata": {
    "id": "ND6-PBRezEmc"
   },
   "source": [
    "## Load Data: GloFAS"
   ]
  },
  {
   "cell_type": "code",
   "execution_count": null,
   "metadata": {
    "id": "iV_nvnCbYEOb"
   },
   "outputs": [],
   "source": [
    "glofas_model_runs = loading_utils.load_glofas_model_runs(gauges=gauges)"
   ]
  },
  {
   "cell_type": "code",
   "execution_count": null,
   "metadata": {
    "id": "e5uZt3pTYIN6"
   },
   "outputs": [],
   "source": [
    "# Count missing gauges.\n",
    "missing_gauges = len(gauges) - len(glofas_model_runs.gauge_id)\n",
    "print(f'There are {missing_gauges} (out of {len(gauges)}) missing gauges in glofas runs.')"
   ]
  },
  {
   "cell_type": "code",
   "execution_count": null,
   "metadata": {
    "id": "8ZOFmhXe4k57"
   },
   "outputs": [],
   "source": [
    "# Merge everything into one large xarray.\n",
    "# This xarray merge takes ... forever ...\n",
    "glofas_model_runs = xarray.merge(\n",
    "    [glofas_model_runs, grdc_observation_data.sel(lead_time=0)])"
   ]
  },
  {
   "cell_type": "markdown",
   "metadata": {
    "id": "ytboPpLvBKnz"
   },
   "source": [
    "## Metrics: 2014 - Present"
   ]
  },
  {
   "cell_type": "code",
   "execution_count": null,
   "metadata": {},
   "outputs": [],
   "source": [
    "google_validation_time_periods = {\n",
    "    gauge: ['2014-01-01', '2023-01-01'] for gauge in gauges\n",
    "}"
   ]
  },
  {
   "cell_type": "code",
   "execution_count": null,
   "metadata": {
    "id": "R6CBMY9NBNg9"
   },
   "outputs": [],
   "source": [
    "metrics = metrics_utils.calculate_and_save_metrics_for_many_gagues_and_many_models(\n",
    "    restart=RESTART,\n",
    "    experiments=_EXPERIMENTS,\n",
    "    ds={exp: glofas_model_runs for exp in _EXPERIMENTS},\n",
    "    gauges=gauges,\n",
    "    sim_variable=metrics_utils.GLOFAS_VARIABLE,\n",
    "    obs_variable=metrics_utils.UNNORMALIZED_OBS_VARIABLE,\n",
    "    base_path=data_paths.PER_METRIC_GLOFAS_2014_HYDROGRAPH_METRICS_DIR,\n",
    "    breakpoints_path=data_paths.PER_GAUGE_GLOFAS_2014_HYDROGRAPH_METRICS_DIR,\n",
    "    time_periods=google_validation_time_periods,\n",
    "    lead_times=[0]\n",
    ")\n",
    "metrics[_EXPERIMENTS[0]]['NSE'].describe()"
   ]
  },
  {
   "cell_type": "markdown",
   "metadata": {
    "id": "ytboPpLvBKnz"
   },
   "source": [
    "## Metrics: 1980 - Present"
   ]
  },
  {
   "cell_type": "code",
   "execution_count": null,
   "metadata": {
    "id": "R6CBMY9NBNg9"
   },
   "outputs": [],
   "source": [
    "metrics = metrics_utils.calculate_and_save_metrics_for_many_gagues_and_many_models(\n",
    "    restart=RESTART,\n",
    "    experiments=_EXPERIMENTS,\n",
    "    ds={exp: glofas_model_runs for exp in _EXPERIMENTS},\n",
    "    gauges=gauges,\n",
    "    sim_variable=metrics_utils.GLOFAS_VARIABLE,\n",
    "    obs_variable=metrics_utils.UNNORMALIZED_OBS_VARIABLE,\n",
    "    base_path=data_paths.PER_METRIC_GLOFAS_1980_HYDROGRAPH_METRICS_DIR,\n",
    "    breakpoints_path=data_paths.PER_GAUGE_GLOFAS_1980_HYDROGRAPH_METRICS_DIR,\n",
    "    lead_times=[0]\n",
    ")\n",
    "metrics[_EXPERIMENTS[0]]['NSE'].describe()"
   ]
  },
  {
   "cell_type": "markdown",
   "metadata": {},
   "source": [
    "# Plot Hydrograph Metric CDFs"
   ]
  },
  {
   "cell_type": "code",
   "execution_count": null,
   "metadata": {},
   "outputs": [],
   "source": [
    "evaluation_utils.hydrograph_metrics_cdf_plots(\n",
    "    glofas_basepath=data_paths.PER_METRIC_GLOFAS_2014_HYDROGRAPH_METRICS_DIR,\n",
    "    google_basepath=data_paths.PER_METRIC_GOOGLE_2014_HYDROGRAPH_METRICS_DIR,\n",
    "    title='2014-2022 with Lead Times',\n",
    "    lead_times=list(range(8))\n",
    ")"
   ]
  },
  {
   "cell_type": "code",
   "execution_count": null,
   "metadata": {},
   "outputs": [],
   "source": [
    "evaluation_utils.hydrograph_metrics_cdf_plots(\n",
    "    glofas_basepath=data_paths.PER_METRIC_GLOFAS_1980_HYDROGRAPH_METRICS_DIR,\n",
    "    google_basepath=data_paths.PER_METRIC_GOOGLE_1980_HYDROGRAPH_METRICS_DIR,\n",
    "    title='1984-2022 Ungauged Cross Validation Splits',\n",
    "    lead_times=[0]\n",
    ")"
   ]
  },
  {
   "cell_type": "code",
   "execution_count": null,
   "metadata": {},
   "outputs": [],
   "source": []
  }
 ],
 "metadata": {
  "colab": {
   "last_runtime": {
    "build_target": "//intelligence/flood_forecasting/colab:notebook",
    "kind": "shared"
   },
   "provenance": [
    {
     "file_id": "1U5lV5oB6crQAV7-OLTxegU4Dathhwd8Q",
     "timestamp": 1676807730788
    }
   ],
   "toc_visible": true
  },
  "kernelspec": {
   "display_name": "Python 3 (ipykernel)",
   "language": "python",
   "name": "python3"
  },
  "language_info": {
   "codemirror_mode": {
    "name": "ipython",
    "version": 3
   },
   "file_extension": ".py",
   "mimetype": "text/x-python",
   "name": "python",
   "nbconvert_exporter": "python",
   "pygments_lexer": "ipython3",
   "version": "3.11.4"
  }
 },
 "nbformat": 4,
 "nbformat_minor": 1
}
