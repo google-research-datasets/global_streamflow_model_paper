{
 "cells": [
  {
   "cell_type": "markdown",
   "id": "3ce2c4d2",
   "metadata": {},
   "source": [
    "# Imports"
   ]
  },
  {
   "cell_type": "code",
   "execution_count": 1,
   "id": "198c326a",
   "metadata": {},
   "outputs": [],
   "source": [
    "%load_ext autoreload\n",
    "%autoreload 2"
   ]
  },
  {
   "cell_type": "code",
   "execution_count": 2,
   "id": "bf94b893",
   "metadata": {},
   "outputs": [],
   "source": [
    "import xarray\n",
    "import pathlib\n",
    "from glob import glob\n",
    "from tqdm import tqdm"
   ]
  },
  {
   "cell_type": "code",
   "execution_count": 28,
   "id": "9b671462",
   "metadata": {},
   "outputs": [],
   "source": [
    "from backend import data_paths\n",
    "from backend import loading_utils"
   ]
  },
  {
   "cell_type": "markdown",
   "id": "10f87102",
   "metadata": {},
   "source": [
    "# Gauges"
   ]
  },
  {
   "cell_type": "code",
   "execution_count": 20,
   "id": "1e8d0682",
   "metadata": {},
   "outputs": [
    {
     "name": "stdout",
     "output_type": "stream",
     "text": [
      "There are 5678 in the gauge group.\n"
     ]
    }
   ],
   "source": [
    "with open(data_paths.FULL_GAUGE_GROUP_FILE, 'rt') as f:\n",
    "    lines = f.readlines()\n",
    "gauges = [gauge.split('\\n')[0].split('_')[1] for gauge in lines]\n",
    "print(f'There are {len(gauges)} in the gauge group.')"
   ]
  },
  {
   "cell_type": "markdown",
   "id": "c6b64b0b",
   "metadata": {},
   "source": [
    "# Collect all GRDF Download Files"
   ]
  },
  {
   "cell_type": "code",
   "execution_count": 21,
   "id": "ccdcc9a3",
   "metadata": {},
   "outputs": [
    {
     "data": {
      "text/plain": [
       "['/home/gsnearing/data/grdc_data/GRDC-Daily-9.nc',\n",
       " '/home/gsnearing/data/grdc_data/GRDC-Daily-2.nc',\n",
       " '/home/gsnearing/data/grdc_data/GRDC-Daily-6.nc',\n",
       " '/home/gsnearing/data/grdc_data/GRDC-Daily-7.nc',\n",
       " '/home/gsnearing/data/grdc_data/GRDC-Daily-3.nc',\n",
       " '/home/gsnearing/data/grdc_data/GRDC-Daily-8.nc',\n",
       " '/home/gsnearing/data/grdc_data/GRDC-Daily-1.nc',\n",
       " '/home/gsnearing/data/grdc_data/GRDC-Daily-5.nc',\n",
       " '/home/gsnearing/data/grdc_data/GRDC-Daily-4.nc',\n",
       " '/home/gsnearing/data/grdc_data/GRDC-Daily.nc']"
      ]
     },
     "execution_count": 21,
     "metadata": {},
     "output_type": "execute_result"
    }
   ],
   "source": [
    "all_grdc_files = glob(str(data_paths.GRDC_DATA_DOWNLOAD_DIRECTORY / '*.nc'))\n",
    "all_grdc_files"
   ]
  },
  {
   "cell_type": "code",
   "execution_count": 22,
   "id": "1422fb3c",
   "metadata": {},
   "outputs": [
    {
     "name": "stderr",
     "output_type": "stream",
     "text": [
      "100%|█████████████████████████████████████████████████████████████████████████████████████████████████████████████████████████████████████████████████████████████████████████████████████████████████████████████████████████| 10/10 [00:04<00:00,  2.24it/s]\n"
     ]
    },
    {
     "data": {
      "text/plain": [
       "14220"
      ]
     },
     "execution_count": 22,
     "metadata": {},
     "output_type": "execute_result"
    }
   ],
   "source": [
    "xrs = []\n",
    "number_of_gauges = 0\n",
    "for f in tqdm(all_grdc_files):\n",
    "    xr = xarray.open_dataset(f)\n",
    "    xrs.append(xr)\n",
    "    number_of_gauges += len(xr.id.values)\n",
    "print(f'There are {number_of_gauges} gauges in the GRDC downloads.')"
   ]
  },
  {
   "cell_type": "markdown",
   "id": "516f6035",
   "metadata": {},
   "source": [
    "# Concatenate into a Single Xarray"
   ]
  },
  {
   "cell_type": "code",
   "execution_count": 26,
   "id": "029ae2ea",
   "metadata": {},
   "outputs": [
    {
     "name": "stdout",
     "output_type": "stream",
     "text": [
      "There are 8550 gauges in the concatenated xarray.\n",
      "There are 8550 unique gauges in the concatenated xarray.\n",
      "The missing gauges are: [1159303, 1160440, 1160772, 6503290, 6730500, 6836100, 6836190, 6854100]\n",
      "There are 5670 gauges in the final xarray.\n",
      "There time period is 1979-12-31T00:00:00.000000000 to 2023-08-30T00:00:00.000000000.\n"
     ]
    }
   ],
   "source": [
    "# concatenate\n",
    "full_xr = xarray.concat(xrs, dim='id')\n",
    "\n",
    "# drop any duplicate basins\n",
    "full_xr = full_xr.drop_duplicates(dim='id', keep='first')\n",
    "\n",
    "# check for missing gauges\n",
    "gauges_in_xr = [str(gauge).zfill(7) for gauge in full_xr.id.values]\n",
    "print(f'There are {len(gauges_in_xr)} gauges in the concatenated xarray.')\n",
    "print(f'There are {len(set(gauges_in_xr))} unique gauges in the concatenated xarray.')\n",
    "\n",
    "missing_gauges = [gauge for gauge in gauges if gauge not in gauges_in_xr]\n",
    "len(f'There are {len(missing_gauges)} gauges missing from the xarray.')\n",
    "\n",
    "# print missing gauges\n",
    "print('The missing gauges are:', [int(gauge) for gauge in missing_gauges])\n",
    "\n",
    "# grab all gauges from xarray that are in the gauge group\n",
    "present_gauges = list(set(gauges) - set(missing_gauges))\n",
    "present_gauges = [int(gauge) for gauge in present_gauges]\n",
    "sliced_xr = full_xr.sel({'id': present_gauges})\n",
    "print(f'There are {len(sliced_xr.id)} gauges in the final xarray.')\n",
    "\n",
    "# grab 1980 to present\n",
    "timeslice = sliced_xr.time.values\n",
    "sliced_xr = sliced_xr.sel({'time': timeslice[63551:]})\n",
    "print(f'There time period is {sliced_xr.time.values[0]} to {sliced_xr.time.values[-1]}.')"
   ]
  },
  {
   "cell_type": "markdown",
   "id": "123c3d44",
   "metadata": {},
   "source": [
    "# Save to NetCDF File"
   ]
  },
  {
   "cell_type": "code",
   "execution_count": 29,
   "id": "9e534749",
   "metadata": {},
   "outputs": [],
   "source": [
    "loading_utils.create_remote_folder_if_necessary(data_paths.GRDC_DATA_FILE.parent)\n",
    "sliced_xr.to_netcdf(data_paths.GRDC_DATA_FILE)"
   ]
  },
  {
   "cell_type": "code",
   "execution_count": null,
   "id": "7fa21252",
   "metadata": {},
   "outputs": [],
   "source": []
  }
 ],
 "metadata": {
  "kernelspec": {
   "display_name": "Python 3 (ipykernel)",
   "language": "python",
   "name": "python3"
  },
  "language_info": {
   "codemirror_mode": {
    "name": "ipython",
    "version": 3
   },
   "file_extension": ".py",
   "mimetype": "text/x-python",
   "name": "python",
   "nbconvert_exporter": "python",
   "pygments_lexer": "ipython3",
   "version": "3.11.4"
  }
 },
 "nbformat": 4,
 "nbformat_minor": 5
}
