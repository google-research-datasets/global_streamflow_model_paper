{
 "cells": [
  {
   "cell_type": "markdown",
   "metadata": {
    "id": "dzNFopjta4Ln"
   },
   "source": [
    "# Imports"
   ]
  },
  {
   "cell_type": "code",
   "execution_count": 1,
   "metadata": {
    "executionInfo": {
     "elapsed": 4538,
     "status": "ok",
     "timestamp": 1686657068813,
     "user": {
      "displayName": "Grey Nearing",
      "userId": "00389065855797486266"
     },
     "user_tz": -180
    },
    "id": "2mIv77EiNGS3"
   },
   "outputs": [],
   "source": [
    "import matplotlib.pyplot as plt\n",
    "import pandas as pd\n",
    "import pickle as pkl\n",
    "import seaborn as sns\n",
    "from scipy.stats import norm\n",
    "from scipy.stats import ranksums, wilcoxon"
   ]
  },
  {
   "cell_type": "code",
   "execution_count": 2,
   "metadata": {
    "executionInfo": {
     "elapsed": 5599,
     "status": "ok",
     "timestamp": 1686657075040,
     "user": {
      "displayName": "Grey Nearing",
      "userId": "00389065855797486266"
     },
     "user_tz": -180
    },
    "id": "NKOTbNQx04-D"
   },
   "outputs": [],
   "source": [
    "from backend import data_paths\n",
    "from backend import evaluation_utils\n",
    "from backend import gauge_groups_utils"
   ]
  },
  {
   "cell_type": "markdown",
   "metadata": {
    "id": "3DH4JNSQM7lD"
   },
   "source": [
    "# Load Return Period Metrics"
   ]
  },
  {
   "cell_type": "code",
   "execution_count": 3,
   "metadata": {
    "executionInfo": {
     "elapsed": 82,
     "status": "ok",
     "timestamp": 1686657081409,
     "user": {
      "displayName": "Grey Nearing",
      "userId": "00389065855797486266"
     },
     "user_tz": -180
    },
    "id": "r-Ipfs2Z_YWv"
   },
   "outputs": [],
   "source": [
    "_DATASET_RETURN_PERIOD_METRICS_PATH = {\n",
    "    'google_2014': data_paths.GOOGLE_2014_RETURN_PERIOD_METRICS_DIR,\n",
    "    'google_1980': data_paths.GOOGLE_1980_RETURN_PERIOD_METRICS_DIR,\n",
    "    'glofas_2014': data_paths.GLOFAS_v3_REANALYSIS_2014_RETURN_PERIOD_METRICS_DIR,\n",
    "    'glofas_1980': data_paths.GLOFAS_v3_REANALYSIS_1980_RETURN_PERIOD_METRICS_DIR,\n",
    "}"
   ]
  },
  {
   "cell_type": "code",
   "execution_count": 4,
   "metadata": {
    "executionInfo": {
     "elapsed": 5599,
     "status": "ok",
     "timestamp": 1686657075040,
     "user": {
      "displayName": "Grey Nearing",
      "userId": "00389065855797486266"
     },
     "user_tz": -180
    },
    "id": "NKOTbNQx04-D",
    "scrolled": true
   },
   "outputs": [
    {
     "name": "stdout",
     "output_type": "stream",
     "text": [
      "Working on google_2014 ...\n",
      "Finished loading google_2014. \n",
      "\n",
      "Working on google_1980 ...\n",
      "Finished loading google_1980. \n",
      "\n",
      "Working on glofas_2014 ...\n",
      "Finished loading glofas_2014. \n",
      "\n",
      "Working on glofas_1980 ...\n",
      "Finished loading glofas_1980. \n",
      "\n"
     ]
    }
   ],
   "source": [
    "_DATASET_RETURN_PERIOD_METRICS_PATH = {\n",
    "    'google_2014': data_paths.GOOGLE_2014_RETURN_PERIOD_METRICS_DIR,\n",
    "    'google_1980': data_paths.GOOGLE_1980_RETURN_PERIOD_METRICS_DIR,\n",
    "    'glofas_2014': data_paths.GLOFAS_v3_REANALYSIS_2014_RETURN_PERIOD_METRICS_DIR,\n",
    "    'glofas_1980': data_paths.GLOFAS_v3_REANALYSIS_1980_RETURN_PERIOD_METRICS_DIR,\n",
    "}\n",
    "\n",
    "precisions_by_lead_time = {}\n",
    "recalls_by_lead_time = {}\n",
    "\n",
    "precisions_by_return_period = {}\n",
    "recalls_by_return_period = {}\n",
    "\n",
    "for dataset, data_path in _DATASET_RETURN_PERIOD_METRICS_PATH.items():\n",
    "    print(f'Working on {dataset} ...')\n",
    "    file_path = data_paths.CONCATENATED_RETURN_PERIOD_DICTS_DIR / f'{dataset}_return_period_dicts.pkl'\n",
    "    with open(file_path, 'rb') as f:\n",
    "        precisions_by_lead_time[dataset], recalls_by_lead_time[dataset] = pkl.load(f)\n",
    "    print(f'Finished loading {dataset}. \\n')"
   ]
  },
  {
   "cell_type": "markdown",
   "metadata": {},
   "source": [
    "# Calculate F1 Scores from Precision & Recall"
   ]
  },
  {
   "cell_type": "code",
   "execution_count": 5,
   "metadata": {
    "executionInfo": {
     "elapsed": 920,
     "status": "ok",
     "timestamp": 1686657100636,
     "user": {
      "displayName": "Grey Nearing",
      "userId": "00389065855797486266"
     },
     "user_tz": -180
    },
    "id": "5gE4-QHOCwSC"
   },
   "outputs": [],
   "source": [
    "f1s_by_lead_time = {\n",
    "    dataset: {\n",
    "        experiment: {\n",
    "            lead_time:\n",
    "              evaluation_utils.f1_from_precision_and_recall_dfs(\n",
    "                  precision_df=precisions_by_lead_time[dataset][experiment][lead_time],\n",
    "                  recall_df=recalls_by_lead_time[dataset][experiment][lead_time]\n",
    "              ) for lead_time in data_paths.LEAD_TIMES\n",
    "        } for experiment in precisions_by_lead_time[dataset]\n",
    "    } for dataset in _DATASET_RETURN_PERIOD_METRICS_PATH\n",
    "}"
   ]
  },
  {
   "cell_type": "markdown",
   "metadata": {
    "id": "wWNyBx23-3zy"
   },
   "source": [
    "# Gauge Groups"
   ]
  },
  {
   "cell_type": "code",
   "execution_count": 6,
   "metadata": {},
   "outputs": [
    {
     "name": "stdout",
     "output_type": "stream",
     "text": [
      "There are 5678 gauges.\n"
     ]
    }
   ],
   "source": [
    "gauges = gauge_groups_utils.get_full_gauge_group()\n",
    "print(f'There are {len(gauges)} gauges.')"
   ]
  },
  {
   "cell_type": "code",
   "execution_count": 7,
   "metadata": {
    "executionInfo": {
     "elapsed": 1187,
     "status": "ok",
     "timestamp": 1686657078273,
     "user": {
      "displayName": "Grey Nearing",
      "userId": "00389065855797486266"
     },
     "user_tz": -180
    },
    "id": "FQq1T_gjTuKF",
    "outputId": "2562a054-8e51-4d83-8b9f-4f5d9d522b5b"
   },
   "outputs": [
    {
     "name": "stdout",
     "output_type": "stream",
     "text": [
      "Working on kfold_splits ...\n"
     ]
    },
    {
     "name": "stderr",
     "output_type": "stream",
     "text": [
      "100%|███████████████████████████████████████████████████████████████████████████████████████████████████████████████████████████████████████████| 10/10 [00:00<00:00, 6515.93it/s]\n"
     ]
    },
    {
     "name": "stdout",
     "output_type": "stream",
     "text": [
      "Working on continent_splits ...\n"
     ]
    },
    {
     "name": "stderr",
     "output_type": "stream",
     "text": [
      "100%|█████████████████████████████████████████████████████████████████████████████████████████████████████████████████████████████████████████████| 6/6 [00:00<00:00, 2962.43it/s]\n"
     ]
    },
    {
     "name": "stdout",
     "output_type": "stream",
     "text": [
      "Working on climate_splits ...\n"
     ]
    },
    {
     "name": "stderr",
     "output_type": "stream",
     "text": [
      "100%|███████████████████████████████████████████████████████████████████████████████████████████████████████████████████████████████████████████| 13/13 [00:00<00:00, 7611.10it/s]\n"
     ]
    }
   ],
   "source": [
    "ungauged_gauge_groups = gauge_groups_utils.load_all_ungauged_gauge_groups()"
   ]
  },
  {
   "cell_type": "markdown",
   "metadata": {},
   "source": [
    "# F1 Distributions over Continents"
   ]
  },
  {
   "cell_type": "code",
   "execution_count": 8,
   "metadata": {},
   "outputs": [],
   "source": [
    "# Assign continents to each gauge.\n",
    "continent_names = {split: split.replace('_', ' ').title() for split in ungauged_gauge_groups['continent_splits']}\n",
    "gauge_continent_df = pd.Series(index=gauges, dtype=str, name='Continent')\n",
    "for gauge in gauges:\n",
    "    continent = [continent for continent, split_gauges in ungauged_gauge_groups['continent_splits'].items() if gauge in split_gauges][0]\n",
    "    gauge_continent_df.loc[gauge] = continent_names[continent]"
   ]
  },
  {
   "cell_type": "code",
   "execution_count": 9,
   "metadata": {
    "colab": {
     "height": 423
    },
    "executionInfo": {
     "elapsed": 64,
     "status": "ok",
     "timestamp": 1686666627465,
     "user": {
      "displayName": "Grey Nearing",
      "userId": "00389065855797486266"
     },
     "user_tz": -180
    },
    "id": "sgU5cNdimwW6",
    "outputId": "ba7b40d6-4690-464f-f0db-5bf8bcdeb2b1"
   },
   "outputs": [
    {
     "data": {
      "image/png": "[encoded data removed]",
      "text/plain": [
       "<Figure size 1800x900 with 4 Axes>"
      ]
     },
     "metadata": {},
     "output_type": "display_data"
    }
   ],
   "source": [
    "lead_time = 0\n",
    "return_periods = evaluation_utils.RETURN_PERIODS[:-2]\n",
    "experiments = ['glofas_reanalysis', 'kfold_splits']\n",
    "experiment_names = {experiment: evaluation_utils.EXPERIMENT_NAMES[experiment] for experiment in experiments}\n",
    "split_names = {split: split.replace('_', ' ').title() for split in ungauged_gauge_groups['continent_splits']}\n",
    "\n",
    "metric = 'F1 Score'\n",
    "\n",
    "fig, axes = plt.subplots(2, 2, figsize=(18, 9))\n",
    "\n",
    "for ridx, (ax, return_period) in enumerate(zip(axes.flatten(), return_periods)):\n",
    "\n",
    "    if metric.lower() == 'precision':\n",
    "        plotdata = pd.concat(\n",
    "            [\n",
    "                gauge_continent_df,\n",
    "                precisions_by_lead_time['glofas_1980']['glofas_reanalysis'][lead_time][return_period].rename('glofas_reanalysis'),\n",
    "                precisions_by_lead_time['google_1980']['kfold_splits'][lead_time][return_period].rename('kfold_splits')\n",
    "            ], axis=1\n",
    "        ).dropna()\n",
    "    elif metric.lower() == 'recall':\n",
    "        plotdata = pd.concat(\n",
    "            [\n",
    "                gauge_continent_df,\n",
    "                recalls_by_lead_time['glofas_1980']['glofas_reanalysis'][lead_time][return_period].rename('glofas_reanalysis'),\n",
    "                recalls_by_lead_time['google_1980']['kfold_splits'][lead_time][return_period].rename('kfold_splits')\n",
    "            ], axis=1\n",
    "        ).dropna()\n",
    "    elif metric.lower() == 'f1 score':\n",
    "        plotdata = pd.concat(\n",
    "            [\n",
    "                gauge_continent_df,\n",
    "                f1s_by_lead_time['glofas_1980']['glofas_reanalysis'][lead_time][return_period].rename('glofas_reanalysis'),\n",
    "                f1s_by_lead_time['google_1980']['kfold_splits'][lead_time][return_period].rename('kfold_splits')\n",
    "            ], axis=1\n",
    "        ).dropna()\n",
    "    else:\n",
    "        raise ValueError('Unknown metric')\n",
    "\n",
    "    plotdata.rename(columns=experiment_names, inplace=True)\n",
    "    dd = pd.melt(\n",
    "        plotdata,\n",
    "        id_vars=['Continent'],\n",
    "        value_vars=experiment_names.values(),\n",
    "        var_name='Model',\n",
    "        value_name=metric\n",
    "    )\n",
    "    sns.boxplot(\n",
    "        data=dd,\n",
    "        x='Continent',\n",
    "        y=metric,\n",
    "        hue='Model',\n",
    "        ax=ax,\n",
    "        showfliers=False\n",
    "    )\n",
    "    ax.set_xlabel('Continent', fontsize=16)\n",
    "    ax.set_xticklabels(ax.get_xticklabels(), fontsize=14)\n",
    "    ax.set_title(f'{int(return_period)}-Year Return Period Events 1984-2022', fontsize=20)\n",
    "    ax.grid(c='#EEE')\n",
    "    ax.set_axisbelow(True)\n",
    "\n",
    "    if ax != axes.flatten()[0]:\n",
    "        ax.get_legend().remove()\n",
    "\n",
    "plt.tight_layout()\n",
    "\n",
    "evaluation_utils.save_figure(data_paths.CONTINENT_RELIABILITY_SCORES_DISTRIBUTIONS_FILENAME)"
   ]
  },
  {
   "cell_type": "markdown",
   "metadata": {},
   "source": [
    "# GloFAS Difference Between Continents"
   ]
  },
  {
   "cell_type": "markdown",
   "metadata": {},
   "source": [
    "## Precisions"
   ]
  },
  {
   "cell_type": "code",
   "execution_count": 10,
   "metadata": {},
   "outputs": [
    {
     "name": "stdout",
     "output_type": "stream",
     "text": [
      "--- return_period = 1.01-----------------------------------------------\n",
      "Continent\n",
      "Africa                0.253210\n",
      "Europe                0.382247\n",
      "North America         0.285695\n",
      "South America         0.282522\n",
      "South West Pacific    0.309222\n",
      "Name: glofas_reanalysis, dtype: float64\n",
      "0.33757398920920106\n",
      "--- return_period = 2-----------------------------------------------\n",
      "Continent\n",
      "Africa                0.255968\n",
      "Europe                0.371424\n",
      "North America         0.291130\n",
      "South America         0.224586\n",
      "South West Pacific    0.330688\n",
      "Name: glofas_reanalysis, dtype: float64\n",
      "0.39533815709438314\n",
      "--- return_period = 5-----------------------------------------------\n",
      "Continent\n",
      "Africa                0.211763\n",
      "Europe                0.290501\n",
      "North America         0.226703\n",
      "South America         0.178403\n",
      "South West Pacific    0.274284\n",
      "Name: glofas_reanalysis, dtype: float64\n",
      "0.38587931368746864\n",
      "--- return_period = 10-----------------------------------------------\n",
      "Continent\n",
      "Africa                0.150058\n",
      "Europe                0.232671\n",
      "North America         0.196245\n",
      "South America         0.141474\n",
      "South West Pacific    0.211263\n",
      "Name: glofas_reanalysis, dtype: float64\n",
      "0.39195529251784333\n",
      "--- return_period = 20-----------------------------------------------\n",
      "Continent\n",
      "Africa                0.133634\n",
      "Europe                0.189838\n",
      "North America         0.155306\n",
      "South America         0.076967\n",
      "South West Pacific    0.167318\n",
      "Name: glofas_reanalysis, dtype: float64\n",
      "0.5945653914044366\n",
      "--- return_period = 50-----------------------------------------------\n",
      "Continent\n",
      "Africa                0.071237\n",
      "Europe                0.122330\n",
      "North America         0.094112\n",
      "South America         0.055147\n",
      "South West Pacific    0.086667\n",
      "Name: glofas_reanalysis, dtype: float64\n",
      "0.5491929698708752\n"
     ]
    }
   ],
   "source": [
    "for return_period in evaluation_utils.RETURN_PERIODS:\n",
    "    df = pd.concat(\n",
    "        [\n",
    "            gauge_continent_df,\n",
    "            precisions_by_lead_time['glofas_1980']['glofas_reanalysis'][lead_time][return_period].rename('glofas_reanalysis'),\n",
    "        ], axis=1\n",
    "    ).dropna()\n",
    "\n",
    "    continent_means = df.groupby(['Continent'])['glofas_reanalysis'].mean()\n",
    "    \n",
    "    print(f'--- {return_period = }-----------------------------------------------')\n",
    "    print(continent_means)\n",
    "    \n",
    "    frac_diff = (continent_means.max() - continent_means.min()) / continent_means.max()\n",
    "    print(frac_diff)"
   ]
  },
  {
   "cell_type": "markdown",
   "metadata": {},
   "source": [
    "## Recalls"
   ]
  },
  {
   "cell_type": "code",
   "execution_count": 11,
   "metadata": {},
   "outputs": [
    {
     "name": "stdout",
     "output_type": "stream",
     "text": [
      "--- return_period = 1.01-----------------------------------------------\n",
      "Continent\n",
      "Africa                0.159012\n",
      "Europe                0.338362\n",
      "North America         0.236093\n",
      "South America         0.162268\n",
      "South West Pacific    0.242310\n",
      "Name: glofas_reanalysis, dtype: float64\n",
      "0.5300539871068305\n",
      "--- return_period = 2-----------------------------------------------\n",
      "Continent\n",
      "Africa                0.190297\n",
      "Europe                0.341745\n",
      "North America         0.252098\n",
      "South America         0.194756\n",
      "South West Pacific    0.320944\n",
      "Name: glofas_reanalysis, dtype: float64\n",
      "0.4431600333201582\n",
      "--- return_period = 5-----------------------------------------------\n",
      "Continent\n",
      "Africa                0.168238\n",
      "Europe                0.278983\n",
      "North America         0.220050\n",
      "South America         0.169345\n",
      "South West Pacific    0.280292\n",
      "Name: glofas_reanalysis, dtype: float64\n",
      "0.39977650676654675\n",
      "--- return_period = 10-----------------------------------------------\n",
      "Continent\n",
      "Africa                0.115283\n",
      "Europe                0.242876\n",
      "North America         0.202563\n",
      "South America         0.159809\n",
      "South West Pacific    0.215481\n",
      "Name: glofas_reanalysis, dtype: float64\n",
      "0.5253423270167005\n",
      "--- return_period = 20-----------------------------------------------\n",
      "Continent\n",
      "Africa                0.120151\n",
      "Europe                0.201567\n",
      "North America         0.183381\n",
      "South America         0.092946\n",
      "South West Pacific    0.178184\n",
      "Name: glofas_reanalysis, dtype: float64\n",
      "0.5388848320507483\n",
      "--- return_period = 50-----------------------------------------------\n",
      "Continent\n",
      "Africa                0.088710\n",
      "Europe                0.125225\n",
      "North America         0.140510\n",
      "South America         0.063218\n",
      "South West Pacific    0.119792\n",
      "Name: glofas_reanalysis, dtype: float64\n",
      "0.5500787912495366\n"
     ]
    }
   ],
   "source": [
    "for return_period in evaluation_utils.RETURN_PERIODS:\n",
    "    df = pd.concat(\n",
    "        [\n",
    "            gauge_continent_df,\n",
    "            recalls_by_lead_time['glofas_1980']['glofas_reanalysis'][lead_time][return_period].rename('glofas_reanalysis'),\n",
    "        ], axis=1\n",
    "    ).dropna()\n",
    "\n",
    "    continent_means = df.groupby(['Continent'])['glofas_reanalysis'].mean()\n",
    "    \n",
    "    print(f'--- {return_period = }-----------------------------------------------')\n",
    "    print(continent_means)\n",
    "    \n",
    "    frac_diff = (continent_means.max() - continent_means.min()) / continent_means.max()\n",
    "    print(frac_diff)"
   ]
  },
  {
   "cell_type": "markdown",
   "metadata": {},
   "source": [
    "## F1s"
   ]
  },
  {
   "cell_type": "code",
   "execution_count": 12,
   "metadata": {},
   "outputs": [
    {
     "name": "stdout",
     "output_type": "stream",
     "text": [
      "--- return_period = 1.01-----------------------------------------------\n",
      "Continent\n",
      "Africa                0.181422\n",
      "Europe                0.344759\n",
      "North America         0.244099\n",
      "South America         0.192472\n",
      "South West Pacific    0.255257\n",
      "Name: glofas_reanalysis, dtype: float64\n",
      "0.4737705982560068\n",
      "--- return_period = 2-----------------------------------------------\n",
      "Continent\n",
      "Africa                0.203080\n",
      "Europe                0.347060\n",
      "North America         0.261622\n",
      "South America         0.201963\n",
      "South West Pacific    0.314739\n",
      "Name: glofas_reanalysis, dtype: float64\n",
      "0.418075671268796\n",
      "--- return_period = 5-----------------------------------------------\n",
      "Continent\n",
      "Africa                0.194488\n",
      "Europe                0.276865\n",
      "North America         0.215750\n",
      "South America         0.163722\n",
      "South West Pacific    0.267153\n",
      "Name: glofas_reanalysis, dtype: float64\n",
      "0.40865840185954433\n",
      "--- return_period = 10-----------------------------------------------\n",
      "Continent\n",
      "Africa                0.151569\n",
      "Europe                0.235742\n",
      "North America         0.191852\n",
      "South America         0.137891\n",
      "South West Pacific    0.206379\n",
      "Name: glofas_reanalysis, dtype: float64\n",
      "0.4150769879702039\n",
      "--- return_period = 20-----------------------------------------------\n",
      "Continent\n",
      "Africa                0.175217\n",
      "Europe                0.204339\n",
      "North America         0.167965\n",
      "South America         0.087206\n",
      "South West Pacific    0.199482\n",
      "Name: glofas_reanalysis, dtype: float64\n",
      "0.5732293221338753\n",
      "--- return_period = 50-----------------------------------------------\n",
      "Continent\n",
      "Africa                0.192691\n",
      "Europe                0.222230\n",
      "North America         0.178387\n",
      "South America         0.119883\n",
      "South West Pacific    0.238519\n",
      "Name: glofas_reanalysis, dtype: float64\n",
      "0.49738476626348477\n"
     ]
    }
   ],
   "source": [
    "for return_period in evaluation_utils.RETURN_PERIODS:\n",
    "    df = pd.concat(\n",
    "        [\n",
    "            gauge_continent_df,\n",
    "            f1s_by_lead_time['glofas_1980']['glofas_reanalysis'][lead_time][return_period].rename('glofas_reanalysis'),\n",
    "        ], axis=1\n",
    "    ).dropna()\n",
    "\n",
    "    continent_means = df.groupby(['Continent'])['glofas_reanalysis'].mean()\n",
    "    \n",
    "    print(f'--- {return_period = }-----------------------------------------------')\n",
    "    print(continent_means)\n",
    "    \n",
    "    frac_diff = (continent_means.max() - continent_means.min()) / continent_means.max()\n",
    "    print(frac_diff)"
   ]
  },
  {
   "cell_type": "markdown",
   "metadata": {},
   "source": [
    "# Statistical Tests with GloFAS Europe"
   ]
  },
  {
   "cell_type": "code",
   "execution_count": 13,
   "metadata": {},
   "outputs": [
    {
     "name": "stdout",
     "output_type": "stream",
     "text": [
      "--- Test Against GloFAS Europe: metric ='precision' --- continent ='Africa' --- return_period =5 ----\n",
      "RanksumsResult(statistic=2.4296841171731587, pvalue=0.015111987200761576) -0.09491362999439189\n",
      "0.08034539131727429\n",
      "-------------------------------------------------------------------------------\n",
      "\n",
      "--- Test Against GloFAS Europe: metric ='precision' --- continent ='South America' --- return_period =5 ----\n",
      "RanksumsResult(statistic=2.0681533652886737, pvalue=0.03862560389789095) -0.17259832333889713\n",
      "0.13407119596748918\n",
      "-------------------------------------------------------------------------------\n",
      "\n",
      "--- Test Against GloFAS Europe: metric ='precision' --- continent ='Africa' --- return_period =10 ----\n",
      "RanksumsResult(statistic=1.7919607934483097, pvalue=0.07313924654839707) -0.08216104196360156\n",
      "0.09338170443413718\n",
      "-------------------------------------------------------------------------------\n",
      "\n",
      "--- Test Against GloFAS Europe: metric ='recall' --- continent ='South America' --- return_period =2 ----\n",
      "RanksumsResult(statistic=0.7382379074758444, pvalue=0.46036989114729154) 0.007126270835719394\n",
      "-0.0037905576056095932\n",
      "-------------------------------------------------------------------------------\n",
      "\n",
      "--- Test Against GloFAS Europe: metric ='recall' --- continent ='Africa' --- return_period =10 ----\n",
      "RanksumsResult(statistic=2.267723442036074, pvalue=0.023346068139125115) -0.11298529388897335\n",
      "0.1300887084063569\n",
      "-------------------------------------------------------------------------------\n",
      "\n",
      "--- Test Against GloFAS Europe: metric ='f1 score' --- continent ='Africa' --- return_period =5 ----\n",
      "RanksumsResult(statistic=1.6008098324283067, pvalue=0.1094190451827652) -0.09254832578422696\n",
      "0.07194633946050281\n",
      "-------------------------------------------------------------------------------\n",
      "\n",
      "--- Test Against GloFAS Europe: metric ='f1 score' --- continent ='South America' --- return_period =5 ----\n",
      "RanksumsResult(statistic=1.1230995452723214, pvalue=0.26139521924418974) -0.09926446935139328\n",
      "0.07355789861745907\n",
      "-------------------------------------------------------------------------------\n",
      "\n",
      "--- Test Against GloFAS Europe: metric ='f1 score' --- continent ='Africa' --- return_period =10 ----\n",
      "RanksumsResult(statistic=0.4687838153365395, pvalue=0.6392241696577141) -0.0076053210565530166\n",
      "0.007747553436320438\n",
      "-------------------------------------------------------------------------------\n",
      "\n"
     ]
    }
   ],
   "source": [
    "lead_time = 0\n",
    "return_periods = evaluation_utils.RETURN_PERIODS[:-2]\n",
    "experiments = ['glofas_reanalysis', 'kfold_splits']\n",
    "experiment_names = {experiment: evaluation_utils.EXPERIMENT_NAMES[experiment] for experiment in experiments}\n",
    "split_names = {split: split.replace('_', ' ').title() for split in ungauged_gauge_groups['continent_splits']}\n",
    "\n",
    "for metric in ['precision', 'recall', 'f1 score']:\n",
    "    for ridx, (ax, return_period) in enumerate(zip(axes.flatten(), return_periods)):\n",
    "\n",
    "        if metric.lower() == 'precision':\n",
    "            plotdata = pd.concat(\n",
    "                [\n",
    "                    gauge_continent_df,\n",
    "                    precisions_by_lead_time['glofas_1980']['glofas_reanalysis'][lead_time][return_period].rename('glofas_reanalysis'),\n",
    "                    precisions_by_lead_time['google_1980']['kfold_splits'][lead_time][return_period].rename('kfold_splits')\n",
    "                ], axis=1\n",
    "            ).dropna()\n",
    "        elif metric.lower() == 'recall':\n",
    "            plotdata = pd.concat(\n",
    "                [\n",
    "                    gauge_continent_df,\n",
    "                    recalls_by_lead_time['glofas_1980']['glofas_reanalysis'][lead_time][return_period].rename('glofas_reanalysis'),\n",
    "                    recalls_by_lead_time['google_1980']['kfold_splits'][lead_time][return_period].rename('kfold_splits')\n",
    "                ], axis=1\n",
    "            ).dropna()\n",
    "        elif metric.lower() == 'f1 score':\n",
    "            plotdata = pd.concat(\n",
    "                [\n",
    "                    gauge_continent_df,\n",
    "                    f1s_by_lead_time['glofas_1980']['glofas_reanalysis'][lead_time][return_period].rename('glofas_reanalysis'),\n",
    "                    f1s_by_lead_time['google_1980']['kfold_splits'][lead_time][return_period].rename('kfold_splits')\n",
    "                ], axis=1\n",
    "            ).dropna()\n",
    "        else:\n",
    "            raise ValueError('Unknown metric')\n",
    "\n",
    "        plotdata.rename(columns=experiment_names, inplace=True)\n",
    "        dd = pd.melt(plotdata, id_vars=['Continent'], value_vars=experiment_names.values(), var_name='Model', value_name=metric)\n",
    "\n",
    "        # Statistical tests over continents.\n",
    "        europe_glofas_df = dd.loc[(dd['Continent'] == 'Europe') & (dd['Model'] == evaluation_utils.EXPERIMENT_NAMES['glofas_reanalysis'])]\n",
    "        for continent in set(dd['Continent']):\n",
    "            continent_google_df = dd.loc[(dd['Continent'] == continent) & (dd['Model'] == evaluation_utils.EXPERIMENT_NAMES['kfold_splits'])]\n",
    "            stats = ranksums(europe_glofas_df[metric], continent_google_df[metric])\n",
    "            d = evaluation_utils.cohen_d(continent_google_df[metric].values, europe_glofas_df[metric].values)\n",
    "\n",
    "            if stats.statistic > 0 and stats.pvalue > 1e-2:\n",
    "                print(f'--- Test Against GloFAS Europe: {metric =} --- {continent =} --- {return_period =} ----')\n",
    "                print(stats, d)\n",
    "                frac_diff = (europe_glofas_df[metric].mean() - continent_google_df[metric].mean()) / europe_glofas_df[metric].mean()\n",
    "                print(frac_diff)\n",
    "                print('-------------------------------------------------------------------------------\\n')"
   ]
  },
  {
   "cell_type": "markdown",
   "metadata": {},
   "source": [
    "# Continent-by-Continent Statistical Tests"
   ]
  },
  {
   "cell_type": "code",
   "execution_count": 14,
   "metadata": {},
   "outputs": [
    {
     "name": "stdout",
     "output_type": "stream",
     "text": [
      "--- Continent-to-Continent Test: metric='precision' --- continent='Europe' --- return_period=1.01 ----\n",
      "Mean Difference: 0.07675388260284705\n",
      "WilcoxonResult(statistic=97941.5, pvalue=1.0920961734193188e-39) 0.3579100279272215\n",
      "-------------------------------------------------------\n",
      "\n",
      "--- Continent-to-Continent Test: metric='precision' --- continent='South West Pacific' --- return_period=1.01 ----\n",
      "Mean Difference: 0.08766843629476995\n",
      "WilcoxonResult(statistic=13471.0, pvalue=1.944093339510493e-17) 0.44491783167864524\n",
      "-------------------------------------------------------\n",
      "\n",
      "--- Continent-to-Continent Test: metric='precision' --- continent='Africa' --- return_period=1.01 ----\n",
      "Mean Difference: 0.00511287913176367\n",
      "WilcoxonResult(statistic=42702.0, pvalue=0.27536593419158106) 0.030960631064954783\n",
      "!!!!!!!!!!!!\n",
      "-------------------------------------------------------\n",
      "\n",
      "--- Continent-to-Continent Test: metric='precision' --- continent='South America' --- return_period=1.01 ----\n",
      "Mean Difference: 0.029136826482259237\n",
      "WilcoxonResult(statistic=13982.0, pvalue=0.001463964315321136) 0.15672854325758484\n",
      "-------------------------------------------------------\n",
      "\n",
      "--- Continent-to-Continent Test: metric='precision' --- continent='North America' --- return_period=1.01 ----\n",
      "Mean Difference: 0.10959360684545072\n",
      "WilcoxonResult(statistic=225032.0, pvalue=4.463105271706565e-97) 0.5016756316407883\n",
      "-------------------------------------------------------\n",
      "\n",
      "--- Continent-to-Continent Test: metric='precision' --- continent='Europe' --- return_period=2 ----\n",
      "Mean Difference: 0.08791229114449434\n",
      "WilcoxonResult(statistic=89353.0, pvalue=6.631878366073907e-41) 0.427698704140614\n",
      "-------------------------------------------------------\n",
      "\n",
      "--- Continent-to-Continent Test: metric='precision' --- continent='South West Pacific' --- return_period=2 ----\n",
      "Mean Difference: 0.1944347115953069\n",
      "WilcoxonResult(statistic=4228.5, pvalue=2.0432220381141883e-42) 0.9532499348209259\n",
      "-------------------------------------------------------\n",
      "\n",
      "--- Continent-to-Continent Test: metric='precision' --- continent='Africa' --- return_period=2 ----\n",
      "Mean Difference: 0.06411164329575408\n",
      "WilcoxonResult(statistic=20181.0, pvalue=1.2650088908550258e-14) 0.29896396581302015\n",
      "-------------------------------------------------------\n",
      "\n",
      "--- Continent-to-Continent Test: metric='precision' --- continent='South America' --- return_period=2 ----\n",
      "Mean Difference: 0.08864194264739078\n",
      "WilcoxonResult(statistic=6503.0, pvalue=1.1855745499715488e-19) 0.5384980819226924\n",
      "-------------------------------------------------------\n",
      "\n",
      "--- Continent-to-Continent Test: metric='precision' --- continent='North America' --- return_period=2 ----\n",
      "Mean Difference: 0.1168766061643568\n",
      "WilcoxonResult(statistic=194175.5, pvalue=6.885325937578185e-108) 0.5984899845091396\n",
      "-------------------------------------------------------\n",
      "\n",
      "--- Continent-to-Continent Test: metric='precision' --- continent='Europe' --- return_period=5 ----\n",
      "Mean Difference: 0.11079346205573826\n",
      "WilcoxonResult(statistic=58577.5, pvalue=2.958907912430874e-37) 0.4454356129388339\n",
      "-------------------------------------------------------\n",
      "\n",
      "--- Continent-to-Continent Test: metric='precision' --- continent='South West Pacific' --- return_period=5 ----\n",
      "Mean Difference: 0.21158792094118684\n",
      "WilcoxonResult(statistic=3945.5, pvalue=3.237037603607242e-34) 0.8577852374460061\n",
      "-------------------------------------------------------\n",
      "\n",
      "--- Continent-to-Continent Test: metric='precision' --- continent='Africa' --- return_period=5 ----\n",
      "Mean Difference: 0.05652417765076073\n",
      "WilcoxonResult(statistic=7871.0, pvalue=2.0197983126411195e-07) 0.20954881267678296\n",
      "-------------------------------------------------------\n",
      "\n",
      "--- Continent-to-Continent Test: metric='precision' --- continent='South America' --- return_period=5 ----\n",
      "Mean Difference: 0.07631596369952312\n",
      "WilcoxonResult(statistic=5666.5, pvalue=4.076390504590768e-12) 0.4005720932500649\n",
      "-------------------------------------------------------\n",
      "\n",
      "--- Continent-to-Continent Test: metric='precision' --- continent='North America' --- return_period=5 ----\n",
      "Mean Difference: 0.129684801813832\n",
      "WilcoxonResult(statistic=176839.5, pvalue=2.6703169682479754e-81) 0.5687977942099237\n",
      "-------------------------------------------------------\n",
      "\n",
      "--- Continent-to-Continent Test: metric='precision' --- continent='Europe' --- return_period=10 ----\n",
      "Mean Difference: 0.108328382410875\n",
      "WilcoxonResult(statistic=38371.5, pvalue=1.8542171956271565e-22) 0.3758100906989074\n",
      "-------------------------------------------------------\n",
      "\n",
      "--- Continent-to-Continent Test: metric='precision' --- continent='South West Pacific' --- return_period=10 ----\n",
      "Mean Difference: 0.15978486603486605\n",
      "WilcoxonResult(statistic=4905.5, pvalue=1.2391620908502215e-13) 0.5276095445093035\n",
      "-------------------------------------------------------\n",
      "\n",
      "--- Continent-to-Continent Test: metric='precision' --- continent='Africa' --- return_period=10 ----\n",
      "Mean Difference: 0.05215835462185828\n",
      "WilcoxonResult(statistic=3263.5, pvalue=0.003540972692072458) 0.18472868450453783\n",
      "-------------------------------------------------------\n",
      "\n",
      "--- Continent-to-Continent Test: metric='precision' --- continent='South America' --- return_period=10 ----\n",
      "Mean Difference: 0.09959831292839105\n",
      "WilcoxonResult(statistic=2833.0, pvalue=3.51393480626535e-09) 0.40461330253897726\n",
      "-------------------------------------------------------\n",
      "\n",
      "--- Continent-to-Continent Test: metric='precision' --- continent='North America' --- return_period=10 ----\n",
      "Mean Difference: 0.1295399104441658\n",
      "WilcoxonResult(statistic=126472.0, pvalue=8.256252345658012e-52) 0.48410269800940725\n",
      "-------------------------------------------------------\n",
      "\n",
      "--- Continent-to-Continent Test: metric='recall' --- continent='Europe' --- return_period=1.01 ----\n",
      "Mean Difference: 0.09194690524694449\n",
      "WilcoxonResult(statistic=81850.0, pvalue=2.3400392435482585e-51) 0.4451448081510191\n",
      "-------------------------------------------------------\n",
      "\n",
      "--- Continent-to-Continent Test: metric='recall' --- continent='South West Pacific' --- return_period=1.01 ----\n",
      "Mean Difference: 0.1507462941444023\n",
      "WilcoxonResult(statistic=4157.5, pvalue=1.8940432849307382e-42) 0.8424944319427221\n",
      "-------------------------------------------------------\n",
      "\n",
      "--- Continent-to-Continent Test: metric='recall' --- continent='Africa' --- return_period=1.01 ----\n",
      "Mean Difference: 0.07517062801201055\n",
      "WilcoxonResult(statistic=15183.5, pvalue=9.347335810966022e-31) 0.595290069518143\n",
      "-------------------------------------------------------\n",
      "\n",
      "--- Continent-to-Continent Test: metric='recall' --- continent='South America' --- return_period=1.01 ----\n",
      "Mean Difference: 0.1124978906850505\n",
      "WilcoxonResult(statistic=3672.5, pvalue=5.034743861464e-30) 0.7013120189572518\n",
      "-------------------------------------------------------\n",
      "\n",
      "--- Continent-to-Continent Test: metric='recall' --- continent='North America' --- return_period=1.01 ----\n",
      "Mean Difference: 0.12473244921881821\n",
      "WilcoxonResult(statistic=173189.5, pvalue=1.30032767534471e-125) 0.6105207914356523\n",
      "-------------------------------------------------------\n",
      "\n",
      "--- Continent-to-Continent Test: metric='recall' --- continent='Europe' --- return_period=2 ----\n",
      "Mean Difference: 0.1131073811568768\n",
      "WilcoxonResult(statistic=49602.5, pvalue=5.225094470120606e-72) 0.5983551873809305\n",
      "-------------------------------------------------------\n",
      "\n",
      "--- Continent-to-Continent Test: metric='recall' --- continent='South West Pacific' --- return_period=2 ----\n",
      "Mean Difference: 0.20530917162819995\n",
      "WilcoxonResult(statistic=2239.0, pvalue=1.344771644434505e-46) 1.0725031318463194\n",
      "-------------------------------------------------------\n",
      "\n",
      "--- Continent-to-Continent Test: metric='recall' --- continent='Africa' --- return_period=2 ----\n",
      "Mean Difference: 0.08892262835066561\n",
      "WilcoxonResult(statistic=11583.0, pvalue=8.621576333890928e-29) 0.5171021259323321\n",
      "-------------------------------------------------------\n",
      "\n",
      "--- Continent-to-Continent Test: metric='recall' --- continent='South America' --- return_period=2 ----\n",
      "Mean Difference: 0.14828526631233474\n",
      "WilcoxonResult(statistic=2016.5, pvalue=3.006973652459455e-35) 0.9471073925040518\n",
      "-------------------------------------------------------\n",
      "\n",
      "--- Continent-to-Continent Test: metric='recall' --- continent='North America' --- return_period=2 ----\n",
      "Mean Difference: 0.16391625432365603\n",
      "WilcoxonResult(statistic=88548.0, pvalue=1.7375697673539998e-167) 0.8362492473209159\n",
      "-------------------------------------------------------\n",
      "\n",
      "--- Continent-to-Continent Test: metric='recall' --- continent='Europe' --- return_period=5 ----\n",
      "Mean Difference: 0.10544498988754908\n",
      "WilcoxonResult(statistic=44566.0, pvalue=4.5223601228776783e-35) 0.42779213371774877\n",
      "-------------------------------------------------------\n",
      "\n",
      "--- Continent-to-Continent Test: metric='recall' --- continent='South West Pacific' --- return_period=5 ----\n",
      "Mean Difference: 0.22697024620900058\n",
      "WilcoxonResult(statistic=3099.0, pvalue=1.737188318406281e-31) 0.8727127208537753\n",
      "-------------------------------------------------------\n",
      "\n",
      "--- Continent-to-Continent Test: metric='recall' --- continent='Africa' --- return_period=5 ----\n",
      "Mean Difference: 0.08260211619278651\n",
      "WilcoxonResult(statistic=5514.0, pvalue=2.0943708010081128e-12) 0.33705614797534744\n",
      "-------------------------------------------------------\n",
      "\n",
      "--- Continent-to-Continent Test: metric='recall' --- continent='South America' --- return_period=5 ----\n",
      "Mean Difference: 0.1179168856150642\n",
      "WilcoxonResult(statistic=2039.5, pvalue=7.172864219402426e-21) 0.6096858175325681\n",
      "-------------------------------------------------------\n",
      "\n",
      "--- Continent-to-Continent Test: metric='recall' --- continent='North America' --- return_period=5 ----\n",
      "Mean Difference: 0.1494933451325054\n",
      "WilcoxonResult(statistic=110113.0, pvalue=6.536673062689808e-100) 0.6448685632810046\n",
      "-------------------------------------------------------\n",
      "\n"
     ]
    },
    {
     "name": "stdout",
     "output_type": "stream",
     "text": [
      "--- Continent-to-Continent Test: metric='recall' --- continent='Europe' --- return_period=10 ----\n",
      "Mean Difference: 0.09258181461885168\n",
      "WilcoxonResult(statistic=29257.0, pvalue=1.8243564456812768e-17) 0.31976527035138114\n",
      "-------------------------------------------------------\n",
      "\n",
      "--- Continent-to-Continent Test: metric='recall' --- continent='South West Pacific' --- return_period=10 ----\n",
      "Mean Difference: 0.19022082018927444\n",
      "WilcoxonResult(statistic=2978.5, pvalue=1.4631419252688006e-15) 0.6046548437945427\n",
      "-------------------------------------------------------\n",
      "\n",
      "--- Continent-to-Continent Test: metric='recall' --- continent='Africa' --- return_period=10 ----\n",
      "Mean Difference: 0.09625838887743648\n",
      "WilcoxonResult(statistic=2034.5, pvalue=6.9322194380970605e-09) 0.37775984557829023\n",
      "-------------------------------------------------------\n",
      "\n",
      "--- Continent-to-Continent Test: metric='recall' --- continent='South America' --- return_period=10 ----\n",
      "Mean Difference: 0.11464604678890394\n",
      "WilcoxonResult(statistic=1397.0, pvalue=9.330670918938471e-12) 0.43512152606274707\n",
      "-------------------------------------------------------\n",
      "\n",
      "--- Continent-to-Continent Test: metric='recall' --- continent='North America' --- return_period=10 ----\n",
      "Mean Difference: 0.1339203926711961\n",
      "WilcoxonResult(statistic=89105.5, pvalue=3.9195531742043857e-50) 0.47415537311333317\n",
      "-------------------------------------------------------\n",
      "\n",
      "--- Continent-to-Continent Test: metric='f1 score' --- continent='Europe' --- return_period=1.01 ----\n",
      "Mean Difference: 0.08525868049306712\n",
      "WilcoxonResult(statistic=80834.0, pvalue=5.844724833338565e-54) 0.42189580351346784\n",
      "-------------------------------------------------------\n",
      "\n",
      "--- Continent-to-Continent Test: metric='f1 score' --- continent='South West Pacific' --- return_period=1.01 ----\n",
      "Mean Difference: 0.13142226067349122\n",
      "WilcoxonResult(statistic=5638.0, pvalue=1.0469125521161427e-37) 0.7484407782009361\n",
      "-------------------------------------------------------\n",
      "\n",
      "--- Continent-to-Continent Test: metric='f1 score' --- continent='Africa' --- return_period=1.01 ----\n",
      "Mean Difference: 0.05079293891724934\n",
      "WilcoxonResult(statistic=22802.5, pvalue=2.9798045465574444e-19) 0.38720105936186555\n",
      "-------------------------------------------------------\n",
      "\n",
      "--- Continent-to-Continent Test: metric='f1 score' --- continent='South America' --- return_period=1.01 ----\n",
      "Mean Difference: 0.09022387097451323\n",
      "WilcoxonResult(statistic=5757.0, pvalue=2.749486318699656e-22) 0.5772736293607516\n",
      "-------------------------------------------------------\n",
      "\n",
      "--- Continent-to-Continent Test: metric='f1 score' --- continent='North America' --- return_period=1.01 ----\n",
      "Mean Difference: 0.1239019987477408\n",
      "WilcoxonResult(statistic=159909.5, pvalue=1.40156758273383e-134) 0.6125303361033012\n",
      "-------------------------------------------------------\n",
      "\n",
      "--- Continent-to-Continent Test: metric='f1 score' --- continent='Europe' --- return_period=2 ----\n",
      "Mean Difference: 0.09849784737002643\n",
      "WilcoxonResult(statistic=65542.5, pvalue=1.187994642122612e-64) 0.5362961947540995\n",
      "-------------------------------------------------------\n",
      "\n",
      "--- Continent-to-Continent Test: metric='f1 score' --- continent='South West Pacific' --- return_period=2 ----\n",
      "Mean Difference: 0.1984261394113343\n",
      "WilcoxonResult(statistic=2806.0, pvalue=2.0564903817920193e-47) 1.0936245005826273\n",
      "-------------------------------------------------------\n",
      "\n",
      "--- Continent-to-Continent Test: metric='f1 score' --- continent='Africa' --- return_period=2 ----\n",
      "Mean Difference: 0.07657703569001278\n",
      "WilcoxonResult(statistic=14905.0, pvalue=1.9558919935231327e-25) 0.462881324596947\n",
      "-------------------------------------------------------\n",
      "\n",
      "--- Continent-to-Continent Test: metric='f1 score' --- continent='South America' --- return_period=2 ----\n",
      "Mean Difference: 0.11800867972848317\n",
      "WilcoxonResult(statistic=3704.0, pvalue=1.0827154776663413e-29) 0.7833373084696879\n",
      "-------------------------------------------------------\n",
      "\n",
      "--- Continent-to-Continent Test: metric='f1 score' --- continent='North America' --- return_period=2 ----\n",
      "Mean Difference: 0.14215349066309035\n",
      "WilcoxonResult(statistic=122536.0, pvalue=6.598182282797921e-154) 0.7697018358105285\n",
      "-------------------------------------------------------\n",
      "\n",
      "--- Continent-to-Continent Test: metric='f1 score' --- continent='Europe' --- return_period=5 ----\n",
      "Mean Difference: 0.10389384253313588\n",
      "WilcoxonResult(statistic=58871.0, pvalue=8.709639692523604e-41) 0.47220859165458734\n",
      "-------------------------------------------------------\n",
      "\n",
      "--- Continent-to-Continent Test: metric='f1 score' --- continent='South West Pacific' --- return_period=5 ----\n",
      "Mean Difference: 0.21659852515666878\n",
      "WilcoxonResult(statistic=3540.0, pvalue=1.0054463601370878e-36) 0.9916490610632591\n",
      "-------------------------------------------------------\n",
      "\n",
      "--- Continent-to-Continent Test: metric='f1 score' --- continent='Africa' --- return_period=5 ----\n",
      "Mean Difference: 0.06690711522088552\n",
      "WilcoxonResult(statistic=7163.0, pvalue=3.4046896413087823e-10) 0.30603547689463984\n",
      "-------------------------------------------------------\n",
      "\n",
      "--- Continent-to-Continent Test: metric='f1 score' --- continent='South America' --- return_period=5 ----\n",
      "Mean Difference: 0.09648077712695505\n",
      "WilcoxonResult(statistic=4071.5, pvalue=4.383921664162968e-18) 0.5609912516864898\n",
      "-------------------------------------------------------\n",
      "\n",
      "--- Continent-to-Continent Test: metric='f1 score' --- continent='North America' --- return_period=5 ----\n",
      "Mean Difference: 0.1396870637540249\n",
      "WilcoxonResult(statistic=151623.0, pvalue=1.4165452700730562e-100) 0.6670951559096907\n",
      "-------------------------------------------------------\n",
      "\n",
      "--- Continent-to-Continent Test: metric='f1 score' --- continent='Europe' --- return_period=10 ----\n",
      "Mean Difference: 0.09972096603640385\n",
      "WilcoxonResult(statistic=40509.0, pvalue=3.2027914988313085e-22) 0.3971592534828637\n",
      "-------------------------------------------------------\n",
      "\n",
      "--- Continent-to-Continent Test: metric='f1 score' --- continent='South West Pacific' --- return_period=10 ----\n",
      "Mean Difference: 0.18151398423004042\n",
      "WilcoxonResult(statistic=4008.0, pvalue=4.028379940451969e-18) 0.6836230394796705\n",
      "-------------------------------------------------------\n",
      "\n",
      "--- Continent-to-Continent Test: metric='f1 score' --- continent='Africa' --- return_period=10 ----\n",
      "Mean Difference: 0.0775066704790113\n",
      "WilcoxonResult(statistic=2725.5, pvalue=1.0820264317823588e-05) 0.31511269678487197\n",
      "-------------------------------------------------------\n",
      "\n",
      "--- Continent-to-Continent Test: metric='f1 score' --- continent='South America' --- return_period=10 ----\n",
      "Mean Difference: 0.11089038251835881\n",
      "WilcoxonResult(statistic=2191.0, pvalue=9.784598693595708e-14) 0.5021026283381511\n",
      "-------------------------------------------------------\n",
      "\n",
      "--- Continent-to-Continent Test: metric='f1 score' --- continent='North America' --- return_period=10 ----\n",
      "Mean Difference: 0.13216867785249314\n",
      "WilcoxonResult(statistic=119558.0, pvalue=9.623313818997658e-60) 0.5405652432593795\n",
      "-------------------------------------------------------\n",
      "\n"
     ]
    }
   ],
   "source": [
    "lead_time = 0\n",
    "return_periods = evaluation_utils.RETURN_PERIODS[:-2]\n",
    "experiments = ['glofas_reanalysis', 'kfold_splits']\n",
    "experiment_names = {experiment: evaluation_utils.EXPERIMENT_NAMES[experiment] for experiment in experiments}\n",
    "split_names = {split: split.replace('_', ' ').title() for split in ungauged_gauge_groups['continent_splits']}\n",
    "\n",
    "for metric in ['precision', 'recall', 'f1 score']:\n",
    "    for ridx, (ax, return_period) in enumerate(zip(axes.flatten(), return_periods)):\n",
    "\n",
    "        if metric.lower() == 'precision':\n",
    "            plotdata = pd.concat(\n",
    "                [\n",
    "                    gauge_continent_df,\n",
    "                    precisions_by_lead_time['glofas_1980']['glofas_reanalysis'][lead_time][return_period].rename('glofas_reanalysis'),\n",
    "                    precisions_by_lead_time['google_1980']['kfold_splits'][lead_time][return_period].rename('kfold_splits')\n",
    "                ], axis=1\n",
    "            ).dropna()\n",
    "        elif metric.lower() == 'recall':\n",
    "            plotdata = pd.concat(\n",
    "                [\n",
    "                    gauge_continent_df,\n",
    "                    recalls_by_lead_time['glofas_1980']['glofas_reanalysis'][lead_time][return_period].rename('glofas_reanalysis'),\n",
    "                    recalls_by_lead_time['google_1980']['kfold_splits'][lead_time][return_period].rename('kfold_splits')\n",
    "                ], axis=1\n",
    "            ).dropna()\n",
    "        elif metric.lower() == 'f1 score':\n",
    "            plotdata = pd.concat(\n",
    "                [\n",
    "                    gauge_continent_df,\n",
    "                    f1s_by_lead_time['glofas_1980']['glofas_reanalysis'][lead_time][return_period].rename('glofas_reanalysis'),\n",
    "                    f1s_by_lead_time['google_1980']['kfold_splits'][lead_time][return_period].rename('kfold_splits')\n",
    "                ], axis=1\n",
    "            ).dropna()\n",
    "        else:\n",
    "            raise ValueError('Unknown metric')\n",
    "\n",
    "        plotdata.rename(columns=experiment_names, inplace=True)\n",
    "        dd = pd.melt(plotdata, id_vars=['Continent'], value_vars=experiment_names.values(), var_name='Model', value_name=metric)\n",
    "\n",
    "        # Statistical tests over continents.\n",
    "        for continent in set(dd['Continent']):\n",
    "            google_df = dd.loc[(dd['Continent'] == continent) & (\n",
    "                dd['Model'] == evaluation_utils.EXPERIMENT_NAMES['kfold_splits'])]\n",
    "            glofas_df = dd.loc[(dd['Continent'] == continent) & (\n",
    "                dd['Model'] == evaluation_utils.EXPERIMENT_NAMES['glofas_reanalysis'])]\n",
    "            mean_difference = google_df[metric].mean() - glofas_df[metric].mean()\n",
    "            stats = wilcoxon(google_df[metric], glofas_df[metric])\n",
    "            d = evaluation_utils.cohen_d(google_df[metric].values, glofas_df[metric].values)\n",
    "            \n",
    "#             if mean_difference < 0 or stats.pvalue > 1e-2:\n",
    "            print(f'--- Continent-to-Continent Test: {metric=} --- {continent=} --- {return_period=} ----')\n",
    "            print('Mean Difference:', mean_difference)\n",
    "            print(stats, d)\n",
    "            if mean_difference < 0 or stats.pvalue > 1e-2: print('!!!!!!!!!!!!')\n",
    "            print('-------------------------------------------------------\\n')"
   ]
  },
  {
   "cell_type": "code",
   "execution_count": null,
   "metadata": {},
   "outputs": [],
   "source": []
  }
 ],
 "metadata": {
  "colab": {
   "last_runtime": {
    "build_target": "//intelligence/flood_forecasting/colab:notebook",
    "kind": "private"
   },
   "provenance": [
    {
     "file_id": "1U5lV5oB6crQAV7-OLTxegU4Dathhwd8Q",
     "timestamp": 1678011930641
    }
   ],
   "toc_visible": true
  },
  "kernelspec": {
   "display_name": "Python 3 (ipykernel)",
   "language": "python",
   "name": "python3"
  },
  "language_info": {
   "codemirror_mode": {
    "name": "ipython",
    "version": 3
   },
   "file_extension": ".py",
   "mimetype": "text/x-python",
   "name": "python",
   "nbconvert_exporter": "python",
   "pygments_lexer": "ipython3",
   "version": "3.11.4"
  }
 },
 "nbformat": 4,
 "nbformat_minor": 1
}
