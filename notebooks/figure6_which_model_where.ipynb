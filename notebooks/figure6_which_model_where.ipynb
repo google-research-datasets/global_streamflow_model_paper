{
 "cells": [
  {
   "cell_type": "markdown",
   "metadata": {
    "id": "dzNFopjta4Ln"
   },
   "source": [
    "# Imports"
   ]
  },
  {
   "cell_type": "code",
   "execution_count": 1,
   "metadata": {},
   "outputs": [],
   "source": [
    "%load_ext autoreload\n",
    "%autoreload 2"
   ]
  },
  {
   "cell_type": "code",
   "execution_count": 2,
   "metadata": {
    "executionInfo": {
     "elapsed": 4538,
     "status": "ok",
     "timestamp": 1686657068813,
     "user": {
      "displayName": "Grey Nearing",
      "userId": "00389065855797486266"
     },
     "user_tz": -180
    },
    "id": "2mIv77EiNGS3"
   },
   "outputs": [],
   "source": [
    "import matplotlib.pyplot as plt\n",
    "import pandas as pd\n",
    "import pickle as pkl\n",
    "import seaborn as sns\n",
    "from sklearn.metrics import confusion_matrix, r2_score"
   ]
  },
  {
   "cell_type": "code",
   "execution_count": 3,
   "metadata": {
    "executionInfo": {
     "elapsed": 5599,
     "status": "ok",
     "timestamp": 1686657075040,
     "user": {
      "displayName": "Grey Nearing",
      "userId": "00389065855797486266"
     },
     "user_tz": -180
    },
    "id": "NKOTbNQx04-D"
   },
   "outputs": [],
   "source": [
    "from backend import data_paths\n",
    "from backend import evaluation_utils\n",
    "from backend import gauge_groups_utils\n",
    "from backend import loading_utils\n",
    "from backend import metrics_utils\n",
    "from backend import skill_prediction_utils"
   ]
  },
  {
   "cell_type": "markdown",
   "metadata": {},
   "source": [
    "# Load Basin Attributes for Latitude & Longitude"
   ]
  },
  {
   "cell_type": "code",
   "execution_count": 4,
   "metadata": {},
   "outputs": [
    {
     "name": "stdout",
     "output_type": "stream",
     "text": [
      "There are 5678 gauges.\n"
     ]
    }
   ],
   "source": [
    "gauges = gauge_groups_utils.get_full_gauge_group()\n",
    "print(f'There are {len(gauges)} gauges.')"
   ]
  },
  {
   "cell_type": "code",
   "execution_count": 5,
   "metadata": {},
   "outputs": [],
   "source": [
    "attributes = loading_utils.load_attributes_file(gauges=gauges)"
   ]
  },
  {
   "cell_type": "markdown",
   "metadata": {
    "id": "3DH4JNSQM7lD"
   },
   "source": [
    "# Load Return Period Metrics"
   ]
  },
  {
   "cell_type": "code",
   "execution_count": 6,
   "metadata": {
    "executionInfo": {
     "elapsed": 82,
     "status": "ok",
     "timestamp": 1686657081409,
     "user": {
      "displayName": "Grey Nearing",
      "userId": "00389065855797486266"
     },
     "user_tz": -180
    },
    "id": "r-Ipfs2Z_YWv"
   },
   "outputs": [],
   "source": [
    "_DATASET_RETURN_PERIOD_METRICS_PATH = {\n",
    "    'google_2014': data_paths.GOOGLE_2014_RETURN_PERIOD_METRICS_DIR,\n",
    "    'google_1980': data_paths.GOOGLE_1980_RETURN_PERIOD_METRICS_DIR,\n",
    "    'glofas_2014': data_paths.GLOFAS_2014_RETURN_PERIOD_METRICS_DIR,\n",
    "    'glofas_1980': data_paths.GLOFAS_1980_RETURN_PERIOD_METRICS_DIR,\n",
    "}"
   ]
  },
  {
   "cell_type": "code",
   "execution_count": 7,
   "metadata": {
    "executionInfo": {
     "elapsed": 6111,
     "status": "ok",
     "timestamp": 1686657097555,
     "user": {
      "displayName": "Grey Nearing",
      "userId": "00389065855797486266"
     },
     "user_tz": -180
    },
    "id": "7O3Y21AUxPxS",
    "outputId": "127befc9-bb5c-480c-d1e9-62a6e8ba9a08"
   },
   "outputs": [
    {
     "name": "stdout",
     "output_type": "stream",
     "text": [
      "Working on google_2014 ...\n",
      "Finished loading google_2014. \n",
      "\n",
      "Working on google_1980 ...\n",
      "Finished loading google_1980. \n",
      "\n",
      "Working on glofas_2014 ...\n",
      "Finished loading glofas_2014. \n",
      "\n",
      "Working on glofas_1980 ...\n",
      "Finished loading glofas_1980. \n",
      "\n"
     ]
    }
   ],
   "source": [
    "precisions_by_lead_time = {}\n",
    "recalls_by_lead_time = {}\n",
    "\n",
    "precisions_by_return_period = {}\n",
    "recalls_by_return_period = {}\n",
    "\n",
    "for dataset, data_path in _DATASET_RETURN_PERIOD_METRICS_PATH.items():\n",
    "    print(f'Working on {dataset} ...')\n",
    "    file_path = data_paths.CONCATENATED_RETURN_PERIOD_DICTS_DIR / f'{dataset}_return_period_dicts.pkl'\n",
    "    with open(file_path, 'rb') as f:\n",
    "        precisions_by_lead_time[dataset], recalls_by_lead_time[dataset] = pkl.load(f)\n",
    "    print(f'Finished loading {dataset}. \\n')"
   ]
  },
  {
   "cell_type": "markdown",
   "metadata": {},
   "source": [
    "# Calculate F1 Scores from Precision & Recall"
   ]
  },
  {
   "cell_type": "code",
   "execution_count": 8,
   "metadata": {
    "executionInfo": {
     "elapsed": 920,
     "status": "ok",
     "timestamp": 1686657100636,
     "user": {
      "displayName": "Grey Nearing",
      "userId": "00389065855797486266"
     },
     "user_tz": -180
    },
    "id": "5gE4-QHOCwSC"
   },
   "outputs": [],
   "source": [
    "f1s_by_lead_time = {\n",
    "    dataset: {\n",
    "        experiment: {\n",
    "            lead_time:\n",
    "              evaluation_utils.f1_from_precision_and_recall_dfs(\n",
    "                  precision_df=precisions_by_lead_time[dataset][experiment][lead_time],\n",
    "                  recall_df=recalls_by_lead_time[dataset][experiment][lead_time]\n",
    "              ) for lead_time in data_paths.LEAD_TIMES\n",
    "        } for experiment in precisions_by_lead_time[dataset]\n",
    "    } for dataset in _DATASET_RETURN_PERIOD_METRICS_PATH\n",
    "}"
   ]
  },
  {
   "cell_type": "markdown",
   "metadata": {
    "id": "RBieOzakDzvz"
   },
   "source": [
    "# Skill Predictability"
   ]
  },
  {
   "cell_type": "markdown",
   "metadata": {},
   "source": [
    "## Extract Basin Attributes as Classifier/Regression Inputs"
   ]
  },
  {
   "cell_type": "code",
   "execution_count": 9,
   "metadata": {
    "executionInfo": {
     "elapsed": 657,
     "status": "ok",
     "timestamp": 1686133666250,
     "user": {
      "displayName": "Grey Nearing",
      "userId": "00389065855797486266"
     },
     "user_tz": -180
    },
    "id": "beH2_oGURQhr",
    "outputId": "2fe10216-2d4e-48aa-9b64-0b2f95ad20f7"
   },
   "outputs": [
    {
     "name": "stderr",
     "output_type": "stream",
     "text": [
      "/tmp/ipykernel_209265/1900861654.py:51: SettingWithCopyWarning: \n",
      "A value is trying to be set on a copy of a slice from a DataFrame\n",
      "\n",
      "See the caveats in the documentation: https://pandas.pydata.org/pandas-docs/stable/user_guide/indexing.html#returning-a-view-versus-a-copy\n",
      "  regression_attributes.rename(columns=ATTRIBUTE_DESCRIPTIVE_NAMES, inplace=True)\n"
     ]
    }
   ],
   "source": [
    "# A subset of attributes to use as predictor values. This selection is mostly\n",
    "# due to challenges in naming all the HydroATLAS variables, and the skill\n",
    "# is not affected by removing some of the landcover class variables.\n",
    "ATTRIBUTE_DESCRIPTIVE_NAMES = {\n",
    "    'calculated_drain_area': 'Drain Area',\n",
    "    'inu_pc_umn': 'Inundation Percent Min',\n",
    "    'inu_pc_umx': 'Inundation Percent Max',\n",
    "    # 'inu_pc_ult': 'Inundation Percent Long Term Maximum',\n",
    "    'lka_pc_use': 'Precent Lake Area',\n",
    "    'lkv_mc_usu': 'Lake Volume',\n",
    "    'rev_mc_usu': 'Reservoir Volume',\n",
    "    'ria_ha_usu': 'River Area',\n",
    "    'riv_tc_usu': 'River Volume',\n",
    "    'ele_mt_uav': 'Elevation',\n",
    "    'slp_dg_uav': 'Slope',\n",
    "    'tmp_dc_uyr': 'Air Temperature',\n",
    "    'pre_mm_uyr': 'Precipitation',\n",
    "    'pet_mm_uyr': 'PET',\n",
    "    'aet_mm_uyr': 'AET',\n",
    "    'ari_ix_uav': 'Aridity Index',\n",
    "    'cmi_ix_uyr': 'Climate Moisture Index',\n",
    "    'snw_pc_uyr': 'Snow Cover Extent',\n",
    "    'for_pc_use': 'Forest Cover Extent',\n",
    "    'crp_pc_use': 'Cropland Extent',\n",
    "    'pst_pc_use': 'Pastiure Extent',\n",
    "    'ire_pc_use': 'Irrigated Area Extent',\n",
    "    'gla_pc_use': 'Glacier Extent',\n",
    "    'prm_pc_use': 'Permafrost Extent',\n",
    "    'pac_pc_use': 'Protected Area Extent',\n",
    "    'cly_pc_uav': 'Soil Clay Fraction',\n",
    "    'slt_pc_uav': 'Soil Silt Fraction',\n",
    "    'snd_pc_uav': 'Soil Sand Fraction',\n",
    "    'soc_th_uav': 'Soil Organic Carbon',\n",
    "    'swc_pc_uyr': 'Soil Water Content',\n",
    "    'kar_pc_use': 'Karst Area Extent',\n",
    "    'ero_kh_uav': 'Soil Erosion',\n",
    "    'pop_ct_usu': 'Population Count',\n",
    "    'ppd_pk_uav': 'Population Density',\n",
    "    'urb_pc_use': 'Urban Area Extent',\n",
    "    'nli_ix_uav': 'Nighttime Lights Index',\n",
    "    # 'rdd_mk_uav': 'Road Density',\n",
    "    # 'hft_ix_u93': 'Human Footprint 1993',\n",
    "    # 'hft_ix_u09': 'Human Footprint 2009',\n",
    "    'gdp_ud_usu': 'GDP',\n",
    "    # 'latitude': 'latitude',\n",
    "    # 'longitude': 'longitude',\n",
    "}\n",
    "\n",
    "# Select the subset of attributes.\n",
    "regression_attributes = attributes[ATTRIBUTE_DESCRIPTIVE_NAMES.keys()]\n",
    "regression_attributes.rename(columns=ATTRIBUTE_DESCRIPTIVE_NAMES, inplace=True)\n",
    "\n",
    "# Normalize the attributes.\n",
    "regression_attributes = (regression_attributes - regression_attributes.mean()) / regression_attributes.std()"
   ]
  },
  {
   "cell_type": "markdown",
   "metadata": {},
   "source": [
    "## Hyperparameters for Reliability Score Predictions"
   ]
  },
  {
   "cell_type": "code",
   "execution_count": 10,
   "metadata": {
    "id": "H3_VhHwlG9l2"
   },
   "outputs": [],
   "source": [
    "# Hyperparamters for reliability score predictions.\n",
    "lead_time = 0\n",
    "return_period = 5\n",
    "metric='F1 Score'"
   ]
  },
  {
   "cell_type": "markdown",
   "metadata": {},
   "source": [
    "# Predict Which Model is Better Where"
   ]
  },
  {
   "cell_type": "code",
   "execution_count": 11,
   "metadata": {
    "id": "Oe3OUYdsgQV8",
    "scrolled": true
   },
   "outputs": [
    {
     "name": "stdout",
     "output_type": "stream",
     "text": [
      "There are 36 predictors.\n",
      "There are 3360 samples.\n"
     ]
    },
    {
     "name": "stderr",
     "output_type": "stream",
     "text": [
      "\r",
      "0it [00:00, ?it/s]"
     ]
    },
    {
     "name": "stdout",
     "output_type": "stream",
     "text": [
      "Training fold # 0\n"
     ]
    },
    {
     "name": "stderr",
     "output_type": "stream",
     "text": [
      "\r",
      "1it [00:02,  2.79s/it]"
     ]
    },
    {
     "name": "stdout",
     "output_type": "stream",
     "text": [
      "Training fold # 1\n"
     ]
    },
    {
     "name": "stderr",
     "output_type": "stream",
     "text": [
      "\r",
      "2it [00:05,  2.80s/it]"
     ]
    },
    {
     "name": "stdout",
     "output_type": "stream",
     "text": [
      "Training fold # 2\n"
     ]
    },
    {
     "name": "stderr",
     "output_type": "stream",
     "text": [
      "\r",
      "3it [00:08,  2.79s/it]"
     ]
    },
    {
     "name": "stdout",
     "output_type": "stream",
     "text": [
      "Training fold # 3\n"
     ]
    },
    {
     "name": "stderr",
     "output_type": "stream",
     "text": [
      "\r",
      "4it [00:11,  2.78s/it]"
     ]
    },
    {
     "name": "stdout",
     "output_type": "stream",
     "text": [
      "Training fold # 4\n"
     ]
    },
    {
     "name": "stderr",
     "output_type": "stream",
     "text": [
      "\r",
      "5it [00:13,  2.79s/it]"
     ]
    },
    {
     "name": "stdout",
     "output_type": "stream",
     "text": [
      "Training fold # 5\n"
     ]
    },
    {
     "name": "stderr",
     "output_type": "stream",
     "text": [
      "\r",
      "6it [00:16,  2.80s/it]"
     ]
    },
    {
     "name": "stdout",
     "output_type": "stream",
     "text": [
      "Training fold # 6\n"
     ]
    },
    {
     "name": "stderr",
     "output_type": "stream",
     "text": [
      "\r",
      "7it [00:19,  2.79s/it]"
     ]
    },
    {
     "name": "stdout",
     "output_type": "stream",
     "text": [
      "Training fold # 7\n"
     ]
    },
    {
     "name": "stderr",
     "output_type": "stream",
     "text": [
      "\r",
      "8it [00:22,  2.80s/it]"
     ]
    },
    {
     "name": "stdout",
     "output_type": "stream",
     "text": [
      "Training fold # 8\n"
     ]
    },
    {
     "name": "stderr",
     "output_type": "stream",
     "text": [
      "\r",
      "9it [00:25,  2.80s/it]"
     ]
    },
    {
     "name": "stdout",
     "output_type": "stream",
     "text": [
      "Training fold # 9\n"
     ]
    },
    {
     "name": "stderr",
     "output_type": "stream",
     "text": [
      "\r",
      "10it [00:27,  2.79s/it]"
     ]
    },
    {
     "name": "stdout",
     "output_type": "stream",
     "text": [
      "Training fold # 10\n"
     ]
    },
    {
     "name": "stderr",
     "output_type": "stream",
     "text": [
      "\r",
      "11it [00:30,  2.79s/it]"
     ]
    },
    {
     "name": "stdout",
     "output_type": "stream",
     "text": [
      "Training fold # 11\n"
     ]
    },
    {
     "name": "stderr",
     "output_type": "stream",
     "text": [
      "\r",
      "12it [00:33,  2.81s/it]"
     ]
    },
    {
     "name": "stdout",
     "output_type": "stream",
     "text": [
      "Training fold # 12\n"
     ]
    },
    {
     "name": "stderr",
     "output_type": "stream",
     "text": [
      "\r",
      "13it [00:36,  2.82s/it]"
     ]
    },
    {
     "name": "stdout",
     "output_type": "stream",
     "text": [
      "Training fold # 13\n"
     ]
    },
    {
     "name": "stderr",
     "output_type": "stream",
     "text": [
      "\r",
      "14it [00:39,  2.81s/it]"
     ]
    },
    {
     "name": "stdout",
     "output_type": "stream",
     "text": [
      "Training fold # 14\n"
     ]
    },
    {
     "name": "stderr",
     "output_type": "stream",
     "text": [
      "\r",
      "15it [00:42,  2.84s/it]"
     ]
    },
    {
     "name": "stdout",
     "output_type": "stream",
     "text": [
      "Training fold # 15\n"
     ]
    },
    {
     "name": "stderr",
     "output_type": "stream",
     "text": [
      "\r",
      "16it [00:45,  3.00s/it]"
     ]
    },
    {
     "name": "stdout",
     "output_type": "stream",
     "text": [
      "Training fold # 16\n"
     ]
    },
    {
     "name": "stderr",
     "output_type": "stream",
     "text": [
      "\r",
      "17it [00:48,  2.95s/it]"
     ]
    },
    {
     "name": "stdout",
     "output_type": "stream",
     "text": [
      "Training fold # 17\n"
     ]
    },
    {
     "name": "stderr",
     "output_type": "stream",
     "text": [
      "\r",
      "18it [00:51,  2.90s/it]"
     ]
    },
    {
     "name": "stdout",
     "output_type": "stream",
     "text": [
      "Training fold # 18\n"
     ]
    },
    {
     "name": "stderr",
     "output_type": "stream",
     "text": [
      "\r",
      "19it [00:54,  2.90s/it]"
     ]
    },
    {
     "name": "stdout",
     "output_type": "stream",
     "text": [
      "Training fold # 19\n"
     ]
    },
    {
     "name": "stderr",
     "output_type": "stream",
     "text": [
      "\r",
      "20it [00:56,  2.87s/it]"
     ]
    },
    {
     "name": "stdout",
     "output_type": "stream",
     "text": [
      "Training fold # 20\n"
     ]
    },
    {
     "name": "stderr",
     "output_type": "stream",
     "text": [
      "\r",
      "21it [00:59,  2.85s/it]"
     ]
    },
    {
     "name": "stdout",
     "output_type": "stream",
     "text": [
      "Training fold # 21\n"
     ]
    },
    {
     "name": "stderr",
     "output_type": "stream",
     "text": [
      "\r",
      "22it [01:02,  2.82s/it]"
     ]
    },
    {
     "name": "stdout",
     "output_type": "stream",
     "text": [
      "Training fold # 22\n"
     ]
    },
    {
     "name": "stderr",
     "output_type": "stream",
     "text": [
      "\r",
      "23it [01:05,  2.81s/it]"
     ]
    },
    {
     "name": "stdout",
     "output_type": "stream",
     "text": [
      "Training fold # 23\n"
     ]
    },
    {
     "name": "stderr",
     "output_type": "stream",
     "text": [
      "\r",
      "24it [01:07,  2.80s/it]"
     ]
    },
    {
     "name": "stdout",
     "output_type": "stream",
     "text": [
      "Training fold # 24\n"
     ]
    },
    {
     "name": "stderr",
     "output_type": "stream",
     "text": [
      "25it [01:10,  2.83s/it]\n"
     ]
    }
   ],
   "source": [
    "glofas_data = f1s_by_lead_time['glofas_1980'][metrics_utils.GLOFAS_VARIABLE][\n",
    "    lead_time][return_period].dropna().rename('glofas')\n",
    "google_data = f1s_by_lead_time['google_1980']['kfold_splits'][\n",
    "    lead_time][return_period].dropna().rename('google')\n",
    "\n",
    "regression_data = pd.concat([glofas_data, google_data], axis=1).dropna()\n",
    "regression_data = (regression_data['glofas'] - regression_data['google']).rename('winner')\n",
    "\n",
    "bins = [-1e100, -1e-6, 1e-6, 1e100]\n",
    "\n",
    "metric = 'winner'\n",
    "x, y = skill_prediction_utils.make_predictors(\n",
    "    x=regression_attributes,\n",
    "    y=regression_data,\n",
    "    metric=metric,\n",
    "    bins=bins\n",
    ")\n",
    "\n",
    "y_hat = skill_prediction_utils.train_kfold(\n",
    "    x, y,\n",
    "    classifier=True\n",
    "#     regression=True\n",
    ")"
   ]
  },
  {
   "cell_type": "code",
   "execution_count": 13,
   "metadata": {},
   "outputs": [
    {
     "data": {
      "image/png": "[encoded data removed]",
      "text/plain": [
       "<Figure size 350.394x350.394 with 1 Axes>"
      ]
     },
     "metadata": {},
     "output_type": "display_data"
    }
   ],
   "source": [
    "fig, ax = plt.subplots(\n",
    "    1, 1, \n",
    "    figsize=(\n",
    "        evaluation_utils.NATURE_FIG_SIZES['one_column'],\n",
    "        evaluation_utils.NATURE_FIG_SIZES['one_column']\n",
    "    )\n",
    ")\n",
    "\n",
    "cm = confusion_matrix(y, y_hat, normalize='true')\n",
    "sns.heatmap(cm, annot=True, fmt='.2g', ax=ax, cbar=False)\n",
    "ax.set_aspect('equal', 'box')\n",
    "ax.set_xlabel(\n",
    "    'Predicted Labels', \n",
    "    fontsize=12\n",
    ")\n",
    "ax.set_ylabel(\n",
    "    'True Labels', \n",
    "    fontsize=12\n",
    ")\n",
    "ax.set_title(\n",
    "    'Which Model Where?', \n",
    "    fontsize=14\n",
    ");\n",
    "ax.xaxis.set_ticklabels(\n",
    "    ['AI Model', 'Tied', 'GloFAS'],\n",
    "    fontsize=10\n",
    ")\n",
    "ax.yaxis.set_ticklabels(\n",
    "    ['AI Model', 'Tied', 'GloFAS'], \n",
    "    fontsize=10\n",
    ")\n",
    "\n",
    "plt.tight_layout()\n",
    "\n",
    "evaluation_utils.save_figure(data_paths.PREDICTABILITY_WHICH_MODEL_IS_BETTER)"
   ]
  },
  {
   "cell_type": "code",
   "execution_count": null,
   "metadata": {},
   "outputs": [],
   "source": []
  }
 ],
 "metadata": {
  "colab": {
   "last_runtime": {
    "build_target": "//intelligence/flood_forecasting/colab:notebook",
    "kind": "private"
   },
   "provenance": [
    {
     "file_id": "1U5lV5oB6crQAV7-OLTxegU4Dathhwd8Q",
     "timestamp": 1678011930641
    }
   ],
   "toc_visible": true
  },
  "kernelspec": {
   "display_name": "Python 3 (ipykernel)",
   "language": "python",
   "name": "python3"
  },
  "language_info": {
   "codemirror_mode": {
    "name": "ipython",
    "version": 3
   },
   "file_extension": ".py",
   "mimetype": "text/x-python",
   "name": "python",
   "nbconvert_exporter": "python",
   "pygments_lexer": "ipython3",
   "version": "3.11.4"
  }
 },
 "nbformat": 4,
 "nbformat_minor": 1
}
