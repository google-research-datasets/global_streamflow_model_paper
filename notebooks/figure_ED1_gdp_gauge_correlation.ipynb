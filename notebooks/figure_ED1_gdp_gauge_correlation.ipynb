{
 "cells": [
  {
   "cell_type": "markdown",
   "metadata": {
    "id": "dzNFopjta4Ln"
   },
   "source": [
    "# Imports"
   ]
  },
  {
   "cell_type": "code",
   "execution_count": 1,
   "metadata": {},
   "outputs": [],
   "source": [
    "%load_ext autoreload\n",
    "%autoreload 2"
   ]
  },
  {
   "cell_type": "code",
   "execution_count": 2,
   "metadata": {
    "executionInfo": {
     "elapsed": 4538,
     "status": "ok",
     "timestamp": 1686657068813,
     "user": {
      "displayName": "Grey Nearing",
      "userId": "00389065855797486266"
     },
     "user_tz": -180
    },
    "id": "2mIv77EiNGS3"
   },
   "outputs": [],
   "source": [
    "import matplotlib as mpl\n",
    "import numpy as np\n",
    "import pandas as pd"
   ]
  },
  {
   "cell_type": "code",
   "execution_count": 3,
   "metadata": {
    "executionInfo": {
     "elapsed": 5599,
     "status": "ok",
     "timestamp": 1686657075040,
     "user": {
      "displayName": "Grey Nearing",
      "userId": "00389065855797486266"
     },
     "user_tz": -180
    },
    "id": "NKOTbNQx04-D"
   },
   "outputs": [],
   "source": [
    "from backend import data_paths\n",
    "from backend import evaluation_utils\n",
    "from backend import gauge_groups_utils\n",
    "from backend import loading_utils"
   ]
  },
  {
   "cell_type": "markdown",
   "metadata": {
    "id": "o5BIIjFO-12n"
   },
   "source": [
    "# Full Gauge Group"
   ]
  },
  {
   "cell_type": "code",
   "execution_count": 4,
   "metadata": {
    "executionInfo": {
     "elapsed": 61,
     "status": "ok",
     "timestamp": 1686657076460,
     "user": {
      "displayName": "Grey Nearing",
      "userId": "00389065855797486266"
     },
     "user_tz": -180
    },
    "id": "Zw4lousoGI9H",
    "outputId": "1a2074cd-9fc1-4b74-844b-07dbdd8f692a"
   },
   "outputs": [
    {
     "name": "stdout",
     "output_type": "stream",
     "text": [
      "There are 5678 gauges.\n"
     ]
    }
   ],
   "source": [
    "gauges = gauge_groups_utils.get_full_gauge_group()\n",
    "print(f'There are {len(gauges)} gauges.')"
   ]
  },
  {
   "cell_type": "markdown",
   "metadata": {
    "id": "BjblGxNh_obX"
   },
   "source": [
    "# Record Lengths"
   ]
  },
  {
   "cell_type": "code",
   "execution_count": 5,
   "metadata": {
    "executionInfo": {
     "elapsed": 268,
     "status": "ok",
     "timestamp": 1686657080738,
     "user": {
      "displayName": "Grey Nearing",
      "userId": "00389065855797486266"
     },
     "user_tz": -180
    },
    "id": "NroDJUqcF0Kd"
   },
   "outputs": [],
   "source": [
    "attributes = loading_utils.load_attributes_file(gauges=gauges)"
   ]
  },
  {
   "cell_type": "code",
   "execution_count": 6,
   "metadata": {
    "executionInfo": {
     "elapsed": 59,
     "status": "ok",
     "timestamp": 1686657082969,
     "user": {
      "displayName": "Grey Nearing",
      "userId": "00389065855797486266"
     },
     "user_tz": -180
    },
    "id": "2JkxfRyTBHbl",
    "outputId": "1c21a6f4-229f-47a7-8e49-317d9b081bc4"
   },
   "outputs": [
    {
     "name": "stdout",
     "output_type": "stream",
     "text": [
      "There are 5678 gauges in 118 countries.\n"
     ]
    }
   ],
   "source": [
    "gauge_to_country_mapping = loading_utils.load_gauge_country_file()\n",
    "gauge_to_country_mapping = gauge_to_country_mapping.loc[gauges]\n",
    "countries = set(gauge_to_country_mapping['Country'])\n",
    "print(f'There are {len(gauge_to_country_mapping)} gauges in {len(countries)} countries.')"
   ]
  },
  {
   "cell_type": "code",
   "execution_count": 7,
   "metadata": {
    "executionInfo": {
     "elapsed": 64,
     "status": "ok",
     "timestamp": 1686657083625,
     "user": {
      "displayName": "Grey Nearing",
      "userId": "00389065855797486266"
     },
     "user_tz": -180
    },
    "id": "OGd2ozUseYsM"
   },
   "outputs": [],
   "source": [
    "record_lengths_df = loading_utils.load_grdc_record_length_file()\n",
    "record_length_country_df = pd.concat([gauge_to_country_mapping, record_lengths_df], axis=1)\n",
    "record_lengths_by_country = record_length_country_df.groupby('Country')['Record Length'].sum()"
   ]
  },
  {
   "cell_type": "markdown",
   "metadata": {
    "id": "Ppn6xXKYBHbk"
   },
   "source": [
    "# GDP Data"
   ]
  },
  {
   "cell_type": "code",
   "execution_count": 8,
   "metadata": {
    "executionInfo": {
     "elapsed": 171,
     "status": "ok",
     "timestamp": 1686657084349,
     "user": {
      "displayName": "Grey Nearing",
      "userId": "00389065855797486266"
     },
     "user_tz": -180
    },
    "id": "FOkzFfrqBHbn",
    "outputId": "124c4d2f-7b47-405b-bcfe-9199979147ef"
   },
   "outputs": [
    {
     "name": "stdout",
     "output_type": "stream",
     "text": [
      "There are 266 countries with GDP data.\n",
      "Of those, 117 overlap with countries that have gauges.\n"
     ]
    }
   ],
   "source": [
    "most_recent_gdp = loading_utils.load_gdp_file()\n",
    "print(f'There are {len(most_recent_gdp)} countries with GDP data.')\n",
    "print(f'Of those, {len(set(most_recent_gdp.index).intersection(set(countries)))} overlap with countries that have gauges.')"
   ]
  },
  {
   "cell_type": "code",
   "execution_count": 9,
   "metadata": {
    "executionInfo": {
     "elapsed": 83,
     "status": "ok",
     "timestamp": 1686657085124,
     "user": {
      "displayName": "Grey Nearing",
      "userId": "00389065855797486266"
     },
     "user_tz": -180
    },
    "id": "cWJd_mPyBHbo",
    "outputId": "9b433cf4-d4a7-456f-d9e3-a80722f8fd3b"
   },
   "outputs": [
    {
     "name": "stdout",
     "output_type": "stream",
     "text": [
      "nan\n"
     ]
    }
   ],
   "source": [
    "gdp_per_gauge = {}\n",
    "for gauge in gauges:\n",
    "    country = gauge_to_country_mapping.loc[gauge, 'Country']\n",
    "    if country not in most_recent_gdp.index:\n",
    "        print(country)\n",
    "        continue\n",
    "    gdp_per_gauge[gauge] = most_recent_gdp.loc[country]\n",
    "\n",
    "gdp_per_gauge = pd.Series(gdp_per_gauge).rename('GDP')\n",
    "log_gdp_per_gauge = np.log(gdp_per_gauge).rename('log GDP')"
   ]
  },
  {
   "cell_type": "code",
   "execution_count": 10,
   "metadata": {
    "executionInfo": {
     "elapsed": 4,
     "status": "ok",
     "timestamp": 1686657086103,
     "user": {
      "displayName": "Grey Nearing",
      "userId": "00389065855797486266"
     },
     "user_tz": -180
    },
    "id": "fEagpTDzBHbo"
   },
   "outputs": [],
   "source": [
    "# Use this commented code to find names of countries in the GDP dataset.\n",
    "# [idx for idx in most_recent_gdp.index if 'lao' in idx.lower()]"
   ]
  },
  {
   "cell_type": "markdown",
   "metadata": {
    "id": "KTCRa-sKdeyy"
   },
   "source": [
    "# Plot Correlation"
   ]
  },
  {
   "cell_type": "code",
   "execution_count": 11,
   "metadata": {
    "colab": {
     "height": 393
    },
    "executionInfo": {
     "elapsed": 1809,
     "status": "ok",
     "timestamp": 1686131761078,
     "user": {
      "displayName": "Grey Nearing",
      "userId": "00389065855797486266"
     },
     "user_tz": -180
    },
    "id": "Hz54Cn8Ldk_L",
    "outputId": "049ce8e2-49e6-417d-e219-4ffd24e2e21d"
   },
   "outputs": [
    {
     "name": "stderr",
     "output_type": "stream",
     "text": [
      "/home/gsnearing/github_repo/global_streamflow_model_paper/notebooks/backend/evaluation_utils.py:359: UserWarning: FixedFormatter should only be used together with FixedLocator\n",
      "  ax.set_xticklabels(\n",
      "/home/gsnearing/github_repo/global_streamflow_model_paper/notebooks/backend/evaluation_utils.py:363: UserWarning: FixedFormatter should only be used together with FixedLocator\n",
      "  ax.set_yticklabels(\n"
     ]
    },
    {
     "data": {
      "image/png": "[encoded data removed]",
      "text/plain": [
       "<Figure size 350.394x262.795 with 1 Axes>"
      ]
     },
     "metadata": {},
     "output_type": "display_data"
    }
   ],
   "source": [
    "evaluation_utils.plot_gdp_gauge_record_correlation(\n",
    "    most_recent_gdp,\n",
    "    record_lengths_by_country,\n",
    "    all_labels=False\n",
    ")\n",
    "evaluation_utils.save_figure(data_paths.GDP_GRDC_RECORD_LENGTH_CORRELATION_FILENAME)"
   ]
  },
  {
   "cell_type": "code",
   "execution_count": null,
   "metadata": {},
   "outputs": [],
   "source": []
  }
 ],
 "metadata": {
  "colab": {
   "last_runtime": {
    "build_target": "//intelligence/flood_forecasting/colab:notebook",
    "kind": "private"
   },
   "provenance": [
    {
     "file_id": "1U5lV5oB6crQAV7-OLTxegU4Dathhwd8Q",
     "timestamp": 1678011930641
    }
   ],
   "toc_visible": true
  },
  "kernelspec": {
   "display_name": "Python 3 (ipykernel)",
   "language": "python",
   "name": "python3"
  },
  "language_info": {
   "codemirror_mode": {
    "name": "ipython",
    "version": 3
   },
   "file_extension": ".py",
   "mimetype": "text/x-python",
   "name": "python",
   "nbconvert_exporter": "python",
   "pygments_lexer": "ipython3",
   "version": "3.11.4"
  }
 },
 "nbformat": 4,
 "nbformat_minor": 1
}
